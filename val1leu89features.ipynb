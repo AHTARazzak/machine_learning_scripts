{
 "cells": [
  {
   "cell_type": "code",
   "execution_count": 90,
   "metadata": {},
   "outputs": [],
   "source": [
    "import pandas as pd\n",
    "import numpy as np\n",
    "import matplotlib.pyplot as plt\n",
    "import seaborn as sns\n",
    "from sklearn import preprocessing\n",
    "from sklearn import model_selection\n",
    "from sklearn.model_selection import cross_val_score\n",
    "from sklearn.metrics import accuracy_score, f1_score, classification_report, precision_score, recall_score, confusion_matrix\n",
    "from sklearn import tree\n",
    "from sklearn import svm\n",
    "from sklearn.model_selection import train_test_split\n",
    "from imblearn.over_sampling import RandomOverSampler,SMOTE, ADASYN\n",
    "from sklearn.ensemble import RandomForestClassifier\n",
    "from sklearn.linear_model import LogisticRegression\n",
    "from sklearn.linear_model import LinearRegression\n",
    "from sklearn.tree import DecisionTreeClassifier\n",
    "import matplotlib\n",
    "from sklearn.svm import SVC\n",
    "from sklearn.neighbors import KNeighborsClassifier\n",
    "from sklearn.metrics import r2_score\n",
    "import statsmodels.api as sm\n",
    "from sklearn.linear_model import RidgeCV, LassoCV, Ridge, Lasso"
   ]
  },
  {
   "cell_type": "code",
   "execution_count": 98,
   "metadata": {},
   "outputs": [
    {
     "data": {
      "text/html": [
       "<div>\n",
       "<style scoped>\n",
       "    .dataframe tbody tr th:only-of-type {\n",
       "        vertical-align: middle;\n",
       "    }\n",
       "\n",
       "    .dataframe tbody tr th {\n",
       "        vertical-align: top;\n",
       "    }\n",
       "\n",
       "    .dataframe thead th {\n",
       "        text-align: right;\n",
       "    }\n",
       "</style>\n",
       "<table border=\"1\" class=\"dataframe\">\n",
       "  <thead>\n",
       "    <tr style=\"text-align: right;\">\n",
       "      <th></th>\n",
       "      <th>location</th>\n",
       "      <th>89SCRMSD</th>\n",
       "      <th>89CARMSD</th>\n",
       "      <th>89CHI1</th>\n",
       "      <th>89CHI2</th>\n",
       "      <th>89SELFALL</th>\n",
       "      <th>89MBALL</th>\n",
       "      <th>89SCHBOND#</th>\n",
       "      <th>1SCRMSD</th>\n",
       "      <th>1CARMSD</th>\n",
       "      <th>1CHI1</th>\n",
       "      <th>1SELFALL</th>\n",
       "      <th>1MBALL</th>\n",
       "    </tr>\n",
       "  </thead>\n",
       "  <tbody>\n",
       "    <tr>\n",
       "      <th>0</th>\n",
       "      <td>LOW</td>\n",
       "      <td>0.515069</td>\n",
       "      <td>0.350842</td>\n",
       "      <td>-150.092697</td>\n",
       "      <td>71.953712</td>\n",
       "      <td>22.562298</td>\n",
       "      <td>-36.467733</td>\n",
       "      <td>2</td>\n",
       "      <td>1.568011</td>\n",
       "      <td>1.055787</td>\n",
       "      <td>-61.797108</td>\n",
       "      <td>30.506019</td>\n",
       "      <td>-14.247127</td>\n",
       "    </tr>\n",
       "    <tr>\n",
       "      <th>1</th>\n",
       "      <td>LOW</td>\n",
       "      <td>0.787677</td>\n",
       "      <td>0.541117</td>\n",
       "      <td>-154.674469</td>\n",
       "      <td>53.610481</td>\n",
       "      <td>24.491225</td>\n",
       "      <td>-37.355613</td>\n",
       "      <td>2</td>\n",
       "      <td>1.659590</td>\n",
       "      <td>0.824245</td>\n",
       "      <td>-60.938320</td>\n",
       "      <td>34.095296</td>\n",
       "      <td>-14.991049</td>\n",
       "    </tr>\n",
       "    <tr>\n",
       "      <th>2</th>\n",
       "      <td>LOW</td>\n",
       "      <td>0.396667</td>\n",
       "      <td>0.230626</td>\n",
       "      <td>-152.342285</td>\n",
       "      <td>60.500778</td>\n",
       "      <td>22.509511</td>\n",
       "      <td>-38.493650</td>\n",
       "      <td>1</td>\n",
       "      <td>1.517055</td>\n",
       "      <td>0.841862</td>\n",
       "      <td>-69.462982</td>\n",
       "      <td>30.747258</td>\n",
       "      <td>-16.671618</td>\n",
       "    </tr>\n",
       "    <tr>\n",
       "      <th>3</th>\n",
       "      <td>LOW</td>\n",
       "      <td>0.632679</td>\n",
       "      <td>0.410374</td>\n",
       "      <td>-152.954163</td>\n",
       "      <td>50.767406</td>\n",
       "      <td>24.164847</td>\n",
       "      <td>-36.970259</td>\n",
       "      <td>1</td>\n",
       "      <td>1.238364</td>\n",
       "      <td>0.782494</td>\n",
       "      <td>-57.272846</td>\n",
       "      <td>33.247824</td>\n",
       "      <td>-16.085057</td>\n",
       "    </tr>\n",
       "    <tr>\n",
       "      <th>4</th>\n",
       "      <td>LOW</td>\n",
       "      <td>0.220952</td>\n",
       "      <td>0.191661</td>\n",
       "      <td>-148.850998</td>\n",
       "      <td>61.249680</td>\n",
       "      <td>23.510828</td>\n",
       "      <td>-36.040206</td>\n",
       "      <td>1</td>\n",
       "      <td>1.564616</td>\n",
       "      <td>0.991292</td>\n",
       "      <td>-75.141563</td>\n",
       "      <td>30.169681</td>\n",
       "      <td>-18.559962</td>\n",
       "    </tr>\n",
       "  </tbody>\n",
       "</table>\n",
       "</div>"
      ],
      "text/plain": [
       "  location  89SCRMSD  89CARMSD      89CHI1     89CHI2  89SELFALL    89MBALL  \\\n",
       "0      LOW  0.515069  0.350842 -150.092697  71.953712  22.562298 -36.467733   \n",
       "1      LOW  0.787677  0.541117 -154.674469  53.610481  24.491225 -37.355613   \n",
       "2      LOW  0.396667  0.230626 -152.342285  60.500778  22.509511 -38.493650   \n",
       "3      LOW  0.632679  0.410374 -152.954163  50.767406  24.164847 -36.970259   \n",
       "4      LOW  0.220952  0.191661 -148.850998  61.249680  23.510828 -36.040206   \n",
       "\n",
       "   89SCHBOND#   1SCRMSD   1CARMSD      1CHI1   1SELFALL     1MBALL  \n",
       "0           2  1.568011  1.055787 -61.797108  30.506019 -14.247127  \n",
       "1           2  1.659590  0.824245 -60.938320  34.095296 -14.991049  \n",
       "2           1  1.517055  0.841862 -69.462982  30.747258 -16.671618  \n",
       "3           1  1.238364  0.782494 -57.272846  33.247824 -16.085057  \n",
       "4           1  1.564616  0.991292 -75.141563  30.169681 -18.559962  "
      ]
     },
     "execution_count": 98,
     "metadata": {},
     "output_type": "execute_result"
    }
   ],
   "source": [
    "df=pd.read_csv('leu89val1edit.csv',delimiter=\",\")\n",
    "df.head(5)"
   ]
  },
  {
   "cell_type": "code",
   "execution_count": 99,
   "metadata": {},
   "outputs": [
    {
     "data": {
      "text/plain": [
       "3"
      ]
     },
     "execution_count": 99,
     "metadata": {},
     "output_type": "execute_result"
    }
   ],
   "source": [
    "df['location'].nunique()"
   ]
  },
  {
   "cell_type": "code",
   "execution_count": 100,
   "metadata": {},
   "outputs": [
    {
     "data": {
      "text/plain": [
       "location      0\n",
       "89SCRMSD      0\n",
       "89CARMSD      0\n",
       "89CHI1        0\n",
       "89CHI2        0\n",
       "89SELFALL     0\n",
       "89MBALL       0\n",
       "89SCHBOND#    0\n",
       "1SCRMSD       0\n",
       "1CARMSD       0\n",
       "1CHI1         0\n",
       "1SELFALL      0\n",
       "1MBALL        0\n",
       "dtype: int64"
      ]
     },
     "execution_count": 100,
     "metadata": {},
     "output_type": "execute_result"
    }
   ],
   "source": [
    "df.isnull().sum()"
   ]
  },
  {
   "cell_type": "code",
   "execution_count": 107,
   "metadata": {},
   "outputs": [],
   "source": [
    "enc=preprocessing.LabelEncoder()\n",
    "\n",
    "df['location'] = enc.fit_transform(df['location'])\n",
    "y = df[['location']]\n",
    "x = df[df.columns[1:]]\n"
   ]
  },
  {
   "cell_type": "code",
   "execution_count": 108,
   "metadata": {},
   "outputs": [
    {
     "name": "stderr",
     "output_type": "stream",
     "text": [
      "/home/alia/.local/lib/python3.5/site-packages/ipykernel_launcher.py:2: SettingWithCopyWarning: \n",
      "A value is trying to be set on a copy of a slice from a DataFrame.\n",
      "Try using .loc[row_indexer,col_indexer] = value instead\n",
      "\n",
      "See the caveats in the documentation: http://pandas.pydata.org/pandas-docs/stable/indexing.html#indexing-view-versus-copy\n",
      "  \n"
     ]
    }
   ],
   "source": [
    "for i in range(11):\n",
    "    x[x.columns[i+1]]=((df[df.columns[i+1]]-df[df.columns[i+1]].mean())/df[df.columns[i+1]].std()).round(4)"
   ]
  },
  {
   "cell_type": "code",
   "execution_count": 109,
   "metadata": {},
   "outputs": [
    {
     "name": "stderr",
     "output_type": "stream",
     "text": [
      "/home/alia/.local/lib/python3.5/site-packages/ipykernel_launcher.py:3: SettingWithCopyWarning: \n",
      "A value is trying to be set on a copy of a slice from a DataFrame.\n",
      "Try using .loc[row_indexer,col_indexer] = value instead\n",
      "\n",
      "See the caveats in the documentation: http://pandas.pydata.org/pandas-docs/stable/indexing.html#indexing-view-versus-copy\n",
      "  This is separate from the ipykernel package so we can avoid doing imports until\n"
     ]
    }
   ],
   "source": [
    "enc=preprocessing.LabelEncoder()\n",
    "for i in range(11):  \n",
    "    x[x.columns[i+1]] = enc.fit_transform(x[x.columns[i+1]])"
   ]
  },
  {
   "cell_type": "code",
   "execution_count": 110,
   "metadata": {},
   "outputs": [
    {
     "data": {
      "text/html": [
       "<div>\n",
       "<style scoped>\n",
       "    .dataframe tbody tr th:only-of-type {\n",
       "        vertical-align: middle;\n",
       "    }\n",
       "\n",
       "    .dataframe tbody tr th {\n",
       "        vertical-align: top;\n",
       "    }\n",
       "\n",
       "    .dataframe thead th {\n",
       "        text-align: right;\n",
       "    }\n",
       "</style>\n",
       "<table border=\"1\" class=\"dataframe\">\n",
       "  <thead>\n",
       "    <tr style=\"text-align: right;\">\n",
       "      <th></th>\n",
       "      <th>89SCRMSD</th>\n",
       "      <th>89CARMSD</th>\n",
       "      <th>89CHI1</th>\n",
       "      <th>89CHI2</th>\n",
       "      <th>89SELFALL</th>\n",
       "      <th>89MBALL</th>\n",
       "      <th>89SCHBOND#</th>\n",
       "      <th>1SCRMSD</th>\n",
       "      <th>1CARMSD</th>\n",
       "      <th>1CHI1</th>\n",
       "      <th>1SELFALL</th>\n",
       "      <th>1MBALL</th>\n",
       "    </tr>\n",
       "  </thead>\n",
       "  <tbody>\n",
       "    <tr>\n",
       "      <th>0</th>\n",
       "      <td>0.515069</td>\n",
       "      <td>1312</td>\n",
       "      <td>1384</td>\n",
       "      <td>3596</td>\n",
       "      <td>6108</td>\n",
       "      <td>2741</td>\n",
       "      <td>4936</td>\n",
       "      <td>2</td>\n",
       "      <td>6344</td>\n",
       "      <td>8331</td>\n",
       "      <td>7110</td>\n",
       "      <td>1065</td>\n",
       "    </tr>\n",
       "    <tr>\n",
       "      <th>1</th>\n",
       "      <td>0.787677</td>\n",
       "      <td>3944</td>\n",
       "      <td>3799</td>\n",
       "      <td>2523</td>\n",
       "      <td>1667</td>\n",
       "      <td>5891</td>\n",
       "      <td>3559</td>\n",
       "      <td>2</td>\n",
       "      <td>6999</td>\n",
       "      <td>6551</td>\n",
       "      <td>7370</td>\n",
       "      <td>6605</td>\n",
       "    </tr>\n",
       "    <tr>\n",
       "      <th>2</th>\n",
       "      <td>0.396667</td>\n",
       "      <td>491</td>\n",
       "      <td>422</td>\n",
       "      <td>3090</td>\n",
       "      <td>3455</td>\n",
       "      <td>2655</td>\n",
       "      <td>2016</td>\n",
       "      <td>1</td>\n",
       "      <td>5981</td>\n",
       "      <td>6716</td>\n",
       "      <td>3780</td>\n",
       "      <td>1349</td>\n",
       "    </tr>\n",
       "    <tr>\n",
       "      <th>3</th>\n",
       "      <td>0.632679</td>\n",
       "      <td>2408</td>\n",
       "      <td>2048</td>\n",
       "      <td>2940</td>\n",
       "      <td>1109</td>\n",
       "      <td>5372</td>\n",
       "      <td>4139</td>\n",
       "      <td>1</td>\n",
       "      <td>3742</td>\n",
       "      <td>6121</td>\n",
       "      <td>8307</td>\n",
       "      <td>5271</td>\n",
       "    </tr>\n",
       "    <tr>\n",
       "      <th>4</th>\n",
       "      <td>0.220952</td>\n",
       "      <td>29</td>\n",
       "      <td>240</td>\n",
       "      <td>3852</td>\n",
       "      <td>3657</td>\n",
       "      <td>4283</td>\n",
       "      <td>5587</td>\n",
       "      <td>1</td>\n",
       "      <td>6325</td>\n",
       "      <td>7953</td>\n",
       "      <td>1562</td>\n",
       "      <td>738</td>\n",
       "    </tr>\n",
       "    <tr>\n",
       "      <th>5</th>\n",
       "      <td>0.928613</td>\n",
       "      <td>5151</td>\n",
       "      <td>5739</td>\n",
       "      <td>1931</td>\n",
       "      <td>289</td>\n",
       "      <td>2008</td>\n",
       "      <td>836</td>\n",
       "      <td>1</td>\n",
       "      <td>6057</td>\n",
       "      <td>4972</td>\n",
       "      <td>1986</td>\n",
       "      <td>5203</td>\n",
       "    </tr>\n",
       "    <tr>\n",
       "      <th>6</th>\n",
       "      <td>0.499904</td>\n",
       "      <td>1196</td>\n",
       "      <td>2920</td>\n",
       "      <td>1192</td>\n",
       "      <td>4306</td>\n",
       "      <td>2665</td>\n",
       "      <td>5292</td>\n",
       "      <td>1</td>\n",
       "      <td>4412</td>\n",
       "      <td>5376</td>\n",
       "      <td>1312</td>\n",
       "      <td>835</td>\n",
       "    </tr>\n",
       "    <tr>\n",
       "      <th>7</th>\n",
       "      <td>1.022165</td>\n",
       "      <td>5794</td>\n",
       "      <td>8166</td>\n",
       "      <td>3969</td>\n",
       "      <td>1425</td>\n",
       "      <td>943</td>\n",
       "      <td>7216</td>\n",
       "      <td>2</td>\n",
       "      <td>5075</td>\n",
       "      <td>6483</td>\n",
       "      <td>5606</td>\n",
       "      <td>4742</td>\n",
       "    </tr>\n",
       "    <tr>\n",
       "      <th>8</th>\n",
       "      <td>0.585477</td>\n",
       "      <td>1959</td>\n",
       "      <td>1909</td>\n",
       "      <td>739</td>\n",
       "      <td>1736</td>\n",
       "      <td>2238</td>\n",
       "      <td>7302</td>\n",
       "      <td>1</td>\n",
       "      <td>6197</td>\n",
       "      <td>3354</td>\n",
       "      <td>4672</td>\n",
       "      <td>3432</td>\n",
       "    </tr>\n",
       "    <tr>\n",
       "      <th>9</th>\n",
       "      <td>0.769572</td>\n",
       "      <td>3755</td>\n",
       "      <td>6737</td>\n",
       "      <td>1989</td>\n",
       "      <td>5463</td>\n",
       "      <td>4635</td>\n",
       "      <td>2320</td>\n",
       "      <td>1</td>\n",
       "      <td>3187</td>\n",
       "      <td>6160</td>\n",
       "      <td>3241</td>\n",
       "      <td>926</td>\n",
       "    </tr>\n",
       "  </tbody>\n",
       "</table>\n",
       "</div>"
      ],
      "text/plain": [
       "   89SCRMSD  89CARMSD  89CHI1  89CHI2  89SELFALL  89MBALL  89SCHBOND#  \\\n",
       "0  0.515069      1312    1384    3596       6108     2741        4936   \n",
       "1  0.787677      3944    3799    2523       1667     5891        3559   \n",
       "2  0.396667       491     422    3090       3455     2655        2016   \n",
       "3  0.632679      2408    2048    2940       1109     5372        4139   \n",
       "4  0.220952        29     240    3852       3657     4283        5587   \n",
       "5  0.928613      5151    5739    1931        289     2008         836   \n",
       "6  0.499904      1196    2920    1192       4306     2665        5292   \n",
       "7  1.022165      5794    8166    3969       1425      943        7216   \n",
       "8  0.585477      1959    1909     739       1736     2238        7302   \n",
       "9  0.769572      3755    6737    1989       5463     4635        2320   \n",
       "\n",
       "   1SCRMSD  1CARMSD  1CHI1  1SELFALL  1MBALL  \n",
       "0        2     6344   8331      7110    1065  \n",
       "1        2     6999   6551      7370    6605  \n",
       "2        1     5981   6716      3780    1349  \n",
       "3        1     3742   6121      8307    5271  \n",
       "4        1     6325   7953      1562     738  \n",
       "5        1     6057   4972      1986    5203  \n",
       "6        1     4412   5376      1312     835  \n",
       "7        2     5075   6483      5606    4742  \n",
       "8        1     6197   3354      4672    3432  \n",
       "9        1     3187   6160      3241     926  "
      ]
     },
     "execution_count": 110,
     "metadata": {},
     "output_type": "execute_result"
    }
   ],
   "source": [
    "x.head(10)"
   ]
  },
  {
   "cell_type": "code",
   "execution_count": 111,
   "metadata": {},
   "outputs": [],
   "source": [
    "X_train, X_test, y_train, y_test = train_test_split(x, y, test_size=0.2, random_state=77)"
   ]
  },
  {
   "cell_type": "code",
   "execution_count": 112,
   "metadata": {},
   "outputs": [
    {
     "data": {
      "text/plain": [
       "0.07495188351932913"
      ]
     },
     "execution_count": 112,
     "metadata": {},
     "output_type": "execute_result"
    }
   ],
   "source": [
    "lm = LinearRegression()\n",
    "lm.fit(X_train, y_train)\n",
    "lm.score(X_train, y_train)"
   ]
  },
  {
   "cell_type": "code",
   "execution_count": 113,
   "metadata": {},
   "outputs": [
    {
     "data": {
      "text/plain": [
       "0.09634329407710263"
      ]
     },
     "execution_count": 113,
     "metadata": {},
     "output_type": "execute_result"
    }
   ],
   "source": [
    "lm.score(X_test, y_test)"
   ]
  },
  {
   "cell_type": "code",
   "execution_count": 114,
   "metadata": {},
   "outputs": [
    {
     "name": "stdout",
     "output_type": "stream",
     "text": [
      "The linear model is: Y = 1.3046 + -1.3011*cav1 + 0.00020088*cav2 + -1.8005e-05*cav3+ 7.3545e-05*cav4\n"
     ]
    }
   ],
   "source": [
    "        print(\"The linear model is: Y = {:.5} + {:.5}*cav1 + {:.5}*cav2 + {:.5}*cav3+ {:.5}*cav4\".format(lm.intercept_[0], lm.coef_[0][0], lm.coef_[0][1], lm.coef_[0][2], lm.coef_[0][3]))"
   ]
  },
  {
   "cell_type": "code",
   "execution_count": 73,
   "metadata": {},
   "outputs": [
    {
     "name": "stdout",
     "output_type": "stream",
     "text": [
      "                            OLS Regression Results                            \n",
      "==============================================================================\n",
      "Dep. Variable:               location   R-squared:                       0.042\n",
      "Model:                            OLS   Adj. R-squared:                  0.041\n",
      "Method:                 Least Squares   F-statistic:                     42.99\n",
      "Date:                Fri, 01 May 2020   Prob (F-statistic):          1.33e-108\n",
      "Time:                        17:10:34   Log-Likelihood:                -15328.\n",
      "No. Observations:               12750   AIC:                         3.068e+04\n",
      "Df Residuals:                   12736   BIC:                         3.079e+04\n",
      "Df Model:                          13                                         \n",
      "Covariance Type:            nonrobust                                         \n",
      "==============================================================================\n",
      "                 coef    std err          t      P>|t|      [0.025      0.975]\n",
      "------------------------------------------------------------------------------\n",
      "const          2.1634      0.214     10.115      0.000       1.744       2.583\n",
      "x1            -0.0960      0.037     -2.611      0.009      -0.168      -0.024\n",
      "x2             0.0810      0.047      1.739      0.082      -0.010       0.172\n",
      "x3             0.0028      0.000      7.236      0.000       0.002       0.004\n",
      "x4             0.0039      0.000     12.199      0.000       0.003       0.005\n",
      "x5             0.0028      0.014      0.206      0.837      -0.024       0.029\n",
      "x6             0.0101      0.009      1.098      0.272      -0.008       0.028\n",
      "x7             0.0192      0.011      1.688      0.092      -0.003       0.042\n",
      "x8             0.0106      0.004      2.863      0.004       0.003       0.018\n",
      "x9             0.0544      0.020      2.735      0.006       0.015       0.093\n",
      "x10            0.0421      0.016      2.678      0.007       0.011       0.073\n",
      "x11            0.0259      0.016      1.604      0.109      -0.006       0.058\n",
      "x12            0.0030      0.015      0.196      0.845      -0.027       0.033\n",
      "x13           -0.0364      0.016     -2.297      0.022      -0.068      -0.005\n",
      "==============================================================================\n",
      "Omnibus:                   124088.368   Durbin-Watson:                   0.035\n",
      "Prob(Omnibus):                  0.000   Jarque-Bera (JB):             1114.322\n",
      "Skew:                          -0.192   Prob(JB):                    1.07e-242\n",
      "Kurtosis:                       1.604   Cond. No.                     4.91e+03\n",
      "==============================================================================\n",
      "\n",
      "Warnings:\n",
      "[1] Standard Errors assume that the covariance matrix of the errors is correctly specified.\n",
      "[2] The condition number is large, 4.91e+03. This might indicate that there are\n",
      "strong multicollinearity or other numerical problems.\n"
     ]
    }
   ],
   "source": [
    "X = np.column_stack((df['SCRMSD'], df['CARMSD'], df['CHI1'],df['CHI2'],df['SELFDIHED'],df['SELFVDW'],df['SELFELEC'],df['SelfALL'],df['MBDIHED'],df['MBVDW'],df['MBELEC'],df['MBALL'],df['SCHBOND#']))\n",
    "y = df['location']\n",
    "X2 = sm.add_constant(X)\n",
    "est = sm.OLS(y, X2)\n",
    "est2 = est.fit()\n",
    "print(est2.summary())"
   ]
  },
  {
   "cell_type": "code",
   "execution_count": 74,
   "metadata": {},
   "outputs": [
    {
     "name": "stdout",
     "output_type": "stream",
     "text": [
      "Best alpha using built-in LassoCV: 3.095375\n",
      "Best score using built-in LassoCV: 0.000000\n",
      "Lasso picked 1 variables and eliminated the other 12 variables\n"
     ]
    },
    {
     "data": {
      "text/plain": [
       "Text(0.5, 1.0, 'Feature importance using Lasso Model')"
      ]
     },
     "execution_count": 74,
     "metadata": {},
     "output_type": "execute_result"
    },
    {
     "data": {
      "image/png": "[encoded data removed]",
      "text/plain": [
       "<Figure size 576x720 with 1 Axes>"
      ]
     },
     "metadata": {
      "needs_background": "light"
     },
     "output_type": "display_data"
    }
   ],
   "source": [
    "reg = LassoCV()\n",
    "reg.fit(x, y)\n",
    "print(\"Best alpha using built-in LassoCV: %f\" % reg.alpha_)\n",
    "print(\"Best score using built-in LassoCV: %f\" %reg.score(x,y))\n",
    "coef = pd.Series(reg.coef_, index = x.columns)\n",
    "\n",
    "print(\"Lasso picked \" + str(sum(coef != 0)) + \" variables and eliminated the other \" +  str(sum(coef == 0)) + \" variables\")\n",
    "\n",
    "imp_coef = coef.sort_values()\n",
    "import matplotlib\n",
    "matplotlib.rcParams['figure.figsize'] = (8.0, 10.0)\n",
    "imp_coef.plot(kind = \"barh\")\n",
    "plt.title(\"Feature importance using Lasso Model\")"
   ]
  },
  {
   "cell_type": "code",
   "execution_count": 75,
   "metadata": {},
   "outputs": [
    {
     "data": {
      "text/html": [
       "<div>\n",
       "<style scoped>\n",
       "    .dataframe tbody tr th:only-of-type {\n",
       "        vertical-align: middle;\n",
       "    }\n",
       "\n",
       "    .dataframe tbody tr th {\n",
       "        vertical-align: top;\n",
       "    }\n",
       "\n",
       "    .dataframe thead th {\n",
       "        text-align: right;\n",
       "    }\n",
       "</style>\n",
       "<table border=\"1\" class=\"dataframe\">\n",
       "  <thead>\n",
       "    <tr style=\"text-align: right;\">\n",
       "      <th></th>\n",
       "      <th>location</th>\n",
       "      <th>SCRMSD</th>\n",
       "      <th>CARMSD</th>\n",
       "      <th>CHI1</th>\n",
       "      <th>CHI2</th>\n",
       "      <th>SELFDIHED</th>\n",
       "      <th>SELFVDW</th>\n",
       "      <th>SELFELEC</th>\n",
       "      <th>SelfALL</th>\n",
       "      <th>MBDIHED</th>\n",
       "      <th>MBVDW</th>\n",
       "      <th>MBELEC</th>\n",
       "      <th>MBALL</th>\n",
       "      <th>SCHBOND#</th>\n",
       "    </tr>\n",
       "  </thead>\n",
       "  <tbody>\n",
       "    <tr>\n",
       "      <th>count</th>\n",
       "      <td>12750.000000</td>\n",
       "      <td>12750.000000</td>\n",
       "      <td>12750.000000</td>\n",
       "      <td>12750.000000</td>\n",
       "      <td>12750.000000</td>\n",
       "      <td>12750.000000</td>\n",
       "      <td>12750.000000</td>\n",
       "      <td>12750.000000</td>\n",
       "      <td>12750.000000</td>\n",
       "      <td>12750.000000</td>\n",
       "      <td>12750.000000</td>\n",
       "      <td>12750.000000</td>\n",
       "      <td>12750.000000</td>\n",
       "      <td>12750.000000</td>\n",
       "    </tr>\n",
       "    <tr>\n",
       "      <th>mean</th>\n",
       "      <td>1.098039</td>\n",
       "      <td>0.894963</td>\n",
       "      <td>0.582334</td>\n",
       "      <td>-140.592907</td>\n",
       "      <td>57.864762</td>\n",
       "      <td>3.615084</td>\n",
       "      <td>0.891645</td>\n",
       "      <td>7.605594</td>\n",
       "      <td>23.783152</td>\n",
       "      <td>0.974003</td>\n",
       "      <td>-11.516121</td>\n",
       "      <td>-26.637363</td>\n",
       "      <td>-36.703792</td>\n",
       "      <td>1.216784</td>\n",
       "    </tr>\n",
       "    <tr>\n",
       "      <th>std</th>\n",
       "      <td>0.822627</td>\n",
       "      <td>0.406708</td>\n",
       "      <td>0.219794</td>\n",
       "      <td>30.701559</td>\n",
       "      <td>25.369650</td>\n",
       "      <td>0.586932</td>\n",
       "      <td>0.800441</td>\n",
       "      <td>0.719131</td>\n",
       "      <td>2.071232</td>\n",
       "      <td>0.569191</td>\n",
       "      <td>1.653128</td>\n",
       "      <td>1.741880</td>\n",
       "      <td>2.218219</td>\n",
       "      <td>0.466529</td>\n",
       "    </tr>\n",
       "    <tr>\n",
       "      <th>min</th>\n",
       "      <td>0.000000</td>\n",
       "      <td>0.148588</td>\n",
       "      <td>0.023591</td>\n",
       "      <td>-179.930328</td>\n",
       "      <td>-179.957214</td>\n",
       "      <td>2.248211</td>\n",
       "      <td>-1.095073</td>\n",
       "      <td>5.346896</td>\n",
       "      <td>17.133294</td>\n",
       "      <td>0.027781</td>\n",
       "      <td>-16.781096</td>\n",
       "      <td>-34.598112</td>\n",
       "      <td>-44.192224</td>\n",
       "      <td>0.000000</td>\n",
       "    </tr>\n",
       "    <tr>\n",
       "      <th>25%</th>\n",
       "      <td>0.000000</td>\n",
       "      <td>0.599010</td>\n",
       "      <td>0.423036</td>\n",
       "      <td>-157.849636</td>\n",
       "      <td>54.899139</td>\n",
       "      <td>3.190220</td>\n",
       "      <td>0.318531</td>\n",
       "      <td>7.107777</td>\n",
       "      <td>22.328397</td>\n",
       "      <td>0.566145</td>\n",
       "      <td>-12.658761</td>\n",
       "      <td>-27.783855</td>\n",
       "      <td>-38.224054</td>\n",
       "      <td>1.000000</td>\n",
       "    </tr>\n",
       "    <tr>\n",
       "      <th>50%</th>\n",
       "      <td>1.000000</td>\n",
       "      <td>0.793289</td>\n",
       "      <td>0.573771</td>\n",
       "      <td>-152.530533</td>\n",
       "      <td>60.267228</td>\n",
       "      <td>3.537322</td>\n",
       "      <td>0.797801</td>\n",
       "      <td>7.563736</td>\n",
       "      <td>23.639213</td>\n",
       "      <td>0.855990</td>\n",
       "      <td>-11.606491</td>\n",
       "      <td>-26.578857</td>\n",
       "      <td>-36.765803</td>\n",
       "      <td>1.000000</td>\n",
       "    </tr>\n",
       "    <tr>\n",
       "      <th>75%</th>\n",
       "      <td>2.000000</td>\n",
       "      <td>1.093560</td>\n",
       "      <td>0.729284</td>\n",
       "      <td>-144.635643</td>\n",
       "      <td>65.639850</td>\n",
       "      <td>3.952597</td>\n",
       "      <td>1.357529</td>\n",
       "      <td>8.069070</td>\n",
       "      <td>25.097037</td>\n",
       "      <td>1.251116</td>\n",
       "      <td>-10.487245</td>\n",
       "      <td>-25.441361</td>\n",
       "      <td>-35.246472</td>\n",
       "      <td>1.000000</td>\n",
       "    </tr>\n",
       "    <tr>\n",
       "      <th>max</th>\n",
       "      <td>2.000000</td>\n",
       "      <td>2.371461</td>\n",
       "      <td>1.647659</td>\n",
       "      <td>179.093369</td>\n",
       "      <td>179.877319</td>\n",
       "      <td>7.327453</td>\n",
       "      <td>5.263958</td>\n",
       "      <td>11.326908</td>\n",
       "      <td>32.662894</td>\n",
       "      <td>4.889210</td>\n",
       "      <td>-3.652790</td>\n",
       "      <td>-19.451467</td>\n",
       "      <td>-27.711963</td>\n",
       "      <td>4.000000</td>\n",
       "    </tr>\n",
       "  </tbody>\n",
       "</table>\n",
       "</div>"
      ],
      "text/plain": [
       "           location        SCRMSD        CARMSD          CHI1          CHI2  \\\n",
       "count  12750.000000  12750.000000  12750.000000  12750.000000  12750.000000   \n",
       "mean       1.098039      0.894963      0.582334   -140.592907     57.864762   \n",
       "std        0.822627      0.406708      0.219794     30.701559     25.369650   \n",
       "min        0.000000      0.148588      0.023591   -179.930328   -179.957214   \n",
       "25%        0.000000      0.599010      0.423036   -157.849636     54.899139   \n",
       "50%        1.000000      0.793289      0.573771   -152.530533     60.267228   \n",
       "75%        2.000000      1.093560      0.729284   -144.635643     65.639850   \n",
       "max        2.000000      2.371461      1.647659    179.093369    179.877319   \n",
       "\n",
       "          SELFDIHED       SELFVDW      SELFELEC       SelfALL       MBDIHED  \\\n",
       "count  12750.000000  12750.000000  12750.000000  12750.000000  12750.000000   \n",
       "mean       3.615084      0.891645      7.605594     23.783152      0.974003   \n",
       "std        0.586932      0.800441      0.719131      2.071232      0.569191   \n",
       "min        2.248211     -1.095073      5.346896     17.133294      0.027781   \n",
       "25%        3.190220      0.318531      7.107777     22.328397      0.566145   \n",
       "50%        3.537322      0.797801      7.563736     23.639213      0.855990   \n",
       "75%        3.952597      1.357529      8.069070     25.097037      1.251116   \n",
       "max        7.327453      5.263958     11.326908     32.662894      4.889210   \n",
       "\n",
       "              MBVDW        MBELEC         MBALL      SCHBOND#  \n",
       "count  12750.000000  12750.000000  12750.000000  12750.000000  \n",
       "mean     -11.516121    -26.637363    -36.703792      1.216784  \n",
       "std        1.653128      1.741880      2.218219      0.466529  \n",
       "min      -16.781096    -34.598112    -44.192224      0.000000  \n",
       "25%      -12.658761    -27.783855    -38.224054      1.000000  \n",
       "50%      -11.606491    -26.578857    -36.765803      1.000000  \n",
       "75%      -10.487245    -25.441361    -35.246472      1.000000  \n",
       "max       -3.652790    -19.451467    -27.711963      4.000000  "
      ]
     },
     "execution_count": 75,
     "metadata": {},
     "output_type": "execute_result"
    }
   ],
   "source": [
    "df.describe()"
   ]
  },
  {
   "cell_type": "code",
   "execution_count": 115,
   "metadata": {},
   "outputs": [
    {
     "name": "stderr",
     "output_type": "stream",
     "text": [
      "/usr/local/lib/python3.5/dist-packages/sklearn/utils/validation.py:760: DataConversionWarning: A column-vector y was passed when a 1d array was expected. Please change the shape of y to (n_samples, ), for example using ravel().\n",
      "  y = column_or_1d(y, warn=True)\n"
     ]
    },
    {
     "data": {
      "text/plain": [
       "0.5143469460650077"
      ]
     },
     "execution_count": 115,
     "metadata": {},
     "output_type": "execute_result"
    }
   ],
   "source": [
    "#Train and fit Logistic Regression model.\n",
    "LoRmod=LogisticRegression(max_iter=10000)\n",
    "LoRmod.fit(X_train,y_train)\n",
    "#Score LR training\n",
    "LoRmod.score(X_train, y_train)"
   ]
  },
  {
   "cell_type": "code",
   "execution_count": 116,
   "metadata": {},
   "outputs": [
    {
     "name": "stdout",
     "output_type": "stream",
     "text": [
      "Accuracy score: 50.66666666666667\n",
      "F1 score: 41.783723649434435\n",
      "Recall score: 43.10368755017862\n",
      "Precision score: 47.56312006134786\n",
      "Confusion matrix: [[100 101 371]\n",
      " [ 59 167 323]\n",
      " [ 53 129 797]]\n",
      "Classification report:               precision    recall  f1-score   support\n",
      "\n",
      "           0       0.47      0.17      0.26       572\n",
      "           1       0.42      0.30      0.35       549\n",
      "           2       0.53      0.81      0.65       979\n",
      "\n",
      "    accuracy                           0.51      2100\n",
      "   macro avg       0.48      0.43      0.42      2100\n",
      "weighted avg       0.49      0.51      0.46      2100\n",
      "\n"
     ]
    },
    {
     "name": "stderr",
     "output_type": "stream",
     "text": [
      "/usr/local/lib/python3.5/dist-packages/sklearn/metrics/_classification.py:1321: UserWarning: Note that pos_label (set to 'positive') is ignored when average != 'binary' (got 'macro'). You may use labels=[pos_label] to specify a single positive class.\n",
      "  % (pos_label, average), UserWarning)\n"
     ]
    }
   ],
   "source": [
    "#Predict from manufactured test and score\n",
    "LoRpred= LoRmod.predict(X_test)\n",
    "print('Accuracy score:', accuracy_score(y_test,LoRpred)*100)\n",
    "print('F1 score:', f1_score(y_test, LoRpred,pos_label='positive',average='macro')*100)\n",
    "print('Recall score:', recall_score(y_test, LoRpred,pos_label='positive',average='macro')*100)\n",
    "print('Precision score:', precision_score(y_test, LoRpred,pos_label='positive',average='macro')*100)\n",
    "print('Confusion matrix:', confusion_matrix(y_test, LoRpred))\n",
    "print('Classification report:', classification_report(y_test, LoRpred))"
   ]
  },
  {
   "cell_type": "code",
   "execution_count": 117,
   "metadata": {},
   "outputs": [
    {
     "name": "stderr",
     "output_type": "stream",
     "text": [
      "/home/alia/.local/lib/python3.5/site-packages/ipykernel_launcher.py:4: DataConversionWarning: A column-vector y was passed when a 1d array was expected. Please change the shape of y to (n_samples, ), for example using ravel().\n",
      "  after removing the cwd from sys.path.\n",
      "/home/alia/.local/lib/python3.5/site-packages/ipykernel_launcher.py:4: DataConversionWarning: A column-vector y was passed when a 1d array was expected. Please change the shape of y to (n_samples, ), for example using ravel().\n",
      "  after removing the cwd from sys.path.\n",
      "/home/alia/.local/lib/python3.5/site-packages/ipykernel_launcher.py:4: DataConversionWarning: A column-vector y was passed when a 1d array was expected. Please change the shape of y to (n_samples, ), for example using ravel().\n",
      "  after removing the cwd from sys.path.\n",
      "/home/alia/.local/lib/python3.5/site-packages/ipykernel_launcher.py:4: DataConversionWarning: A column-vector y was passed when a 1d array was expected. Please change the shape of y to (n_samples, ), for example using ravel().\n",
      "  after removing the cwd from sys.path.\n",
      "/home/alia/.local/lib/python3.5/site-packages/ipykernel_launcher.py:4: DataConversionWarning: A column-vector y was passed when a 1d array was expected. Please change the shape of y to (n_samples, ), for example using ravel().\n",
      "  after removing the cwd from sys.path.\n",
      "/home/alia/.local/lib/python3.5/site-packages/ipykernel_launcher.py:4: DataConversionWarning: A column-vector y was passed when a 1d array was expected. Please change the shape of y to (n_samples, ), for example using ravel().\n",
      "  after removing the cwd from sys.path.\n",
      "/home/alia/.local/lib/python3.5/site-packages/ipykernel_launcher.py:4: DataConversionWarning: A column-vector y was passed when a 1d array was expected. Please change the shape of y to (n_samples, ), for example using ravel().\n",
      "  after removing the cwd from sys.path.\n",
      "/home/alia/.local/lib/python3.5/site-packages/ipykernel_launcher.py:4: DataConversionWarning: A column-vector y was passed when a 1d array was expected. Please change the shape of y to (n_samples, ), for example using ravel().\n",
      "  after removing the cwd from sys.path.\n",
      "/home/alia/.local/lib/python3.5/site-packages/ipykernel_launcher.py:4: DataConversionWarning: A column-vector y was passed when a 1d array was expected. Please change the shape of y to (n_samples, ), for example using ravel().\n",
      "  after removing the cwd from sys.path.\n",
      "/home/alia/.local/lib/python3.5/site-packages/ipykernel_launcher.py:4: DataConversionWarning: A column-vector y was passed when a 1d array was expected. Please change the shape of y to (n_samples, ), for example using ravel().\n",
      "  after removing the cwd from sys.path.\n",
      "/home/alia/.local/lib/python3.5/site-packages/ipykernel_launcher.py:4: DataConversionWarning: A column-vector y was passed when a 1d array was expected. Please change the shape of y to (n_samples, ), for example using ravel().\n",
      "  after removing the cwd from sys.path.\n",
      "/home/alia/.local/lib/python3.5/site-packages/ipykernel_launcher.py:4: DataConversionWarning: A column-vector y was passed when a 1d array was expected. Please change the shape of y to (n_samples, ), for example using ravel().\n",
      "  after removing the cwd from sys.path.\n",
      "/home/alia/.local/lib/python3.5/site-packages/ipykernel_launcher.py:4: DataConversionWarning: A column-vector y was passed when a 1d array was expected. Please change the shape of y to (n_samples, ), for example using ravel().\n",
      "  after removing the cwd from sys.path.\n",
      "/home/alia/.local/lib/python3.5/site-packages/ipykernel_launcher.py:4: DataConversionWarning: A column-vector y was passed when a 1d array was expected. Please change the shape of y to (n_samples, ), for example using ravel().\n",
      "  after removing the cwd from sys.path.\n",
      "/home/alia/.local/lib/python3.5/site-packages/ipykernel_launcher.py:4: DataConversionWarning: A column-vector y was passed when a 1d array was expected. Please change the shape of y to (n_samples, ), for example using ravel().\n",
      "  after removing the cwd from sys.path.\n",
      "/home/alia/.local/lib/python3.5/site-packages/ipykernel_launcher.py:4: DataConversionWarning: A column-vector y was passed when a 1d array was expected. Please change the shape of y to (n_samples, ), for example using ravel().\n",
      "  after removing the cwd from sys.path.\n",
      "/home/alia/.local/lib/python3.5/site-packages/ipykernel_launcher.py:4: DataConversionWarning: A column-vector y was passed when a 1d array was expected. Please change the shape of y to (n_samples, ), for example using ravel().\n",
      "  after removing the cwd from sys.path.\n",
      "/home/alia/.local/lib/python3.5/site-packages/ipykernel_launcher.py:4: DataConversionWarning: A column-vector y was passed when a 1d array was expected. Please change the shape of y to (n_samples, ), for example using ravel().\n",
      "  after removing the cwd from sys.path.\n",
      "/home/alia/.local/lib/python3.5/site-packages/ipykernel_launcher.py:4: DataConversionWarning: A column-vector y was passed when a 1d array was expected. Please change the shape of y to (n_samples, ), for example using ravel().\n",
      "  after removing the cwd from sys.path.\n",
      "/home/alia/.local/lib/python3.5/site-packages/ipykernel_launcher.py:4: DataConversionWarning: A column-vector y was passed when a 1d array was expected. Please change the shape of y to (n_samples, ), for example using ravel().\n",
      "  after removing the cwd from sys.path.\n",
      "/home/alia/.local/lib/python3.5/site-packages/ipykernel_launcher.py:4: DataConversionWarning: A column-vector y was passed when a 1d array was expected. Please change the shape of y to (n_samples, ), for example using ravel().\n",
      "  after removing the cwd from sys.path.\n",
      "/home/alia/.local/lib/python3.5/site-packages/ipykernel_launcher.py:4: DataConversionWarning: A column-vector y was passed when a 1d array was expected. Please change the shape of y to (n_samples, ), for example using ravel().\n",
      "  after removing the cwd from sys.path.\n",
      "/home/alia/.local/lib/python3.5/site-packages/ipykernel_launcher.py:4: DataConversionWarning: A column-vector y was passed when a 1d array was expected. Please change the shape of y to (n_samples, ), for example using ravel().\n",
      "  after removing the cwd from sys.path.\n",
      "/home/alia/.local/lib/python3.5/site-packages/ipykernel_launcher.py:4: DataConversionWarning: A column-vector y was passed when a 1d array was expected. Please change the shape of y to (n_samples, ), for example using ravel().\n",
      "  after removing the cwd from sys.path.\n",
      "/home/alia/.local/lib/python3.5/site-packages/ipykernel_launcher.py:4: DataConversionWarning: A column-vector y was passed when a 1d array was expected. Please change the shape of y to (n_samples, ), for example using ravel().\n",
      "  after removing the cwd from sys.path.\n",
      "/home/alia/.local/lib/python3.5/site-packages/ipykernel_launcher.py:4: DataConversionWarning: A column-vector y was passed when a 1d array was expected. Please change the shape of y to (n_samples, ), for example using ravel().\n",
      "  after removing the cwd from sys.path.\n",
      "/home/alia/.local/lib/python3.5/site-packages/ipykernel_launcher.py:4: DataConversionWarning: A column-vector y was passed when a 1d array was expected. Please change the shape of y to (n_samples, ), for example using ravel().\n",
      "  after removing the cwd from sys.path.\n",
      "/home/alia/.local/lib/python3.5/site-packages/ipykernel_launcher.py:4: DataConversionWarning: A column-vector y was passed when a 1d array was expected. Please change the shape of y to (n_samples, ), for example using ravel().\n",
      "  after removing the cwd from sys.path.\n",
      "/home/alia/.local/lib/python3.5/site-packages/ipykernel_launcher.py:4: DataConversionWarning: A column-vector y was passed when a 1d array was expected. Please change the shape of y to (n_samples, ), for example using ravel().\n",
      "  after removing the cwd from sys.path.\n",
      "/home/alia/.local/lib/python3.5/site-packages/ipykernel_launcher.py:4: DataConversionWarning: A column-vector y was passed when a 1d array was expected. Please change the shape of y to (n_samples, ), for example using ravel().\n",
      "  after removing the cwd from sys.path.\n",
      "/home/alia/.local/lib/python3.5/site-packages/ipykernel_launcher.py:4: DataConversionWarning: A column-vector y was passed when a 1d array was expected. Please change the shape of y to (n_samples, ), for example using ravel().\n",
      "  after removing the cwd from sys.path.\n"
     ]
    },
    {
     "name": "stderr",
     "output_type": "stream",
     "text": [
      "/home/alia/.local/lib/python3.5/site-packages/ipykernel_launcher.py:4: DataConversionWarning: A column-vector y was passed when a 1d array was expected. Please change the shape of y to (n_samples, ), for example using ravel().\n",
      "  after removing the cwd from sys.path.\n",
      "/home/alia/.local/lib/python3.5/site-packages/ipykernel_launcher.py:4: DataConversionWarning: A column-vector y was passed when a 1d array was expected. Please change the shape of y to (n_samples, ), for example using ravel().\n",
      "  after removing the cwd from sys.path.\n",
      "/home/alia/.local/lib/python3.5/site-packages/ipykernel_launcher.py:4: DataConversionWarning: A column-vector y was passed when a 1d array was expected. Please change the shape of y to (n_samples, ), for example using ravel().\n",
      "  after removing the cwd from sys.path.\n",
      "/home/alia/.local/lib/python3.5/site-packages/ipykernel_launcher.py:4: DataConversionWarning: A column-vector y was passed when a 1d array was expected. Please change the shape of y to (n_samples, ), for example using ravel().\n",
      "  after removing the cwd from sys.path.\n",
      "/home/alia/.local/lib/python3.5/site-packages/ipykernel_launcher.py:4: DataConversionWarning: A column-vector y was passed when a 1d array was expected. Please change the shape of y to (n_samples, ), for example using ravel().\n",
      "  after removing the cwd from sys.path.\n",
      "/home/alia/.local/lib/python3.5/site-packages/ipykernel_launcher.py:4: DataConversionWarning: A column-vector y was passed when a 1d array was expected. Please change the shape of y to (n_samples, ), for example using ravel().\n",
      "  after removing the cwd from sys.path.\n",
      "/home/alia/.local/lib/python3.5/site-packages/ipykernel_launcher.py:4: DataConversionWarning: A column-vector y was passed when a 1d array was expected. Please change the shape of y to (n_samples, ), for example using ravel().\n",
      "  after removing the cwd from sys.path.\n",
      "/home/alia/.local/lib/python3.5/site-packages/ipykernel_launcher.py:4: DataConversionWarning: A column-vector y was passed when a 1d array was expected. Please change the shape of y to (n_samples, ), for example using ravel().\n",
      "  after removing the cwd from sys.path.\n",
      "/home/alia/.local/lib/python3.5/site-packages/ipykernel_launcher.py:4: DataConversionWarning: A column-vector y was passed when a 1d array was expected. Please change the shape of y to (n_samples, ), for example using ravel().\n",
      "  after removing the cwd from sys.path.\n",
      "/home/alia/.local/lib/python3.5/site-packages/ipykernel_launcher.py:4: DataConversionWarning: A column-vector y was passed when a 1d array was expected. Please change the shape of y to (n_samples, ), for example using ravel().\n",
      "  after removing the cwd from sys.path.\n",
      "/home/alia/.local/lib/python3.5/site-packages/ipykernel_launcher.py:4: DataConversionWarning: A column-vector y was passed when a 1d array was expected. Please change the shape of y to (n_samples, ), for example using ravel().\n",
      "  after removing the cwd from sys.path.\n",
      "/home/alia/.local/lib/python3.5/site-packages/ipykernel_launcher.py:4: DataConversionWarning: A column-vector y was passed when a 1d array was expected. Please change the shape of y to (n_samples, ), for example using ravel().\n",
      "  after removing the cwd from sys.path.\n",
      "/home/alia/.local/lib/python3.5/site-packages/ipykernel_launcher.py:4: DataConversionWarning: A column-vector y was passed when a 1d array was expected. Please change the shape of y to (n_samples, ), for example using ravel().\n",
      "  after removing the cwd from sys.path.\n",
      "/home/alia/.local/lib/python3.5/site-packages/ipykernel_launcher.py:4: DataConversionWarning: A column-vector y was passed when a 1d array was expected. Please change the shape of y to (n_samples, ), for example using ravel().\n",
      "  after removing the cwd from sys.path.\n",
      "/home/alia/.local/lib/python3.5/site-packages/ipykernel_launcher.py:4: DataConversionWarning: A column-vector y was passed when a 1d array was expected. Please change the shape of y to (n_samples, ), for example using ravel().\n",
      "  after removing the cwd from sys.path.\n",
      "/home/alia/.local/lib/python3.5/site-packages/ipykernel_launcher.py:4: DataConversionWarning: A column-vector y was passed when a 1d array was expected. Please change the shape of y to (n_samples, ), for example using ravel().\n",
      "  after removing the cwd from sys.path.\n",
      "/home/alia/.local/lib/python3.5/site-packages/ipykernel_launcher.py:4: DataConversionWarning: A column-vector y was passed when a 1d array was expected. Please change the shape of y to (n_samples, ), for example using ravel().\n",
      "  after removing the cwd from sys.path.\n",
      "/home/alia/.local/lib/python3.5/site-packages/ipykernel_launcher.py:4: DataConversionWarning: A column-vector y was passed when a 1d array was expected. Please change the shape of y to (n_samples, ), for example using ravel().\n",
      "  after removing the cwd from sys.path.\n",
      "/home/alia/.local/lib/python3.5/site-packages/ipykernel_launcher.py:4: DataConversionWarning: A column-vector y was passed when a 1d array was expected. Please change the shape of y to (n_samples, ), for example using ravel().\n",
      "  after removing the cwd from sys.path.\n",
      "/home/alia/.local/lib/python3.5/site-packages/ipykernel_launcher.py:4: DataConversionWarning: A column-vector y was passed when a 1d array was expected. Please change the shape of y to (n_samples, ), for example using ravel().\n",
      "  after removing the cwd from sys.path.\n",
      "/home/alia/.local/lib/python3.5/site-packages/ipykernel_launcher.py:4: DataConversionWarning: A column-vector y was passed when a 1d array was expected. Please change the shape of y to (n_samples, ), for example using ravel().\n",
      "  after removing the cwd from sys.path.\n",
      "/home/alia/.local/lib/python3.5/site-packages/ipykernel_launcher.py:4: DataConversionWarning: A column-vector y was passed when a 1d array was expected. Please change the shape of y to (n_samples, ), for example using ravel().\n",
      "  after removing the cwd from sys.path.\n",
      "/home/alia/.local/lib/python3.5/site-packages/ipykernel_launcher.py:4: DataConversionWarning: A column-vector y was passed when a 1d array was expected. Please change the shape of y to (n_samples, ), for example using ravel().\n",
      "  after removing the cwd from sys.path.\n",
      "/home/alia/.local/lib/python3.5/site-packages/ipykernel_launcher.py:4: DataConversionWarning: A column-vector y was passed when a 1d array was expected. Please change the shape of y to (n_samples, ), for example using ravel().\n",
      "  after removing the cwd from sys.path.\n",
      "/home/alia/.local/lib/python3.5/site-packages/ipykernel_launcher.py:4: DataConversionWarning: A column-vector y was passed when a 1d array was expected. Please change the shape of y to (n_samples, ), for example using ravel().\n",
      "  after removing the cwd from sys.path.\n",
      "/home/alia/.local/lib/python3.5/site-packages/ipykernel_launcher.py:4: DataConversionWarning: A column-vector y was passed when a 1d array was expected. Please change the shape of y to (n_samples, ), for example using ravel().\n",
      "  after removing the cwd from sys.path.\n",
      "/home/alia/.local/lib/python3.5/site-packages/ipykernel_launcher.py:4: DataConversionWarning: A column-vector y was passed when a 1d array was expected. Please change the shape of y to (n_samples, ), for example using ravel().\n",
      "  after removing the cwd from sys.path.\n",
      "/home/alia/.local/lib/python3.5/site-packages/ipykernel_launcher.py:4: DataConversionWarning: A column-vector y was passed when a 1d array was expected. Please change the shape of y to (n_samples, ), for example using ravel().\n",
      "  after removing the cwd from sys.path.\n",
      "/home/alia/.local/lib/python3.5/site-packages/ipykernel_launcher.py:4: DataConversionWarning: A column-vector y was passed when a 1d array was expected. Please change the shape of y to (n_samples, ), for example using ravel().\n",
      "  after removing the cwd from sys.path.\n",
      "/home/alia/.local/lib/python3.5/site-packages/ipykernel_launcher.py:4: DataConversionWarning: A column-vector y was passed when a 1d array was expected. Please change the shape of y to (n_samples, ), for example using ravel().\n",
      "  after removing the cwd from sys.path.\n",
      "/home/alia/.local/lib/python3.5/site-packages/ipykernel_launcher.py:4: DataConversionWarning: A column-vector y was passed when a 1d array was expected. Please change the shape of y to (n_samples, ), for example using ravel().\n",
      "  after removing the cwd from sys.path.\n"
     ]
    },
    {
     "name": "stderr",
     "output_type": "stream",
     "text": [
      "/home/alia/.local/lib/python3.5/site-packages/ipykernel_launcher.py:4: DataConversionWarning: A column-vector y was passed when a 1d array was expected. Please change the shape of y to (n_samples, ), for example using ravel().\n",
      "  after removing the cwd from sys.path.\n",
      "/home/alia/.local/lib/python3.5/site-packages/ipykernel_launcher.py:4: DataConversionWarning: A column-vector y was passed when a 1d array was expected. Please change the shape of y to (n_samples, ), for example using ravel().\n",
      "  after removing the cwd from sys.path.\n",
      "/home/alia/.local/lib/python3.5/site-packages/ipykernel_launcher.py:4: DataConversionWarning: A column-vector y was passed when a 1d array was expected. Please change the shape of y to (n_samples, ), for example using ravel().\n",
      "  after removing the cwd from sys.path.\n",
      "/home/alia/.local/lib/python3.5/site-packages/ipykernel_launcher.py:4: DataConversionWarning: A column-vector y was passed when a 1d array was expected. Please change the shape of y to (n_samples, ), for example using ravel().\n",
      "  after removing the cwd from sys.path.\n",
      "/home/alia/.local/lib/python3.5/site-packages/ipykernel_launcher.py:4: DataConversionWarning: A column-vector y was passed when a 1d array was expected. Please change the shape of y to (n_samples, ), for example using ravel().\n",
      "  after removing the cwd from sys.path.\n",
      "/home/alia/.local/lib/python3.5/site-packages/ipykernel_launcher.py:4: DataConversionWarning: A column-vector y was passed when a 1d array was expected. Please change the shape of y to (n_samples, ), for example using ravel().\n",
      "  after removing the cwd from sys.path.\n",
      "/home/alia/.local/lib/python3.5/site-packages/ipykernel_launcher.py:4: DataConversionWarning: A column-vector y was passed when a 1d array was expected. Please change the shape of y to (n_samples, ), for example using ravel().\n",
      "  after removing the cwd from sys.path.\n",
      "/home/alia/.local/lib/python3.5/site-packages/ipykernel_launcher.py:4: DataConversionWarning: A column-vector y was passed when a 1d array was expected. Please change the shape of y to (n_samples, ), for example using ravel().\n",
      "  after removing the cwd from sys.path.\n",
      "/home/alia/.local/lib/python3.5/site-packages/ipykernel_launcher.py:4: DataConversionWarning: A column-vector y was passed when a 1d array was expected. Please change the shape of y to (n_samples, ), for example using ravel().\n",
      "  after removing the cwd from sys.path.\n",
      "/home/alia/.local/lib/python3.5/site-packages/ipykernel_launcher.py:4: DataConversionWarning: A column-vector y was passed when a 1d array was expected. Please change the shape of y to (n_samples, ), for example using ravel().\n",
      "  after removing the cwd from sys.path.\n",
      "/home/alia/.local/lib/python3.5/site-packages/ipykernel_launcher.py:4: DataConversionWarning: A column-vector y was passed when a 1d array was expected. Please change the shape of y to (n_samples, ), for example using ravel().\n",
      "  after removing the cwd from sys.path.\n",
      "/home/alia/.local/lib/python3.5/site-packages/ipykernel_launcher.py:4: DataConversionWarning: A column-vector y was passed when a 1d array was expected. Please change the shape of y to (n_samples, ), for example using ravel().\n",
      "  after removing the cwd from sys.path.\n",
      "/home/alia/.local/lib/python3.5/site-packages/ipykernel_launcher.py:4: DataConversionWarning: A column-vector y was passed when a 1d array was expected. Please change the shape of y to (n_samples, ), for example using ravel().\n",
      "  after removing the cwd from sys.path.\n",
      "/home/alia/.local/lib/python3.5/site-packages/ipykernel_launcher.py:4: DataConversionWarning: A column-vector y was passed when a 1d array was expected. Please change the shape of y to (n_samples, ), for example using ravel().\n",
      "  after removing the cwd from sys.path.\n",
      "/home/alia/.local/lib/python3.5/site-packages/ipykernel_launcher.py:4: DataConversionWarning: A column-vector y was passed when a 1d array was expected. Please change the shape of y to (n_samples, ), for example using ravel().\n",
      "  after removing the cwd from sys.path.\n",
      "/home/alia/.local/lib/python3.5/site-packages/ipykernel_launcher.py:4: DataConversionWarning: A column-vector y was passed when a 1d array was expected. Please change the shape of y to (n_samples, ), for example using ravel().\n",
      "  after removing the cwd from sys.path.\n",
      "/home/alia/.local/lib/python3.5/site-packages/ipykernel_launcher.py:4: DataConversionWarning: A column-vector y was passed when a 1d array was expected. Please change the shape of y to (n_samples, ), for example using ravel().\n",
      "  after removing the cwd from sys.path.\n",
      "/home/alia/.local/lib/python3.5/site-packages/ipykernel_launcher.py:4: DataConversionWarning: A column-vector y was passed when a 1d array was expected. Please change the shape of y to (n_samples, ), for example using ravel().\n",
      "  after removing the cwd from sys.path.\n",
      "/home/alia/.local/lib/python3.5/site-packages/ipykernel_launcher.py:4: DataConversionWarning: A column-vector y was passed when a 1d array was expected. Please change the shape of y to (n_samples, ), for example using ravel().\n",
      "  after removing the cwd from sys.path.\n",
      "/home/alia/.local/lib/python3.5/site-packages/ipykernel_launcher.py:4: DataConversionWarning: A column-vector y was passed when a 1d array was expected. Please change the shape of y to (n_samples, ), for example using ravel().\n",
      "  after removing the cwd from sys.path.\n",
      "/home/alia/.local/lib/python3.5/site-packages/ipykernel_launcher.py:4: DataConversionWarning: A column-vector y was passed when a 1d array was expected. Please change the shape of y to (n_samples, ), for example using ravel().\n",
      "  after removing the cwd from sys.path.\n",
      "/home/alia/.local/lib/python3.5/site-packages/ipykernel_launcher.py:4: DataConversionWarning: A column-vector y was passed when a 1d array was expected. Please change the shape of y to (n_samples, ), for example using ravel().\n",
      "  after removing the cwd from sys.path.\n",
      "/home/alia/.local/lib/python3.5/site-packages/ipykernel_launcher.py:4: DataConversionWarning: A column-vector y was passed when a 1d array was expected. Please change the shape of y to (n_samples, ), for example using ravel().\n",
      "  after removing the cwd from sys.path.\n",
      "/home/alia/.local/lib/python3.5/site-packages/ipykernel_launcher.py:4: DataConversionWarning: A column-vector y was passed when a 1d array was expected. Please change the shape of y to (n_samples, ), for example using ravel().\n",
      "  after removing the cwd from sys.path.\n",
      "/home/alia/.local/lib/python3.5/site-packages/ipykernel_launcher.py:4: DataConversionWarning: A column-vector y was passed when a 1d array was expected. Please change the shape of y to (n_samples, ), for example using ravel().\n",
      "  after removing the cwd from sys.path.\n",
      "/home/alia/.local/lib/python3.5/site-packages/ipykernel_launcher.py:4: DataConversionWarning: A column-vector y was passed when a 1d array was expected. Please change the shape of y to (n_samples, ), for example using ravel().\n",
      "  after removing the cwd from sys.path.\n",
      "/home/alia/.local/lib/python3.5/site-packages/ipykernel_launcher.py:4: DataConversionWarning: A column-vector y was passed when a 1d array was expected. Please change the shape of y to (n_samples, ), for example using ravel().\n",
      "  after removing the cwd from sys.path.\n",
      "/home/alia/.local/lib/python3.5/site-packages/ipykernel_launcher.py:4: DataConversionWarning: A column-vector y was passed when a 1d array was expected. Please change the shape of y to (n_samples, ), for example using ravel().\n",
      "  after removing the cwd from sys.path.\n",
      "/home/alia/.local/lib/python3.5/site-packages/ipykernel_launcher.py:4: DataConversionWarning: A column-vector y was passed when a 1d array was expected. Please change the shape of y to (n_samples, ), for example using ravel().\n",
      "  after removing the cwd from sys.path.\n",
      "/home/alia/.local/lib/python3.5/site-packages/ipykernel_launcher.py:4: DataConversionWarning: A column-vector y was passed when a 1d array was expected. Please change the shape of y to (n_samples, ), for example using ravel().\n",
      "  after removing the cwd from sys.path.\n",
      "/home/alia/.local/lib/python3.5/site-packages/ipykernel_launcher.py:4: DataConversionWarning: A column-vector y was passed when a 1d array was expected. Please change the shape of y to (n_samples, ), for example using ravel().\n",
      "  after removing the cwd from sys.path.\n"
     ]
    },
    {
     "name": "stderr",
     "output_type": "stream",
     "text": [
      "/home/alia/.local/lib/python3.5/site-packages/ipykernel_launcher.py:4: DataConversionWarning: A column-vector y was passed when a 1d array was expected. Please change the shape of y to (n_samples, ), for example using ravel().\n",
      "  after removing the cwd from sys.path.\n",
      "/home/alia/.local/lib/python3.5/site-packages/ipykernel_launcher.py:4: DataConversionWarning: A column-vector y was passed when a 1d array was expected. Please change the shape of y to (n_samples, ), for example using ravel().\n",
      "  after removing the cwd from sys.path.\n",
      "/home/alia/.local/lib/python3.5/site-packages/ipykernel_launcher.py:4: DataConversionWarning: A column-vector y was passed when a 1d array was expected. Please change the shape of y to (n_samples, ), for example using ravel().\n",
      "  after removing the cwd from sys.path.\n",
      "/home/alia/.local/lib/python3.5/site-packages/ipykernel_launcher.py:4: DataConversionWarning: A column-vector y was passed when a 1d array was expected. Please change the shape of y to (n_samples, ), for example using ravel().\n",
      "  after removing the cwd from sys.path.\n",
      "/home/alia/.local/lib/python3.5/site-packages/ipykernel_launcher.py:4: DataConversionWarning: A column-vector y was passed when a 1d array was expected. Please change the shape of y to (n_samples, ), for example using ravel().\n",
      "  after removing the cwd from sys.path.\n",
      "/home/alia/.local/lib/python3.5/site-packages/ipykernel_launcher.py:4: DataConversionWarning: A column-vector y was passed when a 1d array was expected. Please change the shape of y to (n_samples, ), for example using ravel().\n",
      "  after removing the cwd from sys.path.\n"
     ]
    }
   ],
   "source": [
    "k_list=[]\n",
    "for i in range(1,100):\n",
    "  classifier=KNeighborsClassifier(n_neighbors=i)\n",
    "  classifier.fit(X_train,y_train)\n",
    "  k_list.append(classifier.score(X_test,y_test))"
   ]
  },
  {
   "cell_type": "code",
   "execution_count": 118,
   "metadata": {},
   "outputs": [
    {
     "data": {
      "image/png": "[encoded data removed]",
      "text/plain": [
       "<Figure size 432x288 with 1 Axes>"
      ]
     },
     "metadata": {
      "needs_background": "light"
     },
     "output_type": "display_data"
    }
   ],
   "source": [
    "plt.plot(range(1,100),k_list)\n",
    "plt.ylabel('Validation acc')\n",
    "plt.title('nice')\n",
    "plt.show()"
   ]
  },
  {
   "cell_type": "code",
   "execution_count": 119,
   "metadata": {},
   "outputs": [
    {
     "name": "stderr",
     "output_type": "stream",
     "text": [
      "/home/alia/.local/lib/python3.5/site-packages/ipykernel_launcher.py:2: DataConversionWarning: A column-vector y was passed when a 1d array was expected. Please change the shape of y to (n_samples, ), for example using ravel().\n",
      "  \n"
     ]
    },
    {
     "data": {
      "text/plain": [
       "0.5861412072865817"
      ]
     },
     "execution_count": 119,
     "metadata": {},
     "output_type": "execute_result"
    }
   ],
   "source": [
    "KNNmod=KNeighborsClassifier(n_neighbors=25)\n",
    "KNNmod.fit(X_train,y_train)\n",
    "#Score RF fit.\n",
    "KNNmod.score(X_train, y_train)"
   ]
  },
  {
   "cell_type": "code",
   "execution_count": 120,
   "metadata": {},
   "outputs": [
    {
     "name": "stdout",
     "output_type": "stream",
     "text": [
      "Accuracy score: 54.047619047619044\n",
      "F1 score: 47.86314003396257\n",
      "Recall score: 47.79673860996388\n",
      "Precision score: 52.73702890572333\n",
      "Confusion matrix: [[151  73 348]\n",
      " [ 61 206 282]\n",
      " [ 86 115 778]]\n",
      "Classification report:               precision    recall  f1-score   support\n",
      "\n",
      "           0       0.51      0.26      0.35       572\n",
      "           1       0.52      0.38      0.44       549\n",
      "           2       0.55      0.79      0.65       979\n",
      "\n",
      "    accuracy                           0.54      2100\n",
      "   macro avg       0.53      0.48      0.48      2100\n",
      "weighted avg       0.53      0.54      0.51      2100\n",
      "\n"
     ]
    },
    {
     "name": "stderr",
     "output_type": "stream",
     "text": [
      "/usr/local/lib/python3.5/dist-packages/sklearn/metrics/_classification.py:1321: UserWarning: Note that pos_label (set to 'positive') is ignored when average != 'binary' (got 'macro'). You may use labels=[pos_label] to specify a single positive class.\n",
      "  % (pos_label, average), UserWarning)\n"
     ]
    }
   ],
   "source": [
    "#Predict from manufactured test and score\n",
    "KNNpred = KNNmod.predict(X_test)\n",
    "print('Accuracy score:', accuracy_score(y_test,KNNpred)*100)\n",
    "print('F1 score:', f1_score(y_test, KNNpred,pos_label='positive',average='macro')*100)\n",
    "print('Recall score:', recall_score(y_test, KNNpred,pos_label='positive',average='macro')*100)\n",
    "print('Precision score:', precision_score(y_test, KNNpred,pos_label='positive',average='macro')*100)\n",
    "print('Confusion matrix:', confusion_matrix(y_test, KNNpred))\n",
    "print('Classification report:', classification_report(y_test, KNNpred))"
   ]
  },
  {
   "cell_type": "code",
   "execution_count": 121,
   "metadata": {},
   "outputs": [
    {
     "name": "stderr",
     "output_type": "stream",
     "text": [
      "/usr/local/lib/python3.5/dist-packages/sklearn/utils/validation.py:760: DataConversionWarning: A column-vector y was passed when a 1d array was expected. Please change the shape of y to (n_samples, ), for example using ravel().\n",
      "  y = column_or_1d(y, warn=True)\n"
     ]
    },
    {
     "data": {
      "text/plain": [
       "1.0"
      ]
     },
     "execution_count": 121,
     "metadata": {},
     "output_type": "execute_result"
    }
   ],
   "source": [
    "SVCmod=SVC(kernel='rbf',gamma=0.1)\n",
    "SVCmod.fit(X_train,y_train)\n",
    "#Score DT fit.\n",
    "SVCmod.score(X_train, y_train)"
   ]
  },
  {
   "cell_type": "code",
   "execution_count": 122,
   "metadata": {},
   "outputs": [
    {
     "name": "stderr",
     "output_type": "stream",
     "text": [
      "/usr/local/lib/python3.5/dist-packages/sklearn/utils/validation.py:760: DataConversionWarning: A column-vector y was passed when a 1d array was expected. Please change the shape of y to (n_samples, ), for example using ravel().\n",
      "  y = column_or_1d(y, warn=True)\n",
      "/usr/local/lib/python3.5/dist-packages/sklearn/utils/validation.py:760: DataConversionWarning: A column-vector y was passed when a 1d array was expected. Please change the shape of y to (n_samples, ), for example using ravel().\n",
      "  y = column_or_1d(y, warn=True)\n",
      "/usr/local/lib/python3.5/dist-packages/sklearn/utils/validation.py:760: DataConversionWarning: A column-vector y was passed when a 1d array was expected. Please change the shape of y to (n_samples, ), for example using ravel().\n",
      "  y = column_or_1d(y, warn=True)\n",
      "/usr/local/lib/python3.5/dist-packages/sklearn/utils/validation.py:760: DataConversionWarning: A column-vector y was passed when a 1d array was expected. Please change the shape of y to (n_samples, ), for example using ravel().\n",
      "  y = column_or_1d(y, warn=True)\n",
      "/usr/local/lib/python3.5/dist-packages/sklearn/utils/validation.py:760: DataConversionWarning: A column-vector y was passed when a 1d array was expected. Please change the shape of y to (n_samples, ), for example using ravel().\n",
      "  y = column_or_1d(y, warn=True)\n",
      "/usr/local/lib/python3.5/dist-packages/sklearn/utils/validation.py:760: DataConversionWarning: A column-vector y was passed when a 1d array was expected. Please change the shape of y to (n_samples, ), for example using ravel().\n",
      "  y = column_or_1d(y, warn=True)\n",
      "/usr/local/lib/python3.5/dist-packages/sklearn/utils/validation.py:760: DataConversionWarning: A column-vector y was passed when a 1d array was expected. Please change the shape of y to (n_samples, ), for example using ravel().\n",
      "  y = column_or_1d(y, warn=True)\n",
      "/usr/local/lib/python3.5/dist-packages/sklearn/utils/validation.py:760: DataConversionWarning: A column-vector y was passed when a 1d array was expected. Please change the shape of y to (n_samples, ), for example using ravel().\n",
      "  y = column_or_1d(y, warn=True)\n",
      "/usr/local/lib/python3.5/dist-packages/sklearn/utils/validation.py:760: DataConversionWarning: A column-vector y was passed when a 1d array was expected. Please change the shape of y to (n_samples, ), for example using ravel().\n",
      "  y = column_or_1d(y, warn=True)\n",
      "/usr/local/lib/python3.5/dist-packages/sklearn/utils/validation.py:760: DataConversionWarning: A column-vector y was passed when a 1d array was expected. Please change the shape of y to (n_samples, ), for example using ravel().\n",
      "  y = column_or_1d(y, warn=True)\n"
     ]
    },
    {
     "name": "stdout",
     "output_type": "stream",
     "text": [
      "[1.0, 1.0, 1.0, 1.0, 1.0, 1.0, 1.0, 1.0, 1.0, 1.0]\n"
     ]
    }
   ],
   "source": [
    "gammalist=[]\n",
    "for i in range(1,11):\n",
    "    SVCmod=SVC(kernel='rbf',gamma=float(i/10))\n",
    "    SVCmod.fit(X_train,y_train)\n",
    "    gammalist.append(SVCmod.score(X_train, y_train))\n",
    "    \n",
    "print(gammalist)"
   ]
  },
  {
   "cell_type": "code",
   "execution_count": 123,
   "metadata": {},
   "outputs": [
    {
     "data": {
      "image/png": "[encoded data removed]",
      "text/plain": [
       "<Figure size 432x288 with 1 Axes>"
      ]
     },
     "metadata": {
      "needs_background": "light"
     },
     "output_type": "display_data"
    }
   ],
   "source": [
    "plt.plot(range(1,11),gammalist)\n",
    "plt.ylabel('Validation acc')\n",
    "plt.title('nice')\n",
    "plt.show()"
   ]
  },
  {
   "cell_type": "code",
   "execution_count": 124,
   "metadata": {},
   "outputs": [
    {
     "name": "stderr",
     "output_type": "stream",
     "text": [
      "/usr/local/lib/python3.5/dist-packages/sklearn/utils/validation.py:760: DataConversionWarning: A column-vector y was passed when a 1d array was expected. Please change the shape of y to (n_samples, ), for example using ravel().\n",
      "  y = column_or_1d(y, warn=True)\n"
     ]
    },
    {
     "data": {
      "text/plain": [
       "1.0"
      ]
     },
     "execution_count": 124,
     "metadata": {},
     "output_type": "execute_result"
    }
   ],
   "source": [
    "SVCmod=SVC(kernel='rbf',gamma=0.2)\n",
    "SVCmod.fit(X_train,y_train)\n",
    "#Score DT fit.\n",
    "SVCmod.score(X_train, y_train)"
   ]
  },
  {
   "cell_type": "code",
   "execution_count": 125,
   "metadata": {},
   "outputs": [
    {
     "name": "stdout",
     "output_type": "stream",
     "text": [
      "Accuracy score: 46.61904761904762\n",
      "F1 score: 21.19735844971311\n",
      "Recall score: 33.33333333333333\n",
      "Precision score: 15.53968253968254\n",
      "Confusion matrix: [[  0   0 572]\n",
      " [  0   0 549]\n",
      " [  0   0 979]]\n",
      "Classification report:               precision    recall  f1-score   support\n",
      "\n",
      "           0       0.00      0.00      0.00       572\n",
      "           1       0.00      0.00      0.00       549\n",
      "           2       0.47      1.00      0.64       979\n",
      "\n",
      "    accuracy                           0.47      2100\n",
      "   macro avg       0.16      0.33      0.21      2100\n",
      "weighted avg       0.22      0.47      0.30      2100\n",
      "\n"
     ]
    },
    {
     "name": "stderr",
     "output_type": "stream",
     "text": [
      "/usr/local/lib/python3.5/dist-packages/sklearn/metrics/_classification.py:1321: UserWarning: Note that pos_label (set to 'positive') is ignored when average != 'binary' (got 'macro'). You may use labels=[pos_label] to specify a single positive class.\n",
      "  % (pos_label, average), UserWarning)\n",
      "/usr/local/lib/python3.5/dist-packages/sklearn/metrics/_classification.py:1272: UndefinedMetricWarning: Precision is ill-defined and being set to 0.0 in labels with no predicted samples. Use `zero_division` parameter to control this behavior.\n",
      "  _warn_prf(average, modifier, msg_start, len(result))\n",
      "/usr/local/lib/python3.5/dist-packages/sklearn/metrics/_classification.py:1272: UndefinedMetricWarning: Precision and F-score are ill-defined and being set to 0.0 in labels with no predicted samples. Use `zero_division` parameter to control this behavior.\n",
      "  _warn_prf(average, modifier, msg_start, len(result))\n"
     ]
    }
   ],
   "source": [
    "#Predict from manufactured test and score\n",
    "SVCpred = SVCmod.predict(X_test)\n",
    "print('Accuracy score:', accuracy_score(y_test,SVCpred)*100)\n",
    "print('F1 score:', f1_score(y_test, SVCpred,pos_label='positive',average='macro')*100)\n",
    "print('Recall score:', recall_score(y_test, SVCpred,pos_label='positive',average='macro')*100)\n",
    "print('Precision score:', precision_score(y_test, SVCpred,pos_label='positive',average='macro')*100)\n",
    "print('Confusion matrix:', confusion_matrix(y_test, SVCpred))\n",
    "print('Classification report:', classification_report(y_test, SVCpred))"
   ]
  },
  {
   "cell_type": "code",
   "execution_count": 126,
   "metadata": {},
   "outputs": [
    {
     "name": "stderr",
     "output_type": "stream",
     "text": [
      "/home/alia/.local/lib/python3.5/site-packages/ipykernel_launcher.py:3: DataConversionWarning: A column-vector y was passed when a 1d array was expected. Please change the shape of y to (n_samples,), for example using ravel().\n",
      "  This is separate from the ipykernel package so we can avoid doing imports until\n"
     ]
    },
    {
     "data": {
      "text/plain": [
       "1.0"
      ]
     },
     "execution_count": 126,
     "metadata": {},
     "output_type": "execute_result"
    }
   ],
   "source": [
    "#Train and fit Random Forest model.\n",
    "RFmod=RandomForestClassifier(n_estimators=100,random_state=77)\n",
    "RFmod.fit(X_train,y_train)\n",
    "#Score RF fit.\n",
    "RFmod.score(X_train, y_train)"
   ]
  },
  {
   "cell_type": "code",
   "execution_count": 127,
   "metadata": {},
   "outputs": [
    {
     "name": "stdout",
     "output_type": "stream",
     "text": [
      "Accuracy score: 57.76190476190476\n",
      "F1 score: 51.888108003997424\n",
      "Recall score: 51.37819481160797\n",
      "Precision score: 57.964746486651876\n",
      "Confusion matrix: [[176  70 326]\n",
      " [ 53 218 278]\n",
      " [ 75  85 819]]\n",
      "Classification report:               precision    recall  f1-score   support\n",
      "\n",
      "           0       0.58      0.31      0.40       572\n",
      "           1       0.58      0.40      0.47       549\n",
      "           2       0.58      0.84      0.68       979\n",
      "\n",
      "    accuracy                           0.58      2100\n",
      "   macro avg       0.58      0.51      0.52      2100\n",
      "weighted avg       0.58      0.58      0.55      2100\n",
      "\n"
     ]
    },
    {
     "name": "stderr",
     "output_type": "stream",
     "text": [
      "/usr/local/lib/python3.5/dist-packages/sklearn/metrics/_classification.py:1321: UserWarning: Note that pos_label (set to 'positive') is ignored when average != 'binary' (got 'macro'). You may use labels=[pos_label] to specify a single positive class.\n",
      "  % (pos_label, average), UserWarning)\n"
     ]
    }
   ],
   "source": [
    "#Predict from manufactured test and score\n",
    "RFpred = RFmod.predict(X_test)\n",
    "print('Accuracy score:', accuracy_score(y_test,RFpred)*100)\n",
    "print('F1 score:', f1_score(y_test, RFpred,pos_label='positive',average='macro')*100)\n",
    "print('Recall score:', recall_score(y_test, RFpred,pos_label='positive',average='macro')*100)\n",
    "print('Precision score:', precision_score(y_test, RFpred,pos_label='positive',average='macro')*100)\n",
    "print('Confusion matrix:', confusion_matrix(y_test, RFpred))\n",
    "print('Classification report:', classification_report(y_test, RFpred))"
   ]
  },
  {
   "cell_type": "code",
   "execution_count": 128,
   "metadata": {},
   "outputs": [
    {
     "data": {
      "text/plain": [
       "0.07495188351932913"
      ]
     },
     "execution_count": 128,
     "metadata": {},
     "output_type": "execute_result"
    }
   ],
   "source": [
    "lm = LinearRegression()\n",
    "lm.fit(X_train, y_train)\n",
    "lm.score(X_train, y_train)"
   ]
  },
  {
   "cell_type": "code",
   "execution_count": 129,
   "metadata": {},
   "outputs": [
    {
     "data": {
      "text/plain": [
       "0.09634329407710263"
      ]
     },
     "execution_count": 129,
     "metadata": {},
     "output_type": "execute_result"
    }
   ],
   "source": [
    "lm.score(X_test, y_test)"
   ]
  },
  {
   "cell_type": "code",
   "execution_count": 73,
   "metadata": {},
   "outputs": [],
   "source": [
    "#print(\"The linear model is: Y = {:.5} + {:.5}*x1 + {:.5}*x2 + {:.5}*x3+ {:.5}*cav4\".format(lm.intercept_[0], lm.coef_[0][0], lm.coef_[0][1], lm.coef_[0][2], lm.coef_[0][3]))"
   ]
  },
  {
   "cell_type": "code",
   "execution_count": 104,
   "metadata": {},
   "outputs": [
    {
     "name": "stdout",
     "output_type": "stream",
     "text": [
      "                            OLS Regression Results                            \n",
      "==============================================================================\n",
      "Dep. Variable:               location   R-squared:                       0.042\n",
      "Model:                            OLS   Adj. R-squared:                  0.041\n",
      "Method:                 Least Squares   F-statistic:                     42.99\n",
      "Date:                Fri, 01 May 2020   Prob (F-statistic):          1.33e-108\n",
      "Time:                        17:21:19   Log-Likelihood:                -15328.\n",
      "No. Observations:               12750   AIC:                         3.068e+04\n",
      "Df Residuals:                   12736   BIC:                         3.079e+04\n",
      "Df Model:                          13                                         \n",
      "Covariance Type:            nonrobust                                         \n",
      "==============================================================================\n",
      "                 coef    std err          t      P>|t|      [0.025      0.975]\n",
      "------------------------------------------------------------------------------\n",
      "const          2.1634      0.214     10.115      0.000       1.744       2.583\n",
      "x1            -0.0960      0.037     -2.611      0.009      -0.168      -0.024\n",
      "x2             0.0810      0.047      1.739      0.082      -0.010       0.172\n",
      "x3             0.0028      0.000      7.236      0.000       0.002       0.004\n",
      "x4             0.0039      0.000     12.199      0.000       0.003       0.005\n",
      "x5             0.0028      0.014      0.206      0.837      -0.024       0.029\n",
      "x6             0.0101      0.009      1.098      0.272      -0.008       0.028\n",
      "x7             0.0192      0.011      1.688      0.092      -0.003       0.042\n",
      "x8             0.0106      0.004      2.863      0.004       0.003       0.018\n",
      "x9             0.0544      0.020      2.735      0.006       0.015       0.093\n",
      "x10            0.0421      0.016      2.678      0.007       0.011       0.073\n",
      "x11            0.0259      0.016      1.604      0.109      -0.006       0.058\n",
      "x12            0.0030      0.015      0.196      0.845      -0.027       0.033\n",
      "x13           -0.0364      0.016     -2.297      0.022      -0.068      -0.005\n",
      "==============================================================================\n",
      "Omnibus:                   124088.368   Durbin-Watson:                   0.035\n",
      "Prob(Omnibus):                  0.000   Jarque-Bera (JB):             1114.322\n",
      "Skew:                          -0.192   Prob(JB):                    1.07e-242\n",
      "Kurtosis:                       1.604   Cond. No.                     4.91e+03\n",
      "==============================================================================\n",
      "\n",
      "Warnings:\n",
      "[1] Standard Errors assume that the covariance matrix of the errors is correctly specified.\n",
      "[2] The condition number is large, 4.91e+03. This might indicate that there are\n",
      "strong multicollinearity or other numerical problems.\n"
     ]
    }
   ],
   "source": [
    "X = np.column_stack((df['SCRMSD'], df['CARMSD'], df['CHI1'],df['CHI2'],df['SELFDIHED'],df['SELFVDW'],df['SELFELEC'],df['SelfALL'],df['MBDIHED'],df['MBVDW'],df['MBELEC'],df['MBALL'],df['SCHBOND#']))\n",
    "y = df['location']\n",
    "X2 = sm.add_constant(X)\n",
    "est = sm.OLS(y, X2)\n",
    "est2 = est.fit()\n",
    "print(est2.summary())"
   ]
  },
  {
   "cell_type": "code",
   "execution_count": 62,
   "metadata": {},
   "outputs": [
    {
     "name": "stderr",
     "output_type": "stream",
     "text": [
      "/usr/local/lib/python3.5/dist-packages/sklearn/utils/validation.py:760: DataConversionWarning: A column-vector y was passed when a 1d array was expected. Please change the shape of y to (n_samples, ), for example using ravel().\n",
      "  y = column_or_1d(y, warn=True)\n"
     ]
    },
    {
     "ename": "ValueError",
     "evalue": "shape mismatch: objects cannot be broadcast to a single shape",
     "output_type": "error",
     "traceback": [
      "\u001b[0;31m---------------------------------------------------------------------------\u001b[0m",
      "\u001b[0;31mValueError\u001b[0m                                Traceback (most recent call last)",
      "\u001b[0;32m<ipython-input-62-7369ff63ee48>\u001b[0m in \u001b[0;36m<module>\u001b[0;34m\u001b[0m\n\u001b[1;32m     19\u001b[0m \u001b[0;31m# You can also discard the abs() function\u001b[0m\u001b[0;34m\u001b[0m\u001b[0;34m\u001b[0m\u001b[0m\n\u001b[1;32m     20\u001b[0m \u001b[0;31m# if you are interested in negative contribution of features\u001b[0m\u001b[0;34m\u001b[0m\u001b[0;34m\u001b[0m\u001b[0m\n\u001b[0;32m---> 21\u001b[0;31m \u001b[0mf_importances\u001b[0m\u001b[0;34m(\u001b[0m\u001b[0mabs\u001b[0m\u001b[0;34m(\u001b[0m\u001b[0msvm\u001b[0m\u001b[0;34m.\u001b[0m\u001b[0mcoef_\u001b[0m\u001b[0;34m[\u001b[0m\u001b[0;36m0\u001b[0m\u001b[0;34m]\u001b[0m\u001b[0;34m)\u001b[0m\u001b[0;34m,\u001b[0m \u001b[0mfeatures_names\u001b[0m\u001b[0;34m,\u001b[0m \u001b[0mtop\u001b[0m\u001b[0;34m=\u001b[0m\u001b[0;36m10\u001b[0m\u001b[0;34m)\u001b[0m\u001b[0;34m\u001b[0m\u001b[0m\n\u001b[0m",
      "\u001b[0;32m<ipython-input-62-7369ff63ee48>\u001b[0m in \u001b[0;36mf_importances\u001b[0;34m(coef, names, top)\u001b[0m\n\u001b[1;32m      7\u001b[0m         \u001b[0mtop\u001b[0m \u001b[0;34m=\u001b[0m \u001b[0mlen\u001b[0m\u001b[0;34m(\u001b[0m\u001b[0mnames\u001b[0m\u001b[0;34m)\u001b[0m\u001b[0;34m\u001b[0m\u001b[0m\n\u001b[1;32m      8\u001b[0m \u001b[0;34m\u001b[0m\u001b[0m\n\u001b[0;32m----> 9\u001b[0;31m     \u001b[0mplt\u001b[0m\u001b[0;34m.\u001b[0m\u001b[0mbarh\u001b[0m\u001b[0;34m(\u001b[0m\u001b[0mrange\u001b[0m\u001b[0;34m(\u001b[0m\u001b[0mtop\u001b[0m\u001b[0;34m)\u001b[0m\u001b[0;34m,\u001b[0m \u001b[0mimp\u001b[0m\u001b[0;34m[\u001b[0m\u001b[0;34m:\u001b[0m\u001b[0;34m:\u001b[0m\u001b[0;34m-\u001b[0m\u001b[0;36m1\u001b[0m\u001b[0;34m]\u001b[0m\u001b[0;34m[\u001b[0m\u001b[0;36m0\u001b[0m\u001b[0;34m:\u001b[0m\u001b[0mtop\u001b[0m\u001b[0;34m]\u001b[0m\u001b[0;34m,\u001b[0m \u001b[0malign\u001b[0m\u001b[0;34m=\u001b[0m\u001b[0;34m'center'\u001b[0m\u001b[0;34m)\u001b[0m\u001b[0;34m\u001b[0m\u001b[0m\n\u001b[0m\u001b[1;32m     10\u001b[0m     \u001b[0mplt\u001b[0m\u001b[0;34m.\u001b[0m\u001b[0myticks\u001b[0m\u001b[0;34m(\u001b[0m\u001b[0mrange\u001b[0m\u001b[0;34m(\u001b[0m\u001b[0mtop\u001b[0m\u001b[0;34m)\u001b[0m\u001b[0;34m,\u001b[0m \u001b[0mnames\u001b[0m\u001b[0;34m[\u001b[0m\u001b[0;34m:\u001b[0m\u001b[0;34m:\u001b[0m\u001b[0;34m-\u001b[0m\u001b[0;36m1\u001b[0m\u001b[0;34m]\u001b[0m\u001b[0;34m[\u001b[0m\u001b[0;36m0\u001b[0m\u001b[0;34m:\u001b[0m\u001b[0mtop\u001b[0m\u001b[0;34m]\u001b[0m\u001b[0;34m)\u001b[0m\u001b[0;34m\u001b[0m\u001b[0m\n\u001b[1;32m     11\u001b[0m     \u001b[0mplt\u001b[0m\u001b[0;34m.\u001b[0m\u001b[0mshow\u001b[0m\u001b[0;34m(\u001b[0m\u001b[0;34m)\u001b[0m\u001b[0;34m\u001b[0m\u001b[0m\n",
      "\u001b[0;32m/usr/local/lib/python3.5/dist-packages/matplotlib/pyplot.py\u001b[0m in \u001b[0;36mbarh\u001b[0;34m(y, width, height, left, align, **kwargs)\u001b[0m\n\u001b[1;32m   2469\u001b[0m \u001b[0;32mdef\u001b[0m \u001b[0mbarh\u001b[0m\u001b[0;34m(\u001b[0m\u001b[0my\u001b[0m\u001b[0;34m,\u001b[0m \u001b[0mwidth\u001b[0m\u001b[0;34m,\u001b[0m \u001b[0mheight\u001b[0m\u001b[0;34m=\u001b[0m\u001b[0;36m0.8\u001b[0m\u001b[0;34m,\u001b[0m \u001b[0mleft\u001b[0m\u001b[0;34m=\u001b[0m\u001b[0;32mNone\u001b[0m\u001b[0;34m,\u001b[0m \u001b[0;34m*\u001b[0m\u001b[0;34m,\u001b[0m \u001b[0malign\u001b[0m\u001b[0;34m=\u001b[0m\u001b[0;34m'center'\u001b[0m\u001b[0;34m,\u001b[0m \u001b[0;34m**\u001b[0m\u001b[0mkwargs\u001b[0m\u001b[0;34m)\u001b[0m\u001b[0;34m:\u001b[0m\u001b[0;34m\u001b[0m\u001b[0m\n\u001b[1;32m   2470\u001b[0m     return gca().barh(\n\u001b[0;32m-> 2471\u001b[0;31m         y, width, height=height, left=left, align=align, **kwargs)\n\u001b[0m\u001b[1;32m   2472\u001b[0m \u001b[0;34m\u001b[0m\u001b[0m\n\u001b[1;32m   2473\u001b[0m \u001b[0;34m\u001b[0m\u001b[0m\n",
      "\u001b[0;32m/usr/local/lib/python3.5/dist-packages/matplotlib/axes/_axes.py\u001b[0m in \u001b[0;36mbarh\u001b[0;34m(self, y, width, height, left, align, **kwargs)\u001b[0m\n\u001b[1;32m   2461\u001b[0m         \u001b[0mkwargs\u001b[0m\u001b[0;34m.\u001b[0m\u001b[0msetdefault\u001b[0m\u001b[0;34m(\u001b[0m\u001b[0;34m'orientation'\u001b[0m\u001b[0;34m,\u001b[0m \u001b[0;34m'horizontal'\u001b[0m\u001b[0;34m)\u001b[0m\u001b[0;34m\u001b[0m\u001b[0m\n\u001b[1;32m   2462\u001b[0m         patches = self.bar(x=left, height=height, width=width, bottom=y,\n\u001b[0;32m-> 2463\u001b[0;31m                            align=align, **kwargs)\n\u001b[0m\u001b[1;32m   2464\u001b[0m         \u001b[0;32mreturn\u001b[0m \u001b[0mpatches\u001b[0m\u001b[0;34m\u001b[0m\u001b[0m\n\u001b[1;32m   2465\u001b[0m \u001b[0;34m\u001b[0m\u001b[0m\n",
      "\u001b[0;32m/usr/local/lib/python3.5/dist-packages/matplotlib/__init__.py\u001b[0m in \u001b[0;36minner\u001b[0;34m(ax, data, *args, **kwargs)\u001b[0m\n\u001b[1;32m   1808\u001b[0m                         \u001b[0;34m\"the Matplotlib list!)\"\u001b[0m \u001b[0;34m%\u001b[0m \u001b[0;34m(\u001b[0m\u001b[0mlabel_namer\u001b[0m\u001b[0;34m,\u001b[0m \u001b[0mfunc\u001b[0m\u001b[0;34m.\u001b[0m\u001b[0m__name__\u001b[0m\u001b[0;34m)\u001b[0m\u001b[0;34m,\u001b[0m\u001b[0;34m\u001b[0m\u001b[0m\n\u001b[1;32m   1809\u001b[0m                         RuntimeWarning, stacklevel=2)\n\u001b[0;32m-> 1810\u001b[0;31m             \u001b[0;32mreturn\u001b[0m \u001b[0mfunc\u001b[0m\u001b[0;34m(\u001b[0m\u001b[0max\u001b[0m\u001b[0;34m,\u001b[0m \u001b[0;34m*\u001b[0m\u001b[0margs\u001b[0m\u001b[0;34m,\u001b[0m \u001b[0;34m**\u001b[0m\u001b[0mkwargs\u001b[0m\u001b[0;34m)\u001b[0m\u001b[0;34m\u001b[0m\u001b[0m\n\u001b[0m\u001b[1;32m   1811\u001b[0m \u001b[0;34m\u001b[0m\u001b[0m\n\u001b[1;32m   1812\u001b[0m         inner.__doc__ = _add_data_doc(inner.__doc__,\n",
      "\u001b[0;32m/usr/local/lib/python3.5/dist-packages/matplotlib/axes/_axes.py\u001b[0m in \u001b[0;36mbar\u001b[0;34m(self, x, height, width, bottom, align, **kwargs)\u001b[0m\n\u001b[1;32m   2249\u001b[0m         x, height, width, y, linewidth = np.broadcast_arrays(\n\u001b[1;32m   2250\u001b[0m             \u001b[0;31m# Make args iterable too.\u001b[0m\u001b[0;34m\u001b[0m\u001b[0;34m\u001b[0m\u001b[0m\n\u001b[0;32m-> 2251\u001b[0;31m             np.atleast_1d(x), height, width, y, linewidth)\n\u001b[0m\u001b[1;32m   2252\u001b[0m \u001b[0;34m\u001b[0m\u001b[0m\n\u001b[1;32m   2253\u001b[0m         \u001b[0;31m# Now that units have been converted, set the tick locations.\u001b[0m\u001b[0;34m\u001b[0m\u001b[0;34m\u001b[0m\u001b[0m\n",
      "\u001b[0;32m<__array_function__ internals>\u001b[0m in \u001b[0;36mbroadcast_arrays\u001b[0;34m(*args, **kwargs)\u001b[0m\n",
      "\u001b[0;32m/usr/local/lib/python3.5/dist-packages/numpy/lib/stride_tricks.py\u001b[0m in \u001b[0;36mbroadcast_arrays\u001b[0;34m(*args, **kwargs)\u001b[0m\n\u001b[1;32m    262\u001b[0m     \u001b[0margs\u001b[0m \u001b[0;34m=\u001b[0m \u001b[0;34m[\u001b[0m\u001b[0mnp\u001b[0m\u001b[0;34m.\u001b[0m\u001b[0marray\u001b[0m\u001b[0;34m(\u001b[0m\u001b[0m_m\u001b[0m\u001b[0;34m,\u001b[0m \u001b[0mcopy\u001b[0m\u001b[0;34m=\u001b[0m\u001b[0;32mFalse\u001b[0m\u001b[0;34m,\u001b[0m \u001b[0msubok\u001b[0m\u001b[0;34m=\u001b[0m\u001b[0msubok\u001b[0m\u001b[0;34m)\u001b[0m \u001b[0;32mfor\u001b[0m \u001b[0m_m\u001b[0m \u001b[0;32min\u001b[0m \u001b[0margs\u001b[0m\u001b[0;34m]\u001b[0m\u001b[0;34m\u001b[0m\u001b[0m\n\u001b[1;32m    263\u001b[0m \u001b[0;34m\u001b[0m\u001b[0m\n\u001b[0;32m--> 264\u001b[0;31m     \u001b[0mshape\u001b[0m \u001b[0;34m=\u001b[0m \u001b[0m_broadcast_shape\u001b[0m\u001b[0;34m(\u001b[0m\u001b[0;34m*\u001b[0m\u001b[0margs\u001b[0m\u001b[0;34m)\u001b[0m\u001b[0;34m\u001b[0m\u001b[0m\n\u001b[0m\u001b[1;32m    265\u001b[0m \u001b[0;34m\u001b[0m\u001b[0m\n\u001b[1;32m    266\u001b[0m     \u001b[0;32mif\u001b[0m \u001b[0mall\u001b[0m\u001b[0;34m(\u001b[0m\u001b[0marray\u001b[0m\u001b[0;34m.\u001b[0m\u001b[0mshape\u001b[0m \u001b[0;34m==\u001b[0m \u001b[0mshape\u001b[0m \u001b[0;32mfor\u001b[0m \u001b[0marray\u001b[0m \u001b[0;32min\u001b[0m \u001b[0margs\u001b[0m\u001b[0;34m)\u001b[0m\u001b[0;34m:\u001b[0m\u001b[0;34m\u001b[0m\u001b[0m\n",
      "\u001b[0;32m/usr/local/lib/python3.5/dist-packages/numpy/lib/stride_tricks.py\u001b[0m in \u001b[0;36m_broadcast_shape\u001b[0;34m(*args)\u001b[0m\n\u001b[1;32m    189\u001b[0m     \u001b[0;31m# use the old-iterator because np.nditer does not handle size 0 arrays\u001b[0m\u001b[0;34m\u001b[0m\u001b[0;34m\u001b[0m\u001b[0m\n\u001b[1;32m    190\u001b[0m     \u001b[0;31m# consistently\u001b[0m\u001b[0;34m\u001b[0m\u001b[0;34m\u001b[0m\u001b[0m\n\u001b[0;32m--> 191\u001b[0;31m     \u001b[0mb\u001b[0m \u001b[0;34m=\u001b[0m \u001b[0mnp\u001b[0m\u001b[0;34m.\u001b[0m\u001b[0mbroadcast\u001b[0m\u001b[0;34m(\u001b[0m\u001b[0;34m*\u001b[0m\u001b[0margs\u001b[0m\u001b[0;34m[\u001b[0m\u001b[0;34m:\u001b[0m\u001b[0;36m32\u001b[0m\u001b[0;34m]\u001b[0m\u001b[0;34m)\u001b[0m\u001b[0;34m\u001b[0m\u001b[0m\n\u001b[0m\u001b[1;32m    192\u001b[0m     \u001b[0;31m# unfortunately, it cannot handle 32 or more arguments directly\u001b[0m\u001b[0;34m\u001b[0m\u001b[0;34m\u001b[0m\u001b[0m\n\u001b[1;32m    193\u001b[0m     \u001b[0;32mfor\u001b[0m \u001b[0mpos\u001b[0m \u001b[0;32min\u001b[0m \u001b[0mrange\u001b[0m\u001b[0;34m(\u001b[0m\u001b[0;36m32\u001b[0m\u001b[0;34m,\u001b[0m \u001b[0mlen\u001b[0m\u001b[0;34m(\u001b[0m\u001b[0margs\u001b[0m\u001b[0;34m)\u001b[0m\u001b[0;34m,\u001b[0m \u001b[0;36m31\u001b[0m\u001b[0;34m)\u001b[0m\u001b[0;34m:\u001b[0m\u001b[0;34m\u001b[0m\u001b[0m\n",
      "\u001b[0;31mValueError\u001b[0m: shape mismatch: objects cannot be broadcast to a single shape"
     ]
    },
    {
     "data": {
      "image/png": "[encoded data removed]",
      "text/plain": [
       "<Figure size 576x720 with 1 Axes>"
      ]
     },
     "metadata": {
      "needs_background": "light"
     },
     "output_type": "display_data"
    }
   ],
   "source": [
    "def f_importances(coef, names, top=-1):\n",
    "    imp = coef\n",
    "    imp, names = zip(*sorted(list(zip(imp, names))))\n",
    "\n",
    "    # Show all features\n",
    "    if top == -1:\n",
    "        top = len(names)\n",
    "\n",
    "    plt.barh(range(top), imp[::-1][0:top], align='center')\n",
    "    plt.yticks(range(top), names[::-1][0:top])\n",
    "    plt.show()\n",
    "\n",
    "# whatever your features are called\n",
    "features_names = ['cav1', 'cav2','cav3','cav4']\n",
    "svm = svm.SVC(kernel='linear')\n",
    "svm.fit(X_train, y_train)\n",
    "\n",
    "# Specify your top n features you want to visualize.\n",
    "# You can also discard the abs() function \n",
    "# if you are interested in negative contribution of features\n",
    "f_importances(abs(svm.coef_[0]), features_names, top=10)"
   ]
  },
  {
   "cell_type": "code",
   "execution_count": 130,
   "metadata": {},
   "outputs": [
    {
     "data": {
      "text/plain": [
       "0.6446005476842481"
      ]
     },
     "execution_count": 130,
     "metadata": {},
     "output_type": "execute_result"
    }
   ],
   "source": [
    "DTmod=DecisionTreeClassifier(criterion='gini', random_state = 77,max_depth=10)\n",
    "DTmod.fit(X_train,y_train)\n",
    "#Score DT fit.\n",
    "DTmod.score(X_train, y_train)"
   ]
  },
  {
   "cell_type": "code",
   "execution_count": 131,
   "metadata": {},
   "outputs": [
    {
     "name": "stdout",
     "output_type": "stream",
     "text": [
      "Accuracy score: 54.095238095238095\n",
      "F1 score: 48.42859019355821\n",
      "Recall score: 48.10423045365024\n",
      "Precision score: 52.670901399317884\n",
      "Confusion matrix: [[181  81 310]\n",
      " [ 59 189 301]\n",
      " [110 103 766]]\n",
      "Classification report:               precision    recall  f1-score   support\n",
      "\n",
      "           0       0.52      0.32      0.39       572\n",
      "           1       0.51      0.34      0.41       549\n",
      "           2       0.56      0.78      0.65       979\n",
      "\n",
      "    accuracy                           0.54      2100\n",
      "   macro avg       0.53      0.48      0.48      2100\n",
      "weighted avg       0.53      0.54      0.52      2100\n",
      "\n"
     ]
    },
    {
     "name": "stderr",
     "output_type": "stream",
     "text": [
      "/usr/local/lib/python3.5/dist-packages/sklearn/metrics/_classification.py:1321: UserWarning: Note that pos_label (set to 'positive') is ignored when average != 'binary' (got 'macro'). You may use labels=[pos_label] to specify a single positive class.\n",
      "  % (pos_label, average), UserWarning)\n"
     ]
    }
   ],
   "source": [
    "#Predict from manufactured test and score\n",
    "DTpred = DTmod.predict(X_test)\n",
    "print('Accuracy score:', accuracy_score(y_test,DTpred)*100)\n",
    "print('F1 score:', f1_score(y_test, DTpred,pos_label='positive',average='macro')*100)\n",
    "print('Recall score:', recall_score(y_test, DTpred,pos_label='positive',average='macro')*100)\n",
    "print('Precision score:', precision_score(y_test, DTpred,pos_label='positive',average='macro')*100)\n",
    "print('Confusion matrix:', confusion_matrix(y_test, DTpred))\n",
    "print('Classification report:', classification_report(y_test, DTpred))"
   ]
  },
  {
   "cell_type": "code",
   "execution_count": 132,
   "metadata": {},
   "outputs": [
    {
     "data": {
      "image/png": "[encoded data removed]",
      "text/plain": [
       "<Figure size 432x288 with 1 Axes>"
      ]
     },
     "metadata": {
      "needs_background": "light"
     },
     "output_type": "display_data"
    },
    {
     "name": "stdout",
     "output_type": "stream",
     "text": [
      "['89SCRMSD', '89CARMSD', '89CHI1', '89CHI2', '89SELFALL', '89MBALL', '89SCHBOND#', '1SCRMSD', '1CARMSD', '1CHI1', '1SELFALL', '1MBALL']\n"
     ]
    }
   ],
   "source": [
    "featurelist=list(df.columns[1:])\n",
    "plt.bar(range(len(DTmod.feature_importances_)), DTmod.feature_importances_)\n",
    "plt.xlabel(\"feature\")\n",
    "plt.ylabel(\"importance\")\n",
    "plt.title(\"feature importance\")\n",
    "plt.xticks(range(len(DTmod.feature_importances_)), featurelist,rotation='vertical')\n",
    "plt.show()\n",
    "print(featurelist)"
   ]
  },
  {
   "cell_type": "code",
   "execution_count": 133,
   "metadata": {},
   "outputs": [
    {
     "name": "stderr",
     "output_type": "stream",
     "text": [
      "/home/alia/.local/lib/python3.5/site-packages/ipykernel_launcher.py:3: DataConversionWarning: A column-vector y was passed when a 1d array was expected. Please change the shape of y to (n_samples,), for example using ravel().\n",
      "  This is separate from the ipykernel package so we can avoid doing imports until\n"
     ]
    },
    {
     "data": {
      "text/plain": [
       "1.0"
      ]
     },
     "execution_count": 133,
     "metadata": {},
     "output_type": "execute_result"
    }
   ],
   "source": [
    "#Train and fit Random Forest model.\n",
    "RFmod=RandomForestClassifier(n_estimators=100,random_state=77)\n",
    "RFmod.fit(X_train,y_train)\n",
    "#Score RF fit.\n",
    "RFmod.score(X_train, y_train)"
   ]
  },
  {
   "cell_type": "code",
   "execution_count": 134,
   "metadata": {},
   "outputs": [
    {
     "name": "stdout",
     "output_type": "stream",
     "text": [
      "Accuracy score: 57.76190476190476\n",
      "F1 score: 51.888108003997424\n",
      "Recall score: 51.37819481160797\n",
      "Precision score: 57.964746486651876\n",
      "Confusion matrix: [[176  70 326]\n",
      " [ 53 218 278]\n",
      " [ 75  85 819]]\n",
      "Classification report:               precision    recall  f1-score   support\n",
      "\n",
      "           0       0.58      0.31      0.40       572\n",
      "           1       0.58      0.40      0.47       549\n",
      "           2       0.58      0.84      0.68       979\n",
      "\n",
      "    accuracy                           0.58      2100\n",
      "   macro avg       0.58      0.51      0.52      2100\n",
      "weighted avg       0.58      0.58      0.55      2100\n",
      "\n"
     ]
    },
    {
     "name": "stderr",
     "output_type": "stream",
     "text": [
      "/usr/local/lib/python3.5/dist-packages/sklearn/metrics/_classification.py:1321: UserWarning: Note that pos_label (set to 'positive') is ignored when average != 'binary' (got 'macro'). You may use labels=[pos_label] to specify a single positive class.\n",
      "  % (pos_label, average), UserWarning)\n"
     ]
    }
   ],
   "source": [
    "#Predict from manufactured test and score\n",
    "RFpred = RFmod.predict(X_test)\n",
    "print('Accuracy score:', accuracy_score(y_test,RFpred)*100)\n",
    "print('F1 score:', f1_score(y_test, RFpred,pos_label='positive',average='macro')*100)\n",
    "print('Recall score:', recall_score(y_test, RFpred,pos_label='positive',average='macro')*100)\n",
    "print('Precision score:', precision_score(y_test, RFpred,pos_label='positive',average='macro')*100)\n",
    "print('Confusion matrix:', confusion_matrix(y_test, RFpred))\n",
    "print('Classification report:', classification_report(y_test, RFpred))"
   ]
  },
  {
   "cell_type": "code",
   "execution_count": 138,
   "metadata": {},
   "outputs": [
    {
     "data": {
      "image/png": "[encoded data removed]",
      "text/plain": [
       "<Figure size 432x288 with 1 Axes>"
      ]
     },
     "metadata": {
      "needs_background": "light"
     },
     "output_type": "display_data"
    },
    {
     "name": "stdout",
     "output_type": "stream",
     "text": [
      "['89SCRMSD', '89CARMSD', '89CHI1', '89CHI2', '89SELFALL', '89MBALL', '89SCHBOND#', '1SCRMSD', '1CARMSD', '1CHI1', '1SELFALL', '1MBALL']\n"
     ]
    }
   ],
   "source": [
    "featurelist=list(df.columns[1:])\n",
    "plt.bar(range(len(RFmod.feature_importances_)), RFmod.feature_importances_)\n",
    "plt.xlabel(\"Feature\", fontsize=14, family='Arial')\n",
    "plt.ylabel(\"Importance\", fontsize=14, family='Arial')\n",
    "plt.title(\"Feature importance\", fontsize=18, family='Arial')\n",
    "plt.xticks(range(len(RFmod.feature_importances_)), featurelist,rotation='vertical')\n",
    "plt.xticks(np.arange(13), ('SCRMSD-89', 'CARMSD-89', 'CHI1-89', 'CHI2-89', 'sALL-89','mbALL-89','SCHBOND-89','SCRMSD-1','CARMSD-1','CHI1-1','sALL-1','mbALL-1'))\n",
    "plt.show()\n",
    "print(featurelist)"
   ]
  },
  {
   "cell_type": "code",
   "execution_count": 135,
   "metadata": {},
   "outputs": [
    {
     "name": "stderr",
     "output_type": "stream",
     "text": [
      "/usr/local/lib/python3.5/dist-packages/sklearn/model_selection/_split.py:296: FutureWarning: Setting a random_state has no effect since shuffle is False. This will raise an error in 0.24. You should leave random_state to its default (None), or set shuffle=True.\n",
      "  FutureWarning\n",
      "/usr/local/lib/python3.5/dist-packages/sklearn/utils/validation.py:760: DataConversionWarning: A column-vector y was passed when a 1d array was expected. Please change the shape of y to (n_samples, ), for example using ravel().\n",
      "  y = column_or_1d(y, warn=True)\n",
      "/usr/local/lib/python3.5/dist-packages/sklearn/utils/validation.py:760: DataConversionWarning: A column-vector y was passed when a 1d array was expected. Please change the shape of y to (n_samples, ), for example using ravel().\n",
      "  y = column_or_1d(y, warn=True)\n",
      "/usr/local/lib/python3.5/dist-packages/sklearn/utils/validation.py:760: DataConversionWarning: A column-vector y was passed when a 1d array was expected. Please change the shape of y to (n_samples, ), for example using ravel().\n",
      "  y = column_or_1d(y, warn=True)\n",
      "/usr/local/lib/python3.5/dist-packages/sklearn/utils/validation.py:760: DataConversionWarning: A column-vector y was passed when a 1d array was expected. Please change the shape of y to (n_samples, ), for example using ravel().\n",
      "  y = column_or_1d(y, warn=True)\n",
      "/usr/local/lib/python3.5/dist-packages/sklearn/utils/validation.py:760: DataConversionWarning: A column-vector y was passed when a 1d array was expected. Please change the shape of y to (n_samples, ), for example using ravel().\n",
      "  y = column_or_1d(y, warn=True)\n",
      "/usr/local/lib/python3.5/dist-packages/sklearn/utils/validation.py:760: DataConversionWarning: A column-vector y was passed when a 1d array was expected. Please change the shape of y to (n_samples, ), for example using ravel().\n",
      "  y = column_or_1d(y, warn=True)\n",
      "/usr/local/lib/python3.5/dist-packages/sklearn/utils/validation.py:760: DataConversionWarning: A column-vector y was passed when a 1d array was expected. Please change the shape of y to (n_samples, ), for example using ravel().\n",
      "  y = column_or_1d(y, warn=True)\n",
      "/usr/local/lib/python3.5/dist-packages/sklearn/utils/validation.py:760: DataConversionWarning: A column-vector y was passed when a 1d array was expected. Please change the shape of y to (n_samples, ), for example using ravel().\n",
      "  y = column_or_1d(y, warn=True)\n",
      "/usr/local/lib/python3.5/dist-packages/sklearn/utils/validation.py:760: DataConversionWarning: A column-vector y was passed when a 1d array was expected. Please change the shape of y to (n_samples, ), for example using ravel().\n",
      "  y = column_or_1d(y, warn=True)\n",
      "/usr/local/lib/python3.5/dist-packages/sklearn/utils/validation.py:760: DataConversionWarning: A column-vector y was passed when a 1d array was expected. Please change the shape of y to (n_samples, ), for example using ravel().\n",
      "  y = column_or_1d(y, warn=True)\n",
      "/usr/local/lib/python3.5/dist-packages/sklearn/model_selection/_validation.py:515: DataConversionWarning: A column-vector y was passed when a 1d array was expected. Please change the shape of y to (n_samples,), for example using ravel().\n",
      "  estimator.fit(X_train, y_train, **fit_params)\n",
      "/usr/local/lib/python3.5/dist-packages/sklearn/model_selection/_validation.py:515: DataConversionWarning: A column-vector y was passed when a 1d array was expected. Please change the shape of y to (n_samples,), for example using ravel().\n",
      "  estimator.fit(X_train, y_train, **fit_params)\n",
      "/usr/local/lib/python3.5/dist-packages/sklearn/model_selection/_validation.py:515: DataConversionWarning: A column-vector y was passed when a 1d array was expected. Please change the shape of y to (n_samples,), for example using ravel().\n",
      "  estimator.fit(X_train, y_train, **fit_params)\n",
      "/usr/local/lib/python3.5/dist-packages/sklearn/model_selection/_validation.py:515: DataConversionWarning: A column-vector y was passed when a 1d array was expected. Please change the shape of y to (n_samples,), for example using ravel().\n",
      "  estimator.fit(X_train, y_train, **fit_params)\n",
      "/usr/local/lib/python3.5/dist-packages/sklearn/model_selection/_validation.py:515: DataConversionWarning: A column-vector y was passed when a 1d array was expected. Please change the shape of y to (n_samples,), for example using ravel().\n",
      "  estimator.fit(X_train, y_train, **fit_params)\n",
      "/usr/local/lib/python3.5/dist-packages/sklearn/model_selection/_validation.py:515: DataConversionWarning: A column-vector y was passed when a 1d array was expected. Please change the shape of y to (n_samples,), for example using ravel().\n",
      "  estimator.fit(X_train, y_train, **fit_params)\n",
      "/usr/local/lib/python3.5/dist-packages/sklearn/model_selection/_validation.py:515: DataConversionWarning: A column-vector y was passed when a 1d array was expected. Please change the shape of y to (n_samples,), for example using ravel().\n",
      "  estimator.fit(X_train, y_train, **fit_params)\n",
      "/usr/local/lib/python3.5/dist-packages/sklearn/model_selection/_validation.py:515: DataConversionWarning: A column-vector y was passed when a 1d array was expected. Please change the shape of y to (n_samples,), for example using ravel().\n",
      "  estimator.fit(X_train, y_train, **fit_params)\n",
      "/usr/local/lib/python3.5/dist-packages/sklearn/model_selection/_validation.py:515: DataConversionWarning: A column-vector y was passed when a 1d array was expected. Please change the shape of y to (n_samples,), for example using ravel().\n",
      "  estimator.fit(X_train, y_train, **fit_params)\n",
      "/usr/local/lib/python3.5/dist-packages/sklearn/model_selection/_validation.py:515: DataConversionWarning: A column-vector y was passed when a 1d array was expected. Please change the shape of y to (n_samples,), for example using ravel().\n",
      "  estimator.fit(X_train, y_train, **fit_params)\n",
      "/usr/local/lib/python3.5/dist-packages/sklearn/utils/validation.py:760: DataConversionWarning: A column-vector y was passed when a 1d array was expected. Please change the shape of y to (n_samples, ), for example using ravel().\n",
      "  y = column_or_1d(y, warn=True)\n",
      "/usr/local/lib/python3.5/dist-packages/sklearn/utils/validation.py:760: DataConversionWarning: A column-vector y was passed when a 1d array was expected. Please change the shape of y to (n_samples, ), for example using ravel().\n",
      "  y = column_or_1d(y, warn=True)\n",
      "/usr/local/lib/python3.5/dist-packages/sklearn/utils/validation.py:760: DataConversionWarning: A column-vector y was passed when a 1d array was expected. Please change the shape of y to (n_samples, ), for example using ravel().\n",
      "  y = column_or_1d(y, warn=True)\n",
      "/usr/local/lib/python3.5/dist-packages/sklearn/utils/validation.py:760: DataConversionWarning: A column-vector y was passed when a 1d array was expected. Please change the shape of y to (n_samples, ), for example using ravel().\n",
      "  y = column_or_1d(y, warn=True)\n",
      "/usr/local/lib/python3.5/dist-packages/sklearn/utils/validation.py:760: DataConversionWarning: A column-vector y was passed when a 1d array was expected. Please change the shape of y to (n_samples, ), for example using ravel().\n",
      "  y = column_or_1d(y, warn=True)\n",
      "/usr/local/lib/python3.5/dist-packages/sklearn/utils/validation.py:760: DataConversionWarning: A column-vector y was passed when a 1d array was expected. Please change the shape of y to (n_samples, ), for example using ravel().\n",
      "  y = column_or_1d(y, warn=True)\n",
      "/usr/local/lib/python3.5/dist-packages/sklearn/utils/validation.py:760: DataConversionWarning: A column-vector y was passed when a 1d array was expected. Please change the shape of y to (n_samples, ), for example using ravel().\n",
      "  y = column_or_1d(y, warn=True)\n",
      "/usr/local/lib/python3.5/dist-packages/sklearn/utils/validation.py:760: DataConversionWarning: A column-vector y was passed when a 1d array was expected. Please change the shape of y to (n_samples, ), for example using ravel().\n",
      "  y = column_or_1d(y, warn=True)\n",
      "/usr/local/lib/python3.5/dist-packages/sklearn/utils/validation.py:760: DataConversionWarning: A column-vector y was passed when a 1d array was expected. Please change the shape of y to (n_samples, ), for example using ravel().\n",
      "  y = column_or_1d(y, warn=True)\n",
      "/usr/local/lib/python3.5/dist-packages/sklearn/utils/validation.py:760: DataConversionWarning: A column-vector y was passed when a 1d array was expected. Please change the shape of y to (n_samples, ), for example using ravel().\n",
      "  y = column_or_1d(y, warn=True)\n"
     ]
    },
    {
     "name": "stderr",
     "output_type": "stream",
     "text": [
      "/usr/local/lib/python3.5/dist-packages/sklearn/model_selection/_validation.py:515: DataConversionWarning: A column-vector y was passed when a 1d array was expected. Please change the shape of y to (n_samples, ), for example using ravel().\n",
      "  estimator.fit(X_train, y_train, **fit_params)\n",
      "/usr/local/lib/python3.5/dist-packages/sklearn/model_selection/_validation.py:515: DataConversionWarning: A column-vector y was passed when a 1d array was expected. Please change the shape of y to (n_samples, ), for example using ravel().\n",
      "  estimator.fit(X_train, y_train, **fit_params)\n",
      "/usr/local/lib/python3.5/dist-packages/sklearn/model_selection/_validation.py:515: DataConversionWarning: A column-vector y was passed when a 1d array was expected. Please change the shape of y to (n_samples, ), for example using ravel().\n",
      "  estimator.fit(X_train, y_train, **fit_params)\n",
      "/usr/local/lib/python3.5/dist-packages/sklearn/model_selection/_validation.py:515: DataConversionWarning: A column-vector y was passed when a 1d array was expected. Please change the shape of y to (n_samples, ), for example using ravel().\n",
      "  estimator.fit(X_train, y_train, **fit_params)\n",
      "/usr/local/lib/python3.5/dist-packages/sklearn/model_selection/_validation.py:515: DataConversionWarning: A column-vector y was passed when a 1d array was expected. Please change the shape of y to (n_samples, ), for example using ravel().\n",
      "  estimator.fit(X_train, y_train, **fit_params)\n",
      "/usr/local/lib/python3.5/dist-packages/sklearn/model_selection/_validation.py:515: DataConversionWarning: A column-vector y was passed when a 1d array was expected. Please change the shape of y to (n_samples, ), for example using ravel().\n",
      "  estimator.fit(X_train, y_train, **fit_params)\n",
      "/usr/local/lib/python3.5/dist-packages/sklearn/model_selection/_validation.py:515: DataConversionWarning: A column-vector y was passed when a 1d array was expected. Please change the shape of y to (n_samples, ), for example using ravel().\n",
      "  estimator.fit(X_train, y_train, **fit_params)\n",
      "/usr/local/lib/python3.5/dist-packages/sklearn/model_selection/_validation.py:515: DataConversionWarning: A column-vector y was passed when a 1d array was expected. Please change the shape of y to (n_samples, ), for example using ravel().\n",
      "  estimator.fit(X_train, y_train, **fit_params)\n",
      "/usr/local/lib/python3.5/dist-packages/sklearn/model_selection/_validation.py:515: DataConversionWarning: A column-vector y was passed when a 1d array was expected. Please change the shape of y to (n_samples, ), for example using ravel().\n",
      "  estimator.fit(X_train, y_train, **fit_params)\n",
      "/usr/local/lib/python3.5/dist-packages/sklearn/model_selection/_validation.py:515: DataConversionWarning: A column-vector y was passed when a 1d array was expected. Please change the shape of y to (n_samples, ), for example using ravel().\n",
      "  estimator.fit(X_train, y_train, **fit_params)\n"
     ]
    },
    {
     "data": {
      "image/png": "[encoded data removed]",
      "text/plain": [
       "<Figure size 432x288 with 1 Axes>"
      ]
     },
     "metadata": {
      "needs_background": "light"
     },
     "output_type": "display_data"
    }
   ],
   "source": [
    "kfold = model_selection.KFold(n_splits=10, random_state=77)\n",
    "cv_LoR = model_selection.cross_val_score(LogisticRegression(max_iter=10000), X_train, y_train, cv=kfold, scoring='accuracy')\n",
    "cv_DT = model_selection.cross_val_score(DecisionTreeClassifier(criterion='gini', random_state = 77,max_depth=10), X_train, y_train, cv=kfold, scoring='accuracy')\n",
    "cv_RF = model_selection.cross_val_score(RandomForestClassifier(n_estimators=100), X_train, y_train, cv=kfold, scoring='accuracy')\n",
    "cv_SVC = model_selection.cross_val_score(SVC(kernel='rbf',gamma=0.2), X_train, y_train, cv=kfold, scoring='accuracy')\n",
    "cv_KNN = model_selection.cross_val_score(KNeighborsClassifier(n_neighbors=20), X_train, y_train, cv=kfold, scoring='accuracy')\n",
    "results=[cv_LoR,cv_DT, cv_RF,cv_SVC,cv_KNN]\n",
    "names=[\"LoR\",\"DT\",\"RF\",\"SVC,\"\"KNN\"]\n",
    "fig = plt.figure()\n",
    "fig.suptitle('Algorithm Comparison')\n",
    "ax = fig.add_subplot(111)\n",
    "plt.boxplot(results)\n",
    "ax.set_xticklabels(names)\n",
    "plt.show()"
   ]
  },
  {
   "cell_type": "code",
   "execution_count": 136,
   "metadata": {},
   "outputs": [
    {
     "data": {
      "image/png": "[encoded data removed]",
      "text/plain": [
       "<Figure size 432x288 with 1 Axes>"
      ]
     },
     "metadata": {
      "needs_background": "light"
     },
     "output_type": "display_data"
    }
   ],
   "source": [
    "names=[\"LoR\",\"DT\",\"RF\",\"SVC\",\"KNN\"]\n",
    "fig = plt.figure()\n",
    "fig.suptitle('Algorithm Comparison')\n",
    "ax = fig.add_subplot(111)\n",
    "plt.boxplot(results)\n",
    "ax.set_xticklabels(names)\n",
    "plt.show()"
   ]
  }
 ],
 "metadata": {
  "kernelspec": {
   "display_name": "Python 3",
   "language": "python",
   "name": "python3"
  },
  "language_info": {
   "codemirror_mode": {
    "name": "ipython",
    "version": 3
   },
   "file_extension": ".py",
   "mimetype": "text/x-python",
   "name": "python",
   "nbconvert_exporter": "python",
   "pygments_lexer": "ipython3",
   "version": "3.6.4"
  }
 },
 "nbformat": 4,
 "nbformat_minor": 4
}
