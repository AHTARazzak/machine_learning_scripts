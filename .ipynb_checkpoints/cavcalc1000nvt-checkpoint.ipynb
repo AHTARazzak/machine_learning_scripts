{
 "cells": [
  {
   "cell_type": "code",
   "execution_count": 2,
   "metadata": {},
   "outputs": [],
   "source": [
    "import pandas as pd\n",
    "import numpy as np\n",
    "import matplotlib.pyplot as plt\n",
    "import seaborn as sns\n",
    "from sklearn import preprocessing\n",
    "from sklearn import model_selection\n",
    "from sklearn.model_selection import cross_val_score\n",
    "from sklearn.metrics import accuracy_score, f1_score, classification_report, precision_score, recall_score, confusion_matrix\n",
    "from sklearn import tree\n",
    "from sklearn import svm\n",
    "from sklearn.model_selection import train_test_split\n",
    "from imblearn.over_sampling import RandomOverSampler,SMOTE, ADASYN\n",
    "from sklearn.ensemble import RandomForestClassifier\n",
    "from sklearn.linear_model import LogisticRegression\n",
    "from sklearn.linear_model import LinearRegression\n",
    "from sklearn.tree import DecisionTreeClassifier\n",
    "import matplotlib\n",
    "from sklearn.svm import SVC\n",
    "from sklearn.neighbors import KNeighborsClassifier\n",
    "from sklearn.metrics import r2_score\n",
    "import statsmodels.api as sm\n",
    "from sklearn.linear_model import RidgeCV, LassoCV, Ridge, Lasso"
   ]
  },
  {
   "cell_type": "code",
   "execution_count": 3,
   "metadata": {},
   "outputs": [
    {
     "data": {
      "text/html": [
       "<div>\n",
       "<style scoped>\n",
       "    .dataframe tbody tr th:only-of-type {\n",
       "        vertical-align: middle;\n",
       "    }\n",
       "\n",
       "    .dataframe tbody tr th {\n",
       "        vertical-align: top;\n",
       "    }\n",
       "\n",
       "    .dataframe thead th {\n",
       "        text-align: right;\n",
       "    }\n",
       "</style>\n",
       "<table border=\"1\" class=\"dataframe\">\n",
       "  <thead>\n",
       "    <tr style=\"text-align: right;\">\n",
       "      <th></th>\n",
       "      <th>location</th>\n",
       "      <th>cav1</th>\n",
       "      <th>cav2</th>\n",
       "      <th>cav3</th>\n",
       "      <th>cav4</th>\n",
       "      <th>rmsd</th>\n",
       "      <th>engself</th>\n",
       "      <th>engwat</th>\n",
       "    </tr>\n",
       "  </thead>\n",
       "  <tbody>\n",
       "    <tr>\n",
       "      <th>0</th>\n",
       "      <td>3</td>\n",
       "      <td>131.0</td>\n",
       "      <td>158.00</td>\n",
       "      <td>29.44</td>\n",
       "      <td>54.000</td>\n",
       "      <td>1.328087</td>\n",
       "      <td>307.702765</td>\n",
       "      <td>-4654.30750</td>\n",
       "    </tr>\n",
       "    <tr>\n",
       "      <th>1</th>\n",
       "      <td>3</td>\n",
       "      <td>144.4</td>\n",
       "      <td>137.03</td>\n",
       "      <td>37.00</td>\n",
       "      <td>101.000</td>\n",
       "      <td>1.413028</td>\n",
       "      <td>353.007717</td>\n",
       "      <td>-4696.24410</td>\n",
       "    </tr>\n",
       "    <tr>\n",
       "      <th>2</th>\n",
       "      <td>3</td>\n",
       "      <td>144.4</td>\n",
       "      <td>137.03</td>\n",
       "      <td>21.00</td>\n",
       "      <td>59.495</td>\n",
       "      <td>1.413520</td>\n",
       "      <td>297.498886</td>\n",
       "      <td>-4690.79777</td>\n",
       "    </tr>\n",
       "    <tr>\n",
       "      <th>3</th>\n",
       "      <td>3</td>\n",
       "      <td>144.4</td>\n",
       "      <td>137.03</td>\n",
       "      <td>15.00</td>\n",
       "      <td>59.495</td>\n",
       "      <td>1.399055</td>\n",
       "      <td>265.944984</td>\n",
       "      <td>-4562.95512</td>\n",
       "    </tr>\n",
       "    <tr>\n",
       "      <th>4</th>\n",
       "      <td>3</td>\n",
       "      <td>144.4</td>\n",
       "      <td>164.00</td>\n",
       "      <td>14.00</td>\n",
       "      <td>59.495</td>\n",
       "      <td>1.390981</td>\n",
       "      <td>305.673109</td>\n",
       "      <td>-4636.04173</td>\n",
       "    </tr>\n",
       "    <tr>\n",
       "      <th>5</th>\n",
       "      <td>3</td>\n",
       "      <td>144.4</td>\n",
       "      <td>137.03</td>\n",
       "      <td>29.00</td>\n",
       "      <td>58.000</td>\n",
       "      <td>1.418079</td>\n",
       "      <td>393.680090</td>\n",
       "      <td>-4730.12855</td>\n",
       "    </tr>\n",
       "    <tr>\n",
       "      <th>6</th>\n",
       "      <td>3</td>\n",
       "      <td>144.4</td>\n",
       "      <td>137.03</td>\n",
       "      <td>32.00</td>\n",
       "      <td>52.000</td>\n",
       "      <td>1.350547</td>\n",
       "      <td>336.386925</td>\n",
       "      <td>-4709.29875</td>\n",
       "    </tr>\n",
       "    <tr>\n",
       "      <th>7</th>\n",
       "      <td>3</td>\n",
       "      <td>144.4</td>\n",
       "      <td>166.00</td>\n",
       "      <td>12.00</td>\n",
       "      <td>55.000</td>\n",
       "      <td>1.465476</td>\n",
       "      <td>347.236315</td>\n",
       "      <td>-4707.55336</td>\n",
       "    </tr>\n",
       "    <tr>\n",
       "      <th>8</th>\n",
       "      <td>3</td>\n",
       "      <td>144.4</td>\n",
       "      <td>137.03</td>\n",
       "      <td>14.00</td>\n",
       "      <td>59.495</td>\n",
       "      <td>1.417674</td>\n",
       "      <td>340.036392</td>\n",
       "      <td>-4698.49352</td>\n",
       "    </tr>\n",
       "    <tr>\n",
       "      <th>9</th>\n",
       "      <td>3</td>\n",
       "      <td>144.4</td>\n",
       "      <td>56.00</td>\n",
       "      <td>25.00</td>\n",
       "      <td>59.495</td>\n",
       "      <td>1.424668</td>\n",
       "      <td>327.531115</td>\n",
       "      <td>-4721.23769</td>\n",
       "    </tr>\n",
       "    <tr>\n",
       "      <th>10</th>\n",
       "      <td>3</td>\n",
       "      <td>34.0</td>\n",
       "      <td>137.03</td>\n",
       "      <td>15.00</td>\n",
       "      <td>70.000</td>\n",
       "      <td>1.440632</td>\n",
       "      <td>388.206607</td>\n",
       "      <td>-4766.84139</td>\n",
       "    </tr>\n",
       "    <tr>\n",
       "      <th>11</th>\n",
       "      <td>3</td>\n",
       "      <td>144.4</td>\n",
       "      <td>137.03</td>\n",
       "      <td>16.00</td>\n",
       "      <td>32.000</td>\n",
       "      <td>1.445639</td>\n",
       "      <td>374.470485</td>\n",
       "      <td>-4720.80109</td>\n",
       "    </tr>\n",
       "    <tr>\n",
       "      <th>12</th>\n",
       "      <td>3</td>\n",
       "      <td>144.4</td>\n",
       "      <td>57.00</td>\n",
       "      <td>36.00</td>\n",
       "      <td>78.000</td>\n",
       "      <td>1.389650</td>\n",
       "      <td>363.631686</td>\n",
       "      <td>-4730.51997</td>\n",
       "    </tr>\n",
       "    <tr>\n",
       "      <th>13</th>\n",
       "      <td>3</td>\n",
       "      <td>144.4</td>\n",
       "      <td>75.00</td>\n",
       "      <td>48.00</td>\n",
       "      <td>59.495</td>\n",
       "      <td>1.385133</td>\n",
       "      <td>388.440625</td>\n",
       "      <td>-4685.47716</td>\n",
       "    </tr>\n",
       "    <tr>\n",
       "      <th>14</th>\n",
       "      <td>3</td>\n",
       "      <td>144.4</td>\n",
       "      <td>137.03</td>\n",
       "      <td>14.00</td>\n",
       "      <td>59.495</td>\n",
       "      <td>1.419725</td>\n",
       "      <td>347.294461</td>\n",
       "      <td>-4751.08617</td>\n",
       "    </tr>\n",
       "    <tr>\n",
       "      <th>15</th>\n",
       "      <td>3</td>\n",
       "      <td>144.4</td>\n",
       "      <td>14.00</td>\n",
       "      <td>20.00</td>\n",
       "      <td>58.000</td>\n",
       "      <td>1.419572</td>\n",
       "      <td>358.918392</td>\n",
       "      <td>-4743.94624</td>\n",
       "    </tr>\n",
       "    <tr>\n",
       "      <th>16</th>\n",
       "      <td>3</td>\n",
       "      <td>144.4</td>\n",
       "      <td>53.00</td>\n",
       "      <td>21.00</td>\n",
       "      <td>54.000</td>\n",
       "      <td>1.359555</td>\n",
       "      <td>367.753417</td>\n",
       "      <td>-4743.27601</td>\n",
       "    </tr>\n",
       "    <tr>\n",
       "      <th>17</th>\n",
       "      <td>3</td>\n",
       "      <td>20.0</td>\n",
       "      <td>208.00</td>\n",
       "      <td>10.00</td>\n",
       "      <td>55.000</td>\n",
       "      <td>1.367292</td>\n",
       "      <td>356.964569</td>\n",
       "      <td>-4692.14767</td>\n",
       "    </tr>\n",
       "    <tr>\n",
       "      <th>18</th>\n",
       "      <td>2</td>\n",
       "      <td>20.0</td>\n",
       "      <td>137.03</td>\n",
       "      <td>43.00</td>\n",
       "      <td>59.495</td>\n",
       "      <td>1.308069</td>\n",
       "      <td>322.493888</td>\n",
       "      <td>-4688.36513</td>\n",
       "    </tr>\n",
       "    <tr>\n",
       "      <th>19</th>\n",
       "      <td>2</td>\n",
       "      <td>102.0</td>\n",
       "      <td>137.03</td>\n",
       "      <td>29.44</td>\n",
       "      <td>42.000</td>\n",
       "      <td>1.329102</td>\n",
       "      <td>317.088105</td>\n",
       "      <td>-4679.99027</td>\n",
       "    </tr>\n",
       "    <tr>\n",
       "      <th>20</th>\n",
       "      <td>2</td>\n",
       "      <td>144.4</td>\n",
       "      <td>137.03</td>\n",
       "      <td>22.00</td>\n",
       "      <td>59.495</td>\n",
       "      <td>1.339595</td>\n",
       "      <td>341.905787</td>\n",
       "      <td>-4763.74857</td>\n",
       "    </tr>\n",
       "    <tr>\n",
       "      <th>21</th>\n",
       "      <td>1</td>\n",
       "      <td>144.4</td>\n",
       "      <td>137.03</td>\n",
       "      <td>24.00</td>\n",
       "      <td>59.495</td>\n",
       "      <td>1.329578</td>\n",
       "      <td>312.664316</td>\n",
       "      <td>-4632.65272</td>\n",
       "    </tr>\n",
       "    <tr>\n",
       "      <th>22</th>\n",
       "      <td>1</td>\n",
       "      <td>144.4</td>\n",
       "      <td>137.03</td>\n",
       "      <td>24.00</td>\n",
       "      <td>59.495</td>\n",
       "      <td>1.338849</td>\n",
       "      <td>312.931703</td>\n",
       "      <td>-4684.09332</td>\n",
       "    </tr>\n",
       "    <tr>\n",
       "      <th>23</th>\n",
       "      <td>2</td>\n",
       "      <td>144.4</td>\n",
       "      <td>137.03</td>\n",
       "      <td>29.00</td>\n",
       "      <td>82.000</td>\n",
       "      <td>1.371496</td>\n",
       "      <td>303.746634</td>\n",
       "      <td>-4648.65607</td>\n",
       "    </tr>\n",
       "    <tr>\n",
       "      <th>24</th>\n",
       "      <td>2</td>\n",
       "      <td>55.0</td>\n",
       "      <td>137.03</td>\n",
       "      <td>14.00</td>\n",
       "      <td>59.000</td>\n",
       "      <td>1.413161</td>\n",
       "      <td>254.614046</td>\n",
       "      <td>-4661.76106</td>\n",
       "    </tr>\n",
       "    <tr>\n",
       "      <th>25</th>\n",
       "      <td>4</td>\n",
       "      <td>144.4</td>\n",
       "      <td>137.03</td>\n",
       "      <td>29.44</td>\n",
       "      <td>85.000</td>\n",
       "      <td>1.348033</td>\n",
       "      <td>297.660454</td>\n",
       "      <td>-4609.73622</td>\n",
       "    </tr>\n",
       "    <tr>\n",
       "      <th>26</th>\n",
       "      <td>4</td>\n",
       "      <td>144.4</td>\n",
       "      <td>137.03</td>\n",
       "      <td>14.00</td>\n",
       "      <td>80.000</td>\n",
       "      <td>1.356479</td>\n",
       "      <td>327.102070</td>\n",
       "      <td>-4659.98278</td>\n",
       "    </tr>\n",
       "    <tr>\n",
       "      <th>27</th>\n",
       "      <td>3</td>\n",
       "      <td>144.4</td>\n",
       "      <td>137.03</td>\n",
       "      <td>13.00</td>\n",
       "      <td>101.000</td>\n",
       "      <td>1.337965</td>\n",
       "      <td>341.389956</td>\n",
       "      <td>-4742.67064</td>\n",
       "    </tr>\n",
       "    <tr>\n",
       "      <th>28</th>\n",
       "      <td>3</td>\n",
       "      <td>144.4</td>\n",
       "      <td>137.03</td>\n",
       "      <td>29.44</td>\n",
       "      <td>59.495</td>\n",
       "      <td>1.362066</td>\n",
       "      <td>344.462823</td>\n",
       "      <td>-4623.15991</td>\n",
       "    </tr>\n",
       "    <tr>\n",
       "      <th>29</th>\n",
       "      <td>4</td>\n",
       "      <td>144.4</td>\n",
       "      <td>137.03</td>\n",
       "      <td>29.44</td>\n",
       "      <td>99.000</td>\n",
       "      <td>1.366981</td>\n",
       "      <td>327.553165</td>\n",
       "      <td>-4730.49832</td>\n",
       "    </tr>\n",
       "    <tr>\n",
       "      <th>...</th>\n",
       "      <td>...</td>\n",
       "      <td>...</td>\n",
       "      <td>...</td>\n",
       "      <td>...</td>\n",
       "      <td>...</td>\n",
       "      <td>...</td>\n",
       "      <td>...</td>\n",
       "      <td>...</td>\n",
       "    </tr>\n",
       "    <tr>\n",
       "      <th>70</th>\n",
       "      <td>2</td>\n",
       "      <td>147.0</td>\n",
       "      <td>179.00</td>\n",
       "      <td>29.44</td>\n",
       "      <td>49.000</td>\n",
       "      <td>1.343519</td>\n",
       "      <td>365.152600</td>\n",
       "      <td>-4768.73145</td>\n",
       "    </tr>\n",
       "    <tr>\n",
       "      <th>71</th>\n",
       "      <td>11</td>\n",
       "      <td>182.0</td>\n",
       "      <td>208.00</td>\n",
       "      <td>14.00</td>\n",
       "      <td>81.000</td>\n",
       "      <td>1.435262</td>\n",
       "      <td>378.810343</td>\n",
       "      <td>-4804.35864</td>\n",
       "    </tr>\n",
       "    <tr>\n",
       "      <th>72</th>\n",
       "      <td>2</td>\n",
       "      <td>144.4</td>\n",
       "      <td>137.03</td>\n",
       "      <td>29.44</td>\n",
       "      <td>58.000</td>\n",
       "      <td>1.403390</td>\n",
       "      <td>287.320137</td>\n",
       "      <td>-4776.20031</td>\n",
       "    </tr>\n",
       "    <tr>\n",
       "      <th>73</th>\n",
       "      <td>2</td>\n",
       "      <td>144.4</td>\n",
       "      <td>137.03</td>\n",
       "      <td>29.44</td>\n",
       "      <td>33.000</td>\n",
       "      <td>1.416863</td>\n",
       "      <td>355.312249</td>\n",
       "      <td>-4799.71764</td>\n",
       "    </tr>\n",
       "    <tr>\n",
       "      <th>74</th>\n",
       "      <td>2</td>\n",
       "      <td>144.4</td>\n",
       "      <td>137.03</td>\n",
       "      <td>29.44</td>\n",
       "      <td>78.000</td>\n",
       "      <td>1.409211</td>\n",
       "      <td>319.003883</td>\n",
       "      <td>-4704.02917</td>\n",
       "    </tr>\n",
       "    <tr>\n",
       "      <th>75</th>\n",
       "      <td>2</td>\n",
       "      <td>229.0</td>\n",
       "      <td>137.03</td>\n",
       "      <td>29.44</td>\n",
       "      <td>40.000</td>\n",
       "      <td>1.347031</td>\n",
       "      <td>345.764047</td>\n",
       "      <td>-4803.39584</td>\n",
       "    </tr>\n",
       "    <tr>\n",
       "      <th>76</th>\n",
       "      <td>1</td>\n",
       "      <td>144.4</td>\n",
       "      <td>137.03</td>\n",
       "      <td>29.44</td>\n",
       "      <td>50.000</td>\n",
       "      <td>1.361636</td>\n",
       "      <td>352.830925</td>\n",
       "      <td>-4750.81331</td>\n",
       "    </tr>\n",
       "    <tr>\n",
       "      <th>77</th>\n",
       "      <td>1</td>\n",
       "      <td>144.4</td>\n",
       "      <td>137.03</td>\n",
       "      <td>29.44</td>\n",
       "      <td>31.000</td>\n",
       "      <td>1.356846</td>\n",
       "      <td>304.050203</td>\n",
       "      <td>-4805.67798</td>\n",
       "    </tr>\n",
       "    <tr>\n",
       "      <th>78</th>\n",
       "      <td>2</td>\n",
       "      <td>144.4</td>\n",
       "      <td>137.03</td>\n",
       "      <td>29.44</td>\n",
       "      <td>62.000</td>\n",
       "      <td>1.331647</td>\n",
       "      <td>324.573644</td>\n",
       "      <td>-4719.65761</td>\n",
       "    </tr>\n",
       "    <tr>\n",
       "      <th>79</th>\n",
       "      <td>1</td>\n",
       "      <td>144.4</td>\n",
       "      <td>137.03</td>\n",
       "      <td>29.44</td>\n",
       "      <td>42.000</td>\n",
       "      <td>1.335134</td>\n",
       "      <td>350.740984</td>\n",
       "      <td>-4683.21686</td>\n",
       "    </tr>\n",
       "    <tr>\n",
       "      <th>80</th>\n",
       "      <td>1</td>\n",
       "      <td>144.4</td>\n",
       "      <td>137.03</td>\n",
       "      <td>29.44</td>\n",
       "      <td>66.000</td>\n",
       "      <td>1.357778</td>\n",
       "      <td>314.601150</td>\n",
       "      <td>-4738.32169</td>\n",
       "    </tr>\n",
       "    <tr>\n",
       "      <th>81</th>\n",
       "      <td>1</td>\n",
       "      <td>144.4</td>\n",
       "      <td>20.00</td>\n",
       "      <td>29.44</td>\n",
       "      <td>26.000</td>\n",
       "      <td>1.343194</td>\n",
       "      <td>305.578514</td>\n",
       "      <td>-4823.64859</td>\n",
       "    </tr>\n",
       "    <tr>\n",
       "      <th>82</th>\n",
       "      <td>1</td>\n",
       "      <td>19.0</td>\n",
       "      <td>137.03</td>\n",
       "      <td>19.00</td>\n",
       "      <td>95.000</td>\n",
       "      <td>1.423417</td>\n",
       "      <td>336.678768</td>\n",
       "      <td>-4739.29583</td>\n",
       "    </tr>\n",
       "    <tr>\n",
       "      <th>83</th>\n",
       "      <td>1</td>\n",
       "      <td>144.4</td>\n",
       "      <td>137.03</td>\n",
       "      <td>29.44</td>\n",
       "      <td>50.000</td>\n",
       "      <td>1.421425</td>\n",
       "      <td>358.106258</td>\n",
       "      <td>-4688.95723</td>\n",
       "    </tr>\n",
       "    <tr>\n",
       "      <th>84</th>\n",
       "      <td>1</td>\n",
       "      <td>144.4</td>\n",
       "      <td>137.03</td>\n",
       "      <td>29.44</td>\n",
       "      <td>44.000</td>\n",
       "      <td>1.436051</td>\n",
       "      <td>348.335503</td>\n",
       "      <td>-4746.17608</td>\n",
       "    </tr>\n",
       "    <tr>\n",
       "      <th>85</th>\n",
       "      <td>1</td>\n",
       "      <td>144.4</td>\n",
       "      <td>137.03</td>\n",
       "      <td>29.44</td>\n",
       "      <td>59.495</td>\n",
       "      <td>1.429822</td>\n",
       "      <td>323.861942</td>\n",
       "      <td>-4819.35009</td>\n",
       "    </tr>\n",
       "    <tr>\n",
       "      <th>86</th>\n",
       "      <td>1</td>\n",
       "      <td>144.4</td>\n",
       "      <td>137.03</td>\n",
       "      <td>29.44</td>\n",
       "      <td>24.000</td>\n",
       "      <td>1.421153</td>\n",
       "      <td>404.252116</td>\n",
       "      <td>-4889.64942</td>\n",
       "    </tr>\n",
       "    <tr>\n",
       "      <th>87</th>\n",
       "      <td>1</td>\n",
       "      <td>144.4</td>\n",
       "      <td>137.03</td>\n",
       "      <td>29.44</td>\n",
       "      <td>59.495</td>\n",
       "      <td>1.471908</td>\n",
       "      <td>405.868971</td>\n",
       "      <td>-4831.12709</td>\n",
       "    </tr>\n",
       "    <tr>\n",
       "      <th>88</th>\n",
       "      <td>1</td>\n",
       "      <td>144.4</td>\n",
       "      <td>14.00</td>\n",
       "      <td>29.44</td>\n",
       "      <td>65.000</td>\n",
       "      <td>1.417097</td>\n",
       "      <td>381.857429</td>\n",
       "      <td>-4802.22383</td>\n",
       "    </tr>\n",
       "    <tr>\n",
       "      <th>89</th>\n",
       "      <td>1</td>\n",
       "      <td>82.0</td>\n",
       "      <td>137.03</td>\n",
       "      <td>14.00</td>\n",
       "      <td>75.000</td>\n",
       "      <td>1.358267</td>\n",
       "      <td>339.620295</td>\n",
       "      <td>-4750.56430</td>\n",
       "    </tr>\n",
       "    <tr>\n",
       "      <th>90</th>\n",
       "      <td>1</td>\n",
       "      <td>144.4</td>\n",
       "      <td>137.03</td>\n",
       "      <td>29.44</td>\n",
       "      <td>59.495</td>\n",
       "      <td>1.391061</td>\n",
       "      <td>419.350030</td>\n",
       "      <td>-4827.05747</td>\n",
       "    </tr>\n",
       "    <tr>\n",
       "      <th>91</th>\n",
       "      <td>1</td>\n",
       "      <td>144.4</td>\n",
       "      <td>137.03</td>\n",
       "      <td>23.00</td>\n",
       "      <td>30.000</td>\n",
       "      <td>1.362696</td>\n",
       "      <td>395.829932</td>\n",
       "      <td>-4883.34406</td>\n",
       "    </tr>\n",
       "    <tr>\n",
       "      <th>92</th>\n",
       "      <td>1</td>\n",
       "      <td>144.4</td>\n",
       "      <td>137.03</td>\n",
       "      <td>13.00</td>\n",
       "      <td>59.495</td>\n",
       "      <td>1.369611</td>\n",
       "      <td>345.864186</td>\n",
       "      <td>-4753.39209</td>\n",
       "    </tr>\n",
       "    <tr>\n",
       "      <th>93</th>\n",
       "      <td>1</td>\n",
       "      <td>32.0</td>\n",
       "      <td>48.00</td>\n",
       "      <td>32.00</td>\n",
       "      <td>30.000</td>\n",
       "      <td>1.387731</td>\n",
       "      <td>360.463158</td>\n",
       "      <td>-4883.11126</td>\n",
       "    </tr>\n",
       "    <tr>\n",
       "      <th>94</th>\n",
       "      <td>1</td>\n",
       "      <td>144.4</td>\n",
       "      <td>137.03</td>\n",
       "      <td>29.44</td>\n",
       "      <td>48.000</td>\n",
       "      <td>1.442779</td>\n",
       "      <td>367.284023</td>\n",
       "      <td>-4854.09306</td>\n",
       "    </tr>\n",
       "    <tr>\n",
       "      <th>95</th>\n",
       "      <td>1</td>\n",
       "      <td>144.4</td>\n",
       "      <td>137.03</td>\n",
       "      <td>29.44</td>\n",
       "      <td>24.000</td>\n",
       "      <td>1.404848</td>\n",
       "      <td>388.710045</td>\n",
       "      <td>-4939.27755</td>\n",
       "    </tr>\n",
       "    <tr>\n",
       "      <th>96</th>\n",
       "      <td>1</td>\n",
       "      <td>144.4</td>\n",
       "      <td>137.03</td>\n",
       "      <td>29.44</td>\n",
       "      <td>88.000</td>\n",
       "      <td>1.381471</td>\n",
       "      <td>422.911928</td>\n",
       "      <td>-4841.19537</td>\n",
       "    </tr>\n",
       "    <tr>\n",
       "      <th>97</th>\n",
       "      <td>1</td>\n",
       "      <td>144.4</td>\n",
       "      <td>137.03</td>\n",
       "      <td>29.44</td>\n",
       "      <td>57.000</td>\n",
       "      <td>1.410432</td>\n",
       "      <td>344.460048</td>\n",
       "      <td>-4776.82118</td>\n",
       "    </tr>\n",
       "    <tr>\n",
       "      <th>98</th>\n",
       "      <td>1</td>\n",
       "      <td>144.4</td>\n",
       "      <td>137.03</td>\n",
       "      <td>29.44</td>\n",
       "      <td>59.495</td>\n",
       "      <td>1.439032</td>\n",
       "      <td>382.944862</td>\n",
       "      <td>-4890.16916</td>\n",
       "    </tr>\n",
       "    <tr>\n",
       "      <th>99</th>\n",
       "      <td>1</td>\n",
       "      <td>144.4</td>\n",
       "      <td>137.03</td>\n",
       "      <td>29.44</td>\n",
       "      <td>22.000</td>\n",
       "      <td>1.422409</td>\n",
       "      <td>370.200149</td>\n",
       "      <td>-4863.95604</td>\n",
       "    </tr>\n",
       "  </tbody>\n",
       "</table>\n",
       "<p>100 rows × 8 columns</p>\n",
       "</div>"
      ],
      "text/plain": [
       "    location   cav1    cav2   cav3     cav4      rmsd     engself      engwat\n",
       "0          3  131.0  158.00  29.44   54.000  1.328087  307.702765 -4654.30750\n",
       "1          3  144.4  137.03  37.00  101.000  1.413028  353.007717 -4696.24410\n",
       "2          3  144.4  137.03  21.00   59.495  1.413520  297.498886 -4690.79777\n",
       "3          3  144.4  137.03  15.00   59.495  1.399055  265.944984 -4562.95512\n",
       "4          3  144.4  164.00  14.00   59.495  1.390981  305.673109 -4636.04173\n",
       "5          3  144.4  137.03  29.00   58.000  1.418079  393.680090 -4730.12855\n",
       "6          3  144.4  137.03  32.00   52.000  1.350547  336.386925 -4709.29875\n",
       "7          3  144.4  166.00  12.00   55.000  1.465476  347.236315 -4707.55336\n",
       "8          3  144.4  137.03  14.00   59.495  1.417674  340.036392 -4698.49352\n",
       "9          3  144.4   56.00  25.00   59.495  1.424668  327.531115 -4721.23769\n",
       "10         3   34.0  137.03  15.00   70.000  1.440632  388.206607 -4766.84139\n",
       "11         3  144.4  137.03  16.00   32.000  1.445639  374.470485 -4720.80109\n",
       "12         3  144.4   57.00  36.00   78.000  1.389650  363.631686 -4730.51997\n",
       "13         3  144.4   75.00  48.00   59.495  1.385133  388.440625 -4685.47716\n",
       "14         3  144.4  137.03  14.00   59.495  1.419725  347.294461 -4751.08617\n",
       "15         3  144.4   14.00  20.00   58.000  1.419572  358.918392 -4743.94624\n",
       "16         3  144.4   53.00  21.00   54.000  1.359555  367.753417 -4743.27601\n",
       "17         3   20.0  208.00  10.00   55.000  1.367292  356.964569 -4692.14767\n",
       "18         2   20.0  137.03  43.00   59.495  1.308069  322.493888 -4688.36513\n",
       "19         2  102.0  137.03  29.44   42.000  1.329102  317.088105 -4679.99027\n",
       "20         2  144.4  137.03  22.00   59.495  1.339595  341.905787 -4763.74857\n",
       "21         1  144.4  137.03  24.00   59.495  1.329578  312.664316 -4632.65272\n",
       "22         1  144.4  137.03  24.00   59.495  1.338849  312.931703 -4684.09332\n",
       "23         2  144.4  137.03  29.00   82.000  1.371496  303.746634 -4648.65607\n",
       "24         2   55.0  137.03  14.00   59.000  1.413161  254.614046 -4661.76106\n",
       "25         4  144.4  137.03  29.44   85.000  1.348033  297.660454 -4609.73622\n",
       "26         4  144.4  137.03  14.00   80.000  1.356479  327.102070 -4659.98278\n",
       "27         3  144.4  137.03  13.00  101.000  1.337965  341.389956 -4742.67064\n",
       "28         3  144.4  137.03  29.44   59.495  1.362066  344.462823 -4623.15991\n",
       "29         4  144.4  137.03  29.44   99.000  1.366981  327.553165 -4730.49832\n",
       "..       ...    ...     ...    ...      ...       ...         ...         ...\n",
       "70         2  147.0  179.00  29.44   49.000  1.343519  365.152600 -4768.73145\n",
       "71        11  182.0  208.00  14.00   81.000  1.435262  378.810343 -4804.35864\n",
       "72         2  144.4  137.03  29.44   58.000  1.403390  287.320137 -4776.20031\n",
       "73         2  144.4  137.03  29.44   33.000  1.416863  355.312249 -4799.71764\n",
       "74         2  144.4  137.03  29.44   78.000  1.409211  319.003883 -4704.02917\n",
       "75         2  229.0  137.03  29.44   40.000  1.347031  345.764047 -4803.39584\n",
       "76         1  144.4  137.03  29.44   50.000  1.361636  352.830925 -4750.81331\n",
       "77         1  144.4  137.03  29.44   31.000  1.356846  304.050203 -4805.67798\n",
       "78         2  144.4  137.03  29.44   62.000  1.331647  324.573644 -4719.65761\n",
       "79         1  144.4  137.03  29.44   42.000  1.335134  350.740984 -4683.21686\n",
       "80         1  144.4  137.03  29.44   66.000  1.357778  314.601150 -4738.32169\n",
       "81         1  144.4   20.00  29.44   26.000  1.343194  305.578514 -4823.64859\n",
       "82         1   19.0  137.03  19.00   95.000  1.423417  336.678768 -4739.29583\n",
       "83         1  144.4  137.03  29.44   50.000  1.421425  358.106258 -4688.95723\n",
       "84         1  144.4  137.03  29.44   44.000  1.436051  348.335503 -4746.17608\n",
       "85         1  144.4  137.03  29.44   59.495  1.429822  323.861942 -4819.35009\n",
       "86         1  144.4  137.03  29.44   24.000  1.421153  404.252116 -4889.64942\n",
       "87         1  144.4  137.03  29.44   59.495  1.471908  405.868971 -4831.12709\n",
       "88         1  144.4   14.00  29.44   65.000  1.417097  381.857429 -4802.22383\n",
       "89         1   82.0  137.03  14.00   75.000  1.358267  339.620295 -4750.56430\n",
       "90         1  144.4  137.03  29.44   59.495  1.391061  419.350030 -4827.05747\n",
       "91         1  144.4  137.03  23.00   30.000  1.362696  395.829932 -4883.34406\n",
       "92         1  144.4  137.03  13.00   59.495  1.369611  345.864186 -4753.39209\n",
       "93         1   32.0   48.00  32.00   30.000  1.387731  360.463158 -4883.11126\n",
       "94         1  144.4  137.03  29.44   48.000  1.442779  367.284023 -4854.09306\n",
       "95         1  144.4  137.03  29.44   24.000  1.404848  388.710045 -4939.27755\n",
       "96         1  144.4  137.03  29.44   88.000  1.381471  422.911928 -4841.19537\n",
       "97         1  144.4  137.03  29.44   57.000  1.410432  344.460048 -4776.82118\n",
       "98         1  144.4  137.03  29.44   59.495  1.439032  382.944862 -4890.16916\n",
       "99         1  144.4  137.03  29.44   22.000  1.422409  370.200149 -4863.95604\n",
       "\n",
       "[100 rows x 8 columns]"
      ]
     },
     "execution_count": 3,
     "metadata": {},
     "output_type": "execute_result"
    }
   ],
   "source": [
    "df=pd.read_csv('xe2xe1_0100_track_cavall4.csv',delimiter=\" \")\n",
    "df.head(100)"
   ]
  },
  {
   "cell_type": "code",
   "execution_count": 4,
   "metadata": {},
   "outputs": [
    {
     "data": {
      "text/plain": [
       "9"
      ]
     },
     "execution_count": 4,
     "metadata": {},
     "output_type": "execute_result"
    }
   ],
   "source": [
    "df['location'].nunique()"
   ]
  },
  {
   "cell_type": "code",
   "execution_count": 5,
   "metadata": {},
   "outputs": [
    {
     "data": {
      "text/plain": [
       "location    0\n",
       "cav1        0\n",
       "cav2        0\n",
       "cav3        0\n",
       "cav4        0\n",
       "rmsd        0\n",
       "engself     0\n",
       "engwat      0\n",
       "dtype: int64"
      ]
     },
     "execution_count": 5,
     "metadata": {},
     "output_type": "execute_result"
    }
   ],
   "source": [
    "df.isnull().sum()"
   ]
  },
  {
   "cell_type": "code",
   "execution_count": 6,
   "metadata": {},
   "outputs": [],
   "source": [
    "y = df[['location']]\n",
    "x = df[['cav1','cav2','cav3','cav4']]"
   ]
  },
  {
   "cell_type": "code",
   "execution_count": 7,
   "metadata": {},
   "outputs": [],
   "source": [
    "X_train, X_test, y_train, y_test = train_test_split(x, y, test_size=0.2, random_state=77)"
   ]
  },
  {
   "cell_type": "code",
   "execution_count": 8,
   "metadata": {},
   "outputs": [
    {
     "data": {
      "text/plain": [
       "0.027590530036336047"
      ]
     },
     "execution_count": 8,
     "metadata": {},
     "output_type": "execute_result"
    }
   ],
   "source": [
    "lm = LinearRegression()\n",
    "lm.fit(X_train, y_train)\n",
    "lm.score(X_train, y_train)"
   ]
  },
  {
   "cell_type": "code",
   "execution_count": 9,
   "metadata": {},
   "outputs": [
    {
     "data": {
      "text/plain": [
       "0.00025236390608218695"
      ]
     },
     "execution_count": 9,
     "metadata": {},
     "output_type": "execute_result"
    }
   ],
   "source": [
    "lm.score(X_test, y_test)"
   ]
  },
  {
   "cell_type": "code",
   "execution_count": 10,
   "metadata": {},
   "outputs": [
    {
     "name": "stdout",
     "output_type": "stream",
     "text": [
      "The linear model is: Y = 1.106 + 0.0028371*cav1 + 0.0053549*cav2 + 0.022616*cav3+ 0.0022858*cav4\n"
     ]
    }
   ],
   "source": [
    "        print(\"The linear model is: Y = {:.5} + {:.5}*cav1 + {:.5}*cav2 + {:.5}*cav3+ {:.5}*cav4\".format(lm.intercept_[0], lm.coef_[0][0], lm.coef_[0][1], lm.coef_[0][2], lm.coef_[0][3]))"
   ]
  },
  {
   "cell_type": "code",
   "execution_count": 10,
   "metadata": {},
   "outputs": [
    {
     "name": "stdout",
     "output_type": "stream",
     "text": [
      "                            OLS Regression Results                            \n",
      "==============================================================================\n",
      "Dep. Variable:               location   R-squared:                       0.026\n",
      "Model:                            OLS   Adj. R-squared:                  0.022\n",
      "Method:                 Least Squares   F-statistic:                     6.598\n",
      "Date:                Fri, 24 Apr 2020   Prob (F-statistic):           3.06e-05\n",
      "Time:                        17:42:40   Log-Likelihood:                -2022.3\n",
      "No. Observations:                1000   AIC:                             4055.\n",
      "Df Residuals:                     995   BIC:                             4079.\n",
      "Df Model:                           4                                         \n",
      "Covariance Type:            nonrobust                                         \n",
      "==============================================================================\n",
      "                 coef    std err          t      P>|t|      [0.025      0.975]\n",
      "------------------------------------------------------------------------------\n",
      "const          1.1834      0.396      2.986      0.003       0.406       1.961\n",
      "x1             0.0028      0.002      1.787      0.074      -0.000       0.006\n",
      "x2             0.0051      0.002      3.292      0.001       0.002       0.008\n",
      "x3             0.0207      0.006      3.313      0.001       0.008       0.033\n",
      "x4             0.0018      0.003      0.598      0.550      -0.004       0.008\n",
      "==============================================================================\n",
      "Omnibus:                      377.406   Durbin-Watson:                   1.253\n",
      "Prob(Omnibus):                  0.000   Jarque-Bera (JB):             1508.759\n",
      "Skew:                           1.776   Prob(JB):                         0.00\n",
      "Kurtosis:                       7.858   Cond. No.                     1.46e+03\n",
      "==============================================================================\n",
      "\n",
      "Warnings:\n",
      "[1] Standard Errors assume that the covariance matrix of the errors is correctly specified.\n",
      "[2] The condition number is large, 1.46e+03. This might indicate that there are\n",
      "strong multicollinearity or other numerical problems.\n"
     ]
    }
   ],
   "source": [
    "X = np.column_stack((df['cav1'], df['cav2'], df['cav3'],df['cav4']))\n",
    "y = df['location']\n",
    "X2 = sm.add_constant(X)\n",
    "est = sm.OLS(y, X2)\n",
    "est2 = est.fit()\n",
    "print(est2.summary())"
   ]
  },
  {
   "cell_type": "code",
   "execution_count": 11,
   "metadata": {},
   "outputs": [
    {
     "name": "stdout",
     "output_type": "stream",
     "text": [
      "Best alpha using built-in LassoCV: 2.282446\n",
      "Best score using built-in LassoCV: 0.012691\n",
      "Lasso picked 2 variables and eliminated the other 2 variables\n"
     ]
    },
    {
     "data": {
      "text/plain": [
       "Text(0.5, 1.0, 'Feature importance using Lasso Model')"
      ]
     },
     "execution_count": 11,
     "metadata": {},
     "output_type": "execute_result"
    },
    {
     "data": {
      "image/png": "[encoded data removed]",
      "text/plain": [
       "<Figure size 576x720 with 1 Axes>"
      ]
     },
     "metadata": {
      "needs_background": "light"
     },
     "output_type": "display_data"
    }
   ],
   "source": [
    "reg = LassoCV()\n",
    "reg.fit(x, y)\n",
    "print(\"Best alpha using built-in LassoCV: %f\" % reg.alpha_)\n",
    "print(\"Best score using built-in LassoCV: %f\" %reg.score(x,y))\n",
    "coef = pd.Series(reg.coef_, index = x.columns)\n",
    "\n",
    "print(\"Lasso picked \" + str(sum(coef != 0)) + \" variables and eliminated the other \" +  str(sum(coef == 0)) + \" variables\")\n",
    "\n",
    "imp_coef = coef.sort_values()\n",
    "import matplotlib\n",
    "matplotlib.rcParams['figure.figsize'] = (8.0, 10.0)\n",
    "imp_coef.plot(kind = \"barh\")\n",
    "plt.title(\"Feature importance using Lasso Model\")"
   ]
  },
  {
   "cell_type": "code",
   "execution_count": 11,
   "metadata": {},
   "outputs": [
    {
     "data": {
      "text/html": [
       "<div>\n",
       "<style scoped>\n",
       "    .dataframe tbody tr th:only-of-type {\n",
       "        vertical-align: middle;\n",
       "    }\n",
       "\n",
       "    .dataframe tbody tr th {\n",
       "        vertical-align: top;\n",
       "    }\n",
       "\n",
       "    .dataframe thead th {\n",
       "        text-align: right;\n",
       "    }\n",
       "</style>\n",
       "<table border=\"1\" class=\"dataframe\">\n",
       "  <thead>\n",
       "    <tr style=\"text-align: right;\">\n",
       "      <th></th>\n",
       "      <th>location</th>\n",
       "      <th>cav1</th>\n",
       "      <th>cav2</th>\n",
       "      <th>cav3</th>\n",
       "      <th>cav4</th>\n",
       "      <th>rmsd</th>\n",
       "      <th>engself</th>\n",
       "      <th>engwat</th>\n",
       "    </tr>\n",
       "  </thead>\n",
       "  <tbody>\n",
       "    <tr>\n",
       "      <th>0</th>\n",
       "      <td>3</td>\n",
       "      <td>131.0</td>\n",
       "      <td>158.00</td>\n",
       "      <td>29.44</td>\n",
       "      <td>54.000</td>\n",
       "      <td>1.328087</td>\n",
       "      <td>307.702765</td>\n",
       "      <td>-4654.30750</td>\n",
       "    </tr>\n",
       "    <tr>\n",
       "      <th>1</th>\n",
       "      <td>3</td>\n",
       "      <td>144.4</td>\n",
       "      <td>137.03</td>\n",
       "      <td>37.00</td>\n",
       "      <td>101.000</td>\n",
       "      <td>1.413028</td>\n",
       "      <td>353.007717</td>\n",
       "      <td>-4696.24410</td>\n",
       "    </tr>\n",
       "    <tr>\n",
       "      <th>2</th>\n",
       "      <td>3</td>\n",
       "      <td>144.4</td>\n",
       "      <td>137.03</td>\n",
       "      <td>21.00</td>\n",
       "      <td>59.495</td>\n",
       "      <td>1.413520</td>\n",
       "      <td>297.498886</td>\n",
       "      <td>-4690.79777</td>\n",
       "    </tr>\n",
       "    <tr>\n",
       "      <th>3</th>\n",
       "      <td>3</td>\n",
       "      <td>144.4</td>\n",
       "      <td>137.03</td>\n",
       "      <td>15.00</td>\n",
       "      <td>59.495</td>\n",
       "      <td>1.399055</td>\n",
       "      <td>265.944984</td>\n",
       "      <td>-4562.95512</td>\n",
       "    </tr>\n",
       "    <tr>\n",
       "      <th>4</th>\n",
       "      <td>3</td>\n",
       "      <td>144.4</td>\n",
       "      <td>164.00</td>\n",
       "      <td>14.00</td>\n",
       "      <td>59.495</td>\n",
       "      <td>1.390981</td>\n",
       "      <td>305.673109</td>\n",
       "      <td>-4636.04173</td>\n",
       "    </tr>\n",
       "  </tbody>\n",
       "</table>\n",
       "</div>"
      ],
      "text/plain": [
       "   location   cav1    cav2   cav3     cav4      rmsd     engself      engwat\n",
       "0         3  131.0  158.00  29.44   54.000  1.328087  307.702765 -4654.30750\n",
       "1         3  144.4  137.03  37.00  101.000  1.413028  353.007717 -4696.24410\n",
       "2         3  144.4  137.03  21.00   59.495  1.413520  297.498886 -4690.79777\n",
       "3         3  144.4  137.03  15.00   59.495  1.399055  265.944984 -4562.95512\n",
       "4         3  144.4  164.00  14.00   59.495  1.390981  305.673109 -4636.04173"
      ]
     },
     "execution_count": 11,
     "metadata": {},
     "output_type": "execute_result"
    }
   ],
   "source": [
    "df=pd.read_csv('xe2xe1_0100_track_cavall4.csv',delimiter=\" \")\n",
    "df.head()"
   ]
  },
  {
   "cell_type": "code",
   "execution_count": 12,
   "metadata": {},
   "outputs": [
    {
     "data": {
      "text/html": [
       "<div>\n",
       "<style scoped>\n",
       "    .dataframe tbody tr th:only-of-type {\n",
       "        vertical-align: middle;\n",
       "    }\n",
       "\n",
       "    .dataframe tbody tr th {\n",
       "        vertical-align: top;\n",
       "    }\n",
       "\n",
       "    .dataframe thead th {\n",
       "        text-align: right;\n",
       "    }\n",
       "</style>\n",
       "<table border=\"1\" class=\"dataframe\">\n",
       "  <thead>\n",
       "    <tr style=\"text-align: right;\">\n",
       "      <th></th>\n",
       "      <th>location</th>\n",
       "      <th>cav1</th>\n",
       "      <th>cav2</th>\n",
       "      <th>cav3</th>\n",
       "      <th>cav4</th>\n",
       "      <th>rmsd</th>\n",
       "      <th>engself</th>\n",
       "      <th>engwat</th>\n",
       "    </tr>\n",
       "  </thead>\n",
       "  <tbody>\n",
       "    <tr>\n",
       "      <th>count</th>\n",
       "      <td>1000.00000</td>\n",
       "      <td>1000.000000</td>\n",
       "      <td>1000.000000</td>\n",
       "      <td>1000.000000</td>\n",
       "      <td>1000.000000</td>\n",
       "      <td>1000.000000</td>\n",
       "      <td>1000.000000</td>\n",
       "      <td>1000.000000</td>\n",
       "    </tr>\n",
       "    <tr>\n",
       "      <th>mean</th>\n",
       "      <td>3.01100</td>\n",
       "      <td>145.501600</td>\n",
       "      <td>137.030660</td>\n",
       "      <td>29.441360</td>\n",
       "      <td>59.495070</td>\n",
       "      <td>1.585938</td>\n",
       "      <td>356.449466</td>\n",
       "      <td>-4779.149512</td>\n",
       "    </tr>\n",
       "    <tr>\n",
       "      <th>std</th>\n",
       "      <td>1.85319</td>\n",
       "      <td>36.635382</td>\n",
       "      <td>37.891841</td>\n",
       "      <td>9.272317</td>\n",
       "      <td>19.361776</td>\n",
       "      <td>0.104335</td>\n",
       "      <td>58.089979</td>\n",
       "      <td>112.875354</td>\n",
       "    </tr>\n",
       "    <tr>\n",
       "      <th>min</th>\n",
       "      <td>1.00000</td>\n",
       "      <td>14.000000</td>\n",
       "      <td>8.000000</td>\n",
       "      <td>8.000000</td>\n",
       "      <td>19.000000</td>\n",
       "      <td>1.291412</td>\n",
       "      <td>170.092432</td>\n",
       "      <td>-5120.014940</td>\n",
       "    </tr>\n",
       "    <tr>\n",
       "      <th>25%</th>\n",
       "      <td>2.00000</td>\n",
       "      <td>144.400000</td>\n",
       "      <td>137.030000</td>\n",
       "      <td>29.440000</td>\n",
       "      <td>54.000000</td>\n",
       "      <td>1.521410</td>\n",
       "      <td>315.614794</td>\n",
       "      <td>-4858.403062</td>\n",
       "    </tr>\n",
       "    <tr>\n",
       "      <th>50%</th>\n",
       "      <td>3.00000</td>\n",
       "      <td>144.400000</td>\n",
       "      <td>137.030000</td>\n",
       "      <td>29.440000</td>\n",
       "      <td>59.495000</td>\n",
       "      <td>1.602828</td>\n",
       "      <td>354.278741</td>\n",
       "      <td>-4769.696225</td>\n",
       "    </tr>\n",
       "    <tr>\n",
       "      <th>75%</th>\n",
       "      <td>4.00000</td>\n",
       "      <td>144.400000</td>\n",
       "      <td>137.030000</td>\n",
       "      <td>29.440000</td>\n",
       "      <td>65.000000</td>\n",
       "      <td>1.661595</td>\n",
       "      <td>393.409367</td>\n",
       "      <td>-4696.230617</td>\n",
       "    </tr>\n",
       "    <tr>\n",
       "      <th>max</th>\n",
       "      <td>11.00000</td>\n",
       "      <td>297.000000</td>\n",
       "      <td>296.000000</td>\n",
       "      <td>99.000000</td>\n",
       "      <td>137.000000</td>\n",
       "      <td>1.859229</td>\n",
       "      <td>586.047368</td>\n",
       "      <td>-4503.866190</td>\n",
       "    </tr>\n",
       "  </tbody>\n",
       "</table>\n",
       "</div>"
      ],
      "text/plain": [
       "         location         cav1         cav2         cav3         cav4  \\\n",
       "count  1000.00000  1000.000000  1000.000000  1000.000000  1000.000000   \n",
       "mean      3.01100   145.501600   137.030660    29.441360    59.495070   \n",
       "std       1.85319    36.635382    37.891841     9.272317    19.361776   \n",
       "min       1.00000    14.000000     8.000000     8.000000    19.000000   \n",
       "25%       2.00000   144.400000   137.030000    29.440000    54.000000   \n",
       "50%       3.00000   144.400000   137.030000    29.440000    59.495000   \n",
       "75%       4.00000   144.400000   137.030000    29.440000    65.000000   \n",
       "max      11.00000   297.000000   296.000000    99.000000   137.000000   \n",
       "\n",
       "              rmsd      engself       engwat  \n",
       "count  1000.000000  1000.000000  1000.000000  \n",
       "mean      1.585938   356.449466 -4779.149512  \n",
       "std       0.104335    58.089979   112.875354  \n",
       "min       1.291412   170.092432 -5120.014940  \n",
       "25%       1.521410   315.614794 -4858.403062  \n",
       "50%       1.602828   354.278741 -4769.696225  \n",
       "75%       1.661595   393.409367 -4696.230617  \n",
       "max       1.859229   586.047368 -4503.866190  "
      ]
     },
     "execution_count": 12,
     "metadata": {},
     "output_type": "execute_result"
    }
   ],
   "source": [
    "df.describe()"
   ]
  },
  {
   "cell_type": "code",
   "execution_count": 13,
   "metadata": {},
   "outputs": [],
   "source": [
    "y = df[['location']]\n",
    "x = df[['cav1','cav2','cav3','cav4','rmsd','engself','engwat']]\n"
   ]
  },
  {
   "cell_type": "code",
   "execution_count": 14,
   "metadata": {},
   "outputs": [],
   "source": [
    "X_train, X_test, y_train, y_test = train_test_split(x, y, test_size=0.2, random_state=77)"
   ]
  },
  {
   "cell_type": "code",
   "execution_count": 15,
   "metadata": {},
   "outputs": [
    {
     "name": "stderr",
     "output_type": "stream",
     "text": [
      "/usr/local/lib/python3.5/dist-packages/sklearn/utils/validation.py:760: DataConversionWarning: A column-vector y was passed when a 1d array was expected. Please change the shape of y to (n_samples, ), for example using ravel().\n",
      "  y = column_or_1d(y, warn=True)\n",
      "/usr/local/lib/python3.5/dist-packages/sklearn/linear_model/_logistic.py:940: ConvergenceWarning: lbfgs failed to converge (status=1):\n",
      "STOP: TOTAL NO. of ITERATIONS REACHED LIMIT.\n",
      "\n",
      "Increase the number of iterations (max_iter) or scale the data as shown in:\n",
      "    https://scikit-learn.org/stable/modules/preprocessing.html\n",
      "Please also refer to the documentation for alternative solver options:\n",
      "    https://scikit-learn.org/stable/modules/linear_model.html#logistic-regression\n",
      "  extra_warning_msg=_LOGISTIC_SOLVER_CONVERGENCE_MSG)\n"
     ]
    },
    {
     "data": {
      "text/plain": [
       "0.4"
      ]
     },
     "execution_count": 15,
     "metadata": {},
     "output_type": "execute_result"
    }
   ],
   "source": [
    "#Train and fit Logistic Regression model.\n",
    "LoRmod=LogisticRegression(max_iter=10000)\n",
    "LoRmod.fit(X_train,y_train)\n",
    "#Score LR training\n",
    "LoRmod.score(X_train, y_train)"
   ]
  },
  {
   "cell_type": "code",
   "execution_count": 16,
   "metadata": {},
   "outputs": [
    {
     "name": "stdout",
     "output_type": "stream",
     "text": [
      "Accuracy score: 36.0\n",
      "F1 score: 14.905247307993303\n",
      "Recall score: 17.132965622052197\n",
      "Precision score: 15.355279640993928\n",
      "Confusion matrix: [[ 8 11  0 28  0  0  0]\n",
      " [ 4 18  0 36  0  0  0]\n",
      " [ 2 10  0 10  0  0  0]\n",
      " [ 8 10  0 46  0  0  0]\n",
      " [ 0  1  0  3  0  0  0]\n",
      " [ 0  0  0  2  0  0  0]\n",
      " [ 0  2  0  1  0  0  0]]\n",
      "Classification report:               precision    recall  f1-score   support\n",
      "\n",
      "           1       0.36      0.17      0.23        47\n",
      "           2       0.35      0.31      0.33        58\n",
      "           3       0.00      0.00      0.00        22\n",
      "           4       0.37      0.72      0.48        64\n",
      "           7       0.00      0.00      0.00         4\n",
      "           9       0.00      0.00      0.00         2\n",
      "          11       0.00      0.00      0.00         3\n",
      "\n",
      "    accuracy                           0.36       200\n",
      "   macro avg       0.15      0.17      0.15       200\n",
      "weighted avg       0.30      0.36      0.30       200\n",
      "\n"
     ]
    },
    {
     "name": "stderr",
     "output_type": "stream",
     "text": [
      "/usr/local/lib/python3.5/dist-packages/sklearn/metrics/_classification.py:1321: UserWarning: Note that pos_label (set to 'positive') is ignored when average != 'binary' (got 'macro'). You may use labels=[pos_label] to specify a single positive class.\n",
      "  % (pos_label, average), UserWarning)\n",
      "/usr/local/lib/python3.5/dist-packages/sklearn/metrics/_classification.py:1272: UndefinedMetricWarning: Precision is ill-defined and being set to 0.0 in labels with no predicted samples. Use `zero_division` parameter to control this behavior.\n",
      "  _warn_prf(average, modifier, msg_start, len(result))\n",
      "/usr/local/lib/python3.5/dist-packages/sklearn/metrics/_classification.py:1272: UndefinedMetricWarning: Precision and F-score are ill-defined and being set to 0.0 in labels with no predicted samples. Use `zero_division` parameter to control this behavior.\n",
      "  _warn_prf(average, modifier, msg_start, len(result))\n"
     ]
    }
   ],
   "source": [
    "#Predict from manufactured test and score\n",
    "LoRpred= LoRmod.predict(X_test)\n",
    "print('Accuracy score:', accuracy_score(y_test,LoRpred)*100)\n",
    "print('F1 score:', f1_score(y_test, LoRpred,pos_label='positive',average='macro')*100)\n",
    "print('Recall score:', recall_score(y_test, LoRpred,pos_label='positive',average='macro')*100)\n",
    "print('Precision score:', precision_score(y_test, LoRpred,pos_label='positive',average='macro')*100)\n",
    "print('Confusion matrix:', confusion_matrix(y_test, LoRpred))\n",
    "print('Classification report:', classification_report(y_test, LoRpred))"
   ]
  },
  {
   "cell_type": "code",
   "execution_count": 17,
   "metadata": {},
   "outputs": [
    {
     "name": "stderr",
     "output_type": "stream",
     "text": [
      "/home/alia/.local/lib/python3.5/site-packages/ipykernel_launcher.py:4: DataConversionWarning: A column-vector y was passed when a 1d array was expected. Please change the shape of y to (n_samples, ), for example using ravel().\n",
      "  after removing the cwd from sys.path.\n",
      "/home/alia/.local/lib/python3.5/site-packages/ipykernel_launcher.py:4: DataConversionWarning: A column-vector y was passed when a 1d array was expected. Please change the shape of y to (n_samples, ), for example using ravel().\n",
      "  after removing the cwd from sys.path.\n",
      "/home/alia/.local/lib/python3.5/site-packages/ipykernel_launcher.py:4: DataConversionWarning: A column-vector y was passed when a 1d array was expected. Please change the shape of y to (n_samples, ), for example using ravel().\n",
      "  after removing the cwd from sys.path.\n",
      "/home/alia/.local/lib/python3.5/site-packages/ipykernel_launcher.py:4: DataConversionWarning: A column-vector y was passed when a 1d array was expected. Please change the shape of y to (n_samples, ), for example using ravel().\n",
      "  after removing the cwd from sys.path.\n",
      "/home/alia/.local/lib/python3.5/site-packages/ipykernel_launcher.py:4: DataConversionWarning: A column-vector y was passed when a 1d array was expected. Please change the shape of y to (n_samples, ), for example using ravel().\n",
      "  after removing the cwd from sys.path.\n",
      "/home/alia/.local/lib/python3.5/site-packages/ipykernel_launcher.py:4: DataConversionWarning: A column-vector y was passed when a 1d array was expected. Please change the shape of y to (n_samples, ), for example using ravel().\n",
      "  after removing the cwd from sys.path.\n",
      "/home/alia/.local/lib/python3.5/site-packages/ipykernel_launcher.py:4: DataConversionWarning: A column-vector y was passed when a 1d array was expected. Please change the shape of y to (n_samples, ), for example using ravel().\n",
      "  after removing the cwd from sys.path.\n",
      "/home/alia/.local/lib/python3.5/site-packages/ipykernel_launcher.py:4: DataConversionWarning: A column-vector y was passed when a 1d array was expected. Please change the shape of y to (n_samples, ), for example using ravel().\n",
      "  after removing the cwd from sys.path.\n",
      "/home/alia/.local/lib/python3.5/site-packages/ipykernel_launcher.py:4: DataConversionWarning: A column-vector y was passed when a 1d array was expected. Please change the shape of y to (n_samples, ), for example using ravel().\n",
      "  after removing the cwd from sys.path.\n",
      "/home/alia/.local/lib/python3.5/site-packages/ipykernel_launcher.py:4: DataConversionWarning: A column-vector y was passed when a 1d array was expected. Please change the shape of y to (n_samples, ), for example using ravel().\n",
      "  after removing the cwd from sys.path.\n",
      "/home/alia/.local/lib/python3.5/site-packages/ipykernel_launcher.py:4: DataConversionWarning: A column-vector y was passed when a 1d array was expected. Please change the shape of y to (n_samples, ), for example using ravel().\n",
      "  after removing the cwd from sys.path.\n",
      "/home/alia/.local/lib/python3.5/site-packages/ipykernel_launcher.py:4: DataConversionWarning: A column-vector y was passed when a 1d array was expected. Please change the shape of y to (n_samples, ), for example using ravel().\n",
      "  after removing the cwd from sys.path.\n",
      "/home/alia/.local/lib/python3.5/site-packages/ipykernel_launcher.py:4: DataConversionWarning: A column-vector y was passed when a 1d array was expected. Please change the shape of y to (n_samples, ), for example using ravel().\n",
      "  after removing the cwd from sys.path.\n",
      "/home/alia/.local/lib/python3.5/site-packages/ipykernel_launcher.py:4: DataConversionWarning: A column-vector y was passed when a 1d array was expected. Please change the shape of y to (n_samples, ), for example using ravel().\n",
      "  after removing the cwd from sys.path.\n",
      "/home/alia/.local/lib/python3.5/site-packages/ipykernel_launcher.py:4: DataConversionWarning: A column-vector y was passed when a 1d array was expected. Please change the shape of y to (n_samples, ), for example using ravel().\n",
      "  after removing the cwd from sys.path.\n",
      "/home/alia/.local/lib/python3.5/site-packages/ipykernel_launcher.py:4: DataConversionWarning: A column-vector y was passed when a 1d array was expected. Please change the shape of y to (n_samples, ), for example using ravel().\n",
      "  after removing the cwd from sys.path.\n",
      "/home/alia/.local/lib/python3.5/site-packages/ipykernel_launcher.py:4: DataConversionWarning: A column-vector y was passed when a 1d array was expected. Please change the shape of y to (n_samples, ), for example using ravel().\n",
      "  after removing the cwd from sys.path.\n",
      "/home/alia/.local/lib/python3.5/site-packages/ipykernel_launcher.py:4: DataConversionWarning: A column-vector y was passed when a 1d array was expected. Please change the shape of y to (n_samples, ), for example using ravel().\n",
      "  after removing the cwd from sys.path.\n",
      "/home/alia/.local/lib/python3.5/site-packages/ipykernel_launcher.py:4: DataConversionWarning: A column-vector y was passed when a 1d array was expected. Please change the shape of y to (n_samples, ), for example using ravel().\n",
      "  after removing the cwd from sys.path.\n"
     ]
    }
   ],
   "source": [
    "k_list=[]\n",
    "for i in range(1,20):\n",
    "  classifier=KNeighborsClassifier(n_neighbors=i)\n",
    "  classifier.fit(X_train,y_train)\n",
    "  k_list.append(classifier.score(X_test,y_test))"
   ]
  },
  {
   "cell_type": "code",
   "execution_count": 18,
   "metadata": {},
   "outputs": [
    {
     "data": {
      "image/png": "[encoded data removed]",
      "text/plain": [
       "<Figure size 432x288 with 1 Axes>"
      ]
     },
     "metadata": {
      "needs_background": "light"
     },
     "output_type": "display_data"
    }
   ],
   "source": [
    "plt.plot(range(1,20),k_list)\n",
    "plt.ylabel('Validation acc')\n",
    "plt.title('nice')\n",
    "plt.show()"
   ]
  },
  {
   "cell_type": "code",
   "execution_count": 19,
   "metadata": {},
   "outputs": [
    {
     "name": "stderr",
     "output_type": "stream",
     "text": [
      "/home/alia/.local/lib/python3.5/site-packages/ipykernel_launcher.py:2: DataConversionWarning: A column-vector y was passed when a 1d array was expected. Please change the shape of y to (n_samples, ), for example using ravel().\n",
      "  \n"
     ]
    },
    {
     "data": {
      "text/plain": [
       "0.48375"
      ]
     },
     "execution_count": 19,
     "metadata": {},
     "output_type": "execute_result"
    }
   ],
   "source": [
    "KNNmod=KNeighborsClassifier(n_neighbors=15)\n",
    "KNNmod.fit(X_train,y_train)\n",
    "#Score RF fit.\n",
    "KNNmod.score(X_train, y_train)"
   ]
  },
  {
   "cell_type": "code",
   "execution_count": 20,
   "metadata": {},
   "outputs": [
    {
     "name": "stdout",
     "output_type": "stream",
     "text": [
      "Accuracy score: 35.5\n",
      "F1 score: 17.376043143029538\n",
      "Recall score: 18.22415936961058\n",
      "Precision score: 22.149844781525278\n",
      "Confusion matrix: [[17 14  1 15  0  0  0]\n",
      " [14 25  0 19  0  0  0]\n",
      " [ 4  9  1  8  0  0  0]\n",
      " [18 18  0 28  0  0  0]\n",
      " [ 0  1  0  3  0  0  0]\n",
      " [ 0  2  0  0  0  0  0]\n",
      " [ 1  2  0  0  0  0  0]]\n",
      "Classification report:               precision    recall  f1-score   support\n",
      "\n",
      "           1       0.31      0.36      0.34        47\n",
      "           2       0.35      0.43      0.39        58\n",
      "           3       0.50      0.05      0.08        22\n",
      "           4       0.38      0.44      0.41        64\n",
      "           7       0.00      0.00      0.00         4\n",
      "           9       0.00      0.00      0.00         2\n",
      "          11       0.00      0.00      0.00         3\n",
      "\n",
      "    accuracy                           0.36       200\n",
      "   macro avg       0.22      0.18      0.17       200\n",
      "weighted avg       0.35      0.35      0.33       200\n",
      "\n"
     ]
    },
    {
     "name": "stderr",
     "output_type": "stream",
     "text": [
      "/usr/local/lib/python3.5/dist-packages/sklearn/metrics/_classification.py:1321: UserWarning: Note that pos_label (set to 'positive') is ignored when average != 'binary' (got 'macro'). You may use labels=[pos_label] to specify a single positive class.\n",
      "  % (pos_label, average), UserWarning)\n",
      "/usr/local/lib/python3.5/dist-packages/sklearn/metrics/_classification.py:1272: UndefinedMetricWarning: Precision is ill-defined and being set to 0.0 in labels with no predicted samples. Use `zero_division` parameter to control this behavior.\n",
      "  _warn_prf(average, modifier, msg_start, len(result))\n",
      "/usr/local/lib/python3.5/dist-packages/sklearn/metrics/_classification.py:1272: UndefinedMetricWarning: Precision and F-score are ill-defined and being set to 0.0 in labels with no predicted samples. Use `zero_division` parameter to control this behavior.\n",
      "  _warn_prf(average, modifier, msg_start, len(result))\n"
     ]
    }
   ],
   "source": [
    "#Predict from manufactured test and score\n",
    "KNNpred = KNNmod.predict(X_test)\n",
    "print('Accuracy score:', accuracy_score(y_test,KNNpred)*100)\n",
    "print('F1 score:', f1_score(y_test, KNNpred,pos_label='positive',average='macro')*100)\n",
    "print('Recall score:', recall_score(y_test, KNNpred,pos_label='positive',average='macro')*100)\n",
    "print('Precision score:', precision_score(y_test, KNNpred,pos_label='positive',average='macro')*100)\n",
    "print('Confusion matrix:', confusion_matrix(y_test, KNNpred))\n",
    "print('Classification report:', classification_report(y_test, KNNpred))"
   ]
  },
  {
   "cell_type": "code",
   "execution_count": 21,
   "metadata": {},
   "outputs": [
    {
     "name": "stderr",
     "output_type": "stream",
     "text": [
      "/usr/local/lib/python3.5/dist-packages/sklearn/utils/validation.py:760: DataConversionWarning: A column-vector y was passed when a 1d array was expected. Please change the shape of y to (n_samples, ), for example using ravel().\n",
      "  y = column_or_1d(y, warn=True)\n"
     ]
    },
    {
     "data": {
      "text/plain": [
       "0.9925"
      ]
     },
     "execution_count": 21,
     "metadata": {},
     "output_type": "execute_result"
    }
   ],
   "source": [
    "SVCmod=SVC(kernel='rbf',gamma=0.1)\n",
    "SVCmod.fit(X_train,y_train)\n",
    "#Score DT fit.\n",
    "SVCmod.score(X_train, y_train)"
   ]
  },
  {
   "cell_type": "code",
   "execution_count": 22,
   "metadata": {},
   "outputs": [
    {
     "name": "stdout",
     "output_type": "stream",
     "text": [
      "Accuracy score: 32.0\n",
      "F1 score: 6.926406926406926\n",
      "Recall score: 14.285714285714285\n",
      "Precision score: 4.571428571428571\n",
      "Confusion matrix: [[ 0  0  0 47  0  0  0]\n",
      " [ 0  0  0 58  0  0  0]\n",
      " [ 0  0  0 22  0  0  0]\n",
      " [ 0  0  0 64  0  0  0]\n",
      " [ 0  0  0  4  0  0  0]\n",
      " [ 0  0  0  2  0  0  0]\n",
      " [ 0  0  0  3  0  0  0]]\n",
      "Classification report:               precision    recall  f1-score   support\n",
      "\n",
      "           1       0.00      0.00      0.00        47\n",
      "           2       0.00      0.00      0.00        58\n",
      "           3       0.00      0.00      0.00        22\n",
      "           4       0.32      1.00      0.48        64\n",
      "           7       0.00      0.00      0.00         4\n",
      "           9       0.00      0.00      0.00         2\n",
      "          11       0.00      0.00      0.00         3\n",
      "\n",
      "    accuracy                           0.32       200\n",
      "   macro avg       0.05      0.14      0.07       200\n",
      "weighted avg       0.10      0.32      0.16       200\n",
      "\n"
     ]
    },
    {
     "name": "stderr",
     "output_type": "stream",
     "text": [
      "/usr/local/lib/python3.5/dist-packages/sklearn/metrics/_classification.py:1321: UserWarning: Note that pos_label (set to 'positive') is ignored when average != 'binary' (got 'macro'). You may use labels=[pos_label] to specify a single positive class.\n",
      "  % (pos_label, average), UserWarning)\n",
      "/usr/local/lib/python3.5/dist-packages/sklearn/metrics/_classification.py:1272: UndefinedMetricWarning: Precision is ill-defined and being set to 0.0 in labels with no predicted samples. Use `zero_division` parameter to control this behavior.\n",
      "  _warn_prf(average, modifier, msg_start, len(result))\n",
      "/usr/local/lib/python3.5/dist-packages/sklearn/metrics/_classification.py:1272: UndefinedMetricWarning: Precision and F-score are ill-defined and being set to 0.0 in labels with no predicted samples. Use `zero_division` parameter to control this behavior.\n",
      "  _warn_prf(average, modifier, msg_start, len(result))\n"
     ]
    }
   ],
   "source": [
    "#Predict from manufactured test and score\n",
    "SVCpred = SVCmod.predict(X_test)\n",
    "print('Accuracy score:', accuracy_score(y_test,SVCpred)*100)\n",
    "print('F1 score:', f1_score(y_test, SVCpred,pos_label='positive',average='macro')*100)\n",
    "print('Recall score:', recall_score(y_test, SVCpred,pos_label='positive',average='macro')*100)\n",
    "print('Precision score:', precision_score(y_test, SVCpred,pos_label='positive',average='macro')*100)\n",
    "print('Confusion matrix:', confusion_matrix(y_test, SVCpred))\n",
    "print('Classification report:', classification_report(y_test, SVCpred))"
   ]
  },
  {
   "cell_type": "code",
   "execution_count": 23,
   "metadata": {},
   "outputs": [
    {
     "name": "stderr",
     "output_type": "stream",
     "text": [
      "/home/alia/.local/lib/python3.5/site-packages/ipykernel_launcher.py:3: DataConversionWarning: A column-vector y was passed when a 1d array was expected. Please change the shape of y to (n_samples,), for example using ravel().\n",
      "  This is separate from the ipykernel package so we can avoid doing imports until\n"
     ]
    },
    {
     "data": {
      "text/plain": [
       "1.0"
      ]
     },
     "execution_count": 23,
     "metadata": {},
     "output_type": "execute_result"
    }
   ],
   "source": [
    "#Train and fit Random Forest model.\n",
    "RFmod=RandomForestClassifier(n_estimators=100,random_state=77)\n",
    "RFmod.fit(X_train,y_train)\n",
    "#Score RF fit.\n",
    "RFmod.score(X_train, y_train)"
   ]
  },
  {
   "cell_type": "code",
   "execution_count": 24,
   "metadata": {},
   "outputs": [
    {
     "name": "stdout",
     "output_type": "stream",
     "text": [
      "Accuracy score: 43.5\n",
      "F1 score: 23.23971324242621\n",
      "Recall score: 23.546792074396624\n",
      "Precision score: 24.39115646258503\n",
      "Confusion matrix: [[24 10  1 12  0  0  0]\n",
      " [11 21  3 23  0  0  0]\n",
      " [ 4  7  4  7  0  0  0]\n",
      " [10 15  1 38  0  0  0]\n",
      " [ 0  1  0  3  0  0  0]\n",
      " [ 0  1  0  1  0  0  0]\n",
      " [ 1  1  1  0  0  0  0]]\n",
      "Classification report:               precision    recall  f1-score   support\n",
      "\n",
      "           1       0.48      0.51      0.49        47\n",
      "           2       0.38      0.36      0.37        58\n",
      "           3       0.40      0.18      0.25        22\n",
      "           4       0.45      0.59      0.51        64\n",
      "           7       0.00      0.00      0.00         4\n",
      "           9       0.00      0.00      0.00         2\n",
      "          11       0.00      0.00      0.00         3\n",
      "\n",
      "    accuracy                           0.43       200\n",
      "   macro avg       0.24      0.24      0.23       200\n",
      "weighted avg       0.41      0.43      0.41       200\n",
      "\n"
     ]
    },
    {
     "name": "stderr",
     "output_type": "stream",
     "text": [
      "/usr/local/lib/python3.5/dist-packages/sklearn/metrics/_classification.py:1321: UserWarning: Note that pos_label (set to 'positive') is ignored when average != 'binary' (got 'macro'). You may use labels=[pos_label] to specify a single positive class.\n",
      "  % (pos_label, average), UserWarning)\n",
      "/usr/local/lib/python3.5/dist-packages/sklearn/metrics/_classification.py:1272: UndefinedMetricWarning: Precision is ill-defined and being set to 0.0 in labels with no predicted samples. Use `zero_division` parameter to control this behavior.\n",
      "  _warn_prf(average, modifier, msg_start, len(result))\n",
      "/usr/local/lib/python3.5/dist-packages/sklearn/metrics/_classification.py:1272: UndefinedMetricWarning: Precision and F-score are ill-defined and being set to 0.0 in labels with no predicted samples. Use `zero_division` parameter to control this behavior.\n",
      "  _warn_prf(average, modifier, msg_start, len(result))\n"
     ]
    }
   ],
   "source": [
    "#Predict from manufactured test and score\n",
    "RFpred = RFmod.predict(X_test)\n",
    "print('Accuracy score:', accuracy_score(y_test,RFpred)*100)\n",
    "print('F1 score:', f1_score(y_test, RFpred,pos_label='positive',average='macro')*100)\n",
    "print('Recall score:', recall_score(y_test, RFpred,pos_label='positive',average='macro')*100)\n",
    "print('Precision score:', precision_score(y_test, RFpred,pos_label='positive',average='macro')*100)\n",
    "print('Confusion matrix:', confusion_matrix(y_test, RFpred))\n",
    "print('Classification report:', classification_report(y_test, RFpred))"
   ]
  },
  {
   "cell_type": "code",
   "execution_count": 25,
   "metadata": {},
   "outputs": [
    {
     "data": {
      "text/html": [
       "<div>\n",
       "<style scoped>\n",
       "    .dataframe tbody tr th:only-of-type {\n",
       "        vertical-align: middle;\n",
       "    }\n",
       "\n",
       "    .dataframe tbody tr th {\n",
       "        vertical-align: top;\n",
       "    }\n",
       "\n",
       "    .dataframe thead th {\n",
       "        text-align: right;\n",
       "    }\n",
       "</style>\n",
       "<table border=\"1\" class=\"dataframe\">\n",
       "  <thead>\n",
       "    <tr style=\"text-align: right;\">\n",
       "      <th></th>\n",
       "      <th>location</th>\n",
       "      <th>cav1</th>\n",
       "      <th>cav2</th>\n",
       "      <th>cav3</th>\n",
       "      <th>cav4</th>\n",
       "      <th>rmsd</th>\n",
       "      <th>engself</th>\n",
       "      <th>engwat</th>\n",
       "    </tr>\n",
       "  </thead>\n",
       "  <tbody>\n",
       "    <tr>\n",
       "      <th>0</th>\n",
       "      <td>3</td>\n",
       "      <td>131.0</td>\n",
       "      <td>158.00</td>\n",
       "      <td>29.44</td>\n",
       "      <td>54.000</td>\n",
       "      <td>1.328087</td>\n",
       "      <td>307.702765</td>\n",
       "      <td>-4654.30750</td>\n",
       "    </tr>\n",
       "    <tr>\n",
       "      <th>1</th>\n",
       "      <td>3</td>\n",
       "      <td>144.4</td>\n",
       "      <td>137.03</td>\n",
       "      <td>37.00</td>\n",
       "      <td>101.000</td>\n",
       "      <td>1.413028</td>\n",
       "      <td>353.007717</td>\n",
       "      <td>-4696.24410</td>\n",
       "    </tr>\n",
       "    <tr>\n",
       "      <th>2</th>\n",
       "      <td>3</td>\n",
       "      <td>144.4</td>\n",
       "      <td>137.03</td>\n",
       "      <td>21.00</td>\n",
       "      <td>59.495</td>\n",
       "      <td>1.413520</td>\n",
       "      <td>297.498886</td>\n",
       "      <td>-4690.79777</td>\n",
       "    </tr>\n",
       "    <tr>\n",
       "      <th>3</th>\n",
       "      <td>3</td>\n",
       "      <td>144.4</td>\n",
       "      <td>137.03</td>\n",
       "      <td>15.00</td>\n",
       "      <td>59.495</td>\n",
       "      <td>1.399055</td>\n",
       "      <td>265.944984</td>\n",
       "      <td>-4562.95512</td>\n",
       "    </tr>\n",
       "    <tr>\n",
       "      <th>4</th>\n",
       "      <td>3</td>\n",
       "      <td>144.4</td>\n",
       "      <td>164.00</td>\n",
       "      <td>14.00</td>\n",
       "      <td>59.495</td>\n",
       "      <td>1.390981</td>\n",
       "      <td>305.673109</td>\n",
       "      <td>-4636.04173</td>\n",
       "    </tr>\n",
       "  </tbody>\n",
       "</table>\n",
       "</div>"
      ],
      "text/plain": [
       "   location   cav1    cav2   cav3     cav4      rmsd     engself      engwat\n",
       "0         3  131.0  158.00  29.44   54.000  1.328087  307.702765 -4654.30750\n",
       "1         3  144.4  137.03  37.00  101.000  1.413028  353.007717 -4696.24410\n",
       "2         3  144.4  137.03  21.00   59.495  1.413520  297.498886 -4690.79777\n",
       "3         3  144.4  137.03  15.00   59.495  1.399055  265.944984 -4562.95512\n",
       "4         3  144.4  164.00  14.00   59.495  1.390981  305.673109 -4636.04173"
      ]
     },
     "execution_count": 25,
     "metadata": {},
     "output_type": "execute_result"
    }
   ],
   "source": [
    "df=pd.read_csv('xe2xe1_0100_track_cavall4.csv',delimiter=\" \")\n",
    "df.head(5)"
   ]
  },
  {
   "cell_type": "code",
   "execution_count": 26,
   "metadata": {},
   "outputs": [],
   "source": [
    "y = df[['location']]\n",
    "x = df[['cav1','cav2','cav3','cav4','rmsd','engself','engwat']]"
   ]
  },
  {
   "cell_type": "code",
   "execution_count": 27,
   "metadata": {},
   "outputs": [],
   "source": [
    "X_train, X_test, y_train, y_test = train_test_split(x, y, test_size=0.2, random_state=77)"
   ]
  },
  {
   "cell_type": "code",
   "execution_count": 28,
   "metadata": {},
   "outputs": [
    {
     "data": {
      "text/plain": [
       "0.10740132613466036"
      ]
     },
     "execution_count": 28,
     "metadata": {},
     "output_type": "execute_result"
    }
   ],
   "source": [
    "lm = LinearRegression()\n",
    "lm.fit(X_train, y_train)\n",
    "lm.score(X_train, y_train)"
   ]
  },
  {
   "cell_type": "code",
   "execution_count": 29,
   "metadata": {},
   "outputs": [
    {
     "data": {
      "text/plain": [
       "-0.013538647735229281"
      ]
     },
     "execution_count": 29,
     "metadata": {},
     "output_type": "execute_result"
    }
   ],
   "source": [
    "lm.score(X_test, y_test)"
   ]
  },
  {
   "cell_type": "code",
   "execution_count": 30,
   "metadata": {},
   "outputs": [
    {
     "name": "stdout",
     "output_type": "stream",
     "text": [
      "The linear model is: Y = -3.6798 + 0.00073967*cav1 + 0.0052059*cav2 + 0.0083288*cav3+ 0.0021419*cav4\n"
     ]
    }
   ],
   "source": [
    "print(\"The linear model is: Y = {:.5} + {:.5}*cav1 + {:.5}*cav2 + {:.5}*cav3+ {:.5}*cav4\".format(lm.intercept_[0], lm.coef_[0][0], lm.coef_[0][1], lm.coef_[0][2], lm.coef_[0][3]))"
   ]
  },
  {
   "cell_type": "code",
   "execution_count": 32,
   "metadata": {},
   "outputs": [
    {
     "name": "stdout",
     "output_type": "stream",
     "text": [
      "                            OLS Regression Results                            \n",
      "==============================================================================\n",
      "Dep. Variable:               location   R-squared:                       0.026\n",
      "Model:                            OLS   Adj. R-squared:                  0.022\n",
      "Method:                 Least Squares   F-statistic:                     6.598\n",
      "Date:                Fri, 24 Apr 2020   Prob (F-statistic):           3.06e-05\n",
      "Time:                        17:42:50   Log-Likelihood:                -2022.3\n",
      "No. Observations:                1000   AIC:                             4055.\n",
      "Df Residuals:                     995   BIC:                             4079.\n",
      "Df Model:                           4                                         \n",
      "Covariance Type:            nonrobust                                         \n",
      "==============================================================================\n",
      "                 coef    std err          t      P>|t|      [0.025      0.975]\n",
      "------------------------------------------------------------------------------\n",
      "const          1.1834      0.396      2.986      0.003       0.406       1.961\n",
      "x1             0.0028      0.002      1.787      0.074      -0.000       0.006\n",
      "x2             0.0051      0.002      3.292      0.001       0.002       0.008\n",
      "x3             0.0207      0.006      3.313      0.001       0.008       0.033\n",
      "x4             0.0018      0.003      0.598      0.550      -0.004       0.008\n",
      "==============================================================================\n",
      "Omnibus:                      377.406   Durbin-Watson:                   1.253\n",
      "Prob(Omnibus):                  0.000   Jarque-Bera (JB):             1508.759\n",
      "Skew:                           1.776   Prob(JB):                         0.00\n",
      "Kurtosis:                       7.858   Cond. No.                     1.46e+03\n",
      "==============================================================================\n",
      "\n",
      "Warnings:\n",
      "[1] Standard Errors assume that the covariance matrix of the errors is correctly specified.\n",
      "[2] The condition number is large, 1.46e+03. This might indicate that there are\n",
      "strong multicollinearity or other numerical problems.\n"
     ]
    }
   ],
   "source": [
    "X = np.column_stack((df['cav1'], df['cav2'], df['cav3'],df['cav4']))\n",
    "y = df['location']\n",
    "X2 = sm.add_constant(X)\n",
    "est = sm.OLS(y, X2)\n",
    "est2 = est.fit()\n",
    "print(est2.summary())"
   ]
  },
  {
   "cell_type": "code",
   "execution_count": 33,
   "metadata": {},
   "outputs": [
    {
     "name": "stdout",
     "output_type": "stream",
     "text": [
      "                            OLS Regression Results                            \n",
      "==============================================================================\n",
      "Dep. Variable:               location   R-squared:                       0.026\n",
      "Model:                            OLS   Adj. R-squared:                  0.022\n",
      "Method:                 Least Squares   F-statistic:                     6.598\n",
      "Date:                Fri, 24 Apr 2020   Prob (F-statistic):           3.06e-05\n",
      "Time:                        17:42:50   Log-Likelihood:                -2022.3\n",
      "No. Observations:                1000   AIC:                             4055.\n",
      "Df Residuals:                     995   BIC:                             4079.\n",
      "Df Model:                           4                                         \n",
      "Covariance Type:            nonrobust                                         \n",
      "==============================================================================\n",
      "                 coef    std err          t      P>|t|      [0.025      0.975]\n",
      "------------------------------------------------------------------------------\n",
      "const          1.1834      0.396      2.986      0.003       0.406       1.961\n",
      "x1             0.0028      0.002      1.787      0.074      -0.000       0.006\n",
      "x2             0.0051      0.002      3.292      0.001       0.002       0.008\n",
      "x3             0.0207      0.006      3.313      0.001       0.008       0.033\n",
      "x4             0.0018      0.003      0.598      0.550      -0.004       0.008\n",
      "==============================================================================\n",
      "Omnibus:                      377.406   Durbin-Watson:                   1.253\n",
      "Prob(Omnibus):                  0.000   Jarque-Bera (JB):             1508.759\n",
      "Skew:                           1.776   Prob(JB):                         0.00\n",
      "Kurtosis:                       7.858   Cond. No.                     1.46e+03\n",
      "==============================================================================\n",
      "\n",
      "Warnings:\n",
      "[1] Standard Errors assume that the covariance matrix of the errors is correctly specified.\n",
      "[2] The condition number is large, 1.46e+03. This might indicate that there are\n",
      "strong multicollinearity or other numerical problems.\n"
     ]
    }
   ],
   "source": [
    "X = np.column_stack((df['cav1'], df['cav2'], df['cav3'],df['cav4']))\n",
    "y = df['location']\n",
    "X2 = sm.add_constant(X)\n",
    "est = sm.OLS(y, X2)\n",
    "est2 = est.fit()\n",
    "print(est2.summary())"
   ]
  },
  {
   "cell_type": "code",
   "execution_count": 34,
   "metadata": {},
   "outputs": [],
   "source": [
    "#https://towardsdatascience.com/the-complete-guide-to-linear-regression-in-python-3d3f8f06bf8"
   ]
  },
  {
   "cell_type": "code",
   "execution_count": null,
   "metadata": {},
   "outputs": [],
   "source": []
  },
  {
   "cell_type": "code",
   "execution_count": 35,
   "metadata": {},
   "outputs": [
    {
     "data": {
      "text/html": [
       "<div>\n",
       "<style scoped>\n",
       "    .dataframe tbody tr th:only-of-type {\n",
       "        vertical-align: middle;\n",
       "    }\n",
       "\n",
       "    .dataframe tbody tr th {\n",
       "        vertical-align: top;\n",
       "    }\n",
       "\n",
       "    .dataframe thead th {\n",
       "        text-align: right;\n",
       "    }\n",
       "</style>\n",
       "<table border=\"1\" class=\"dataframe\">\n",
       "  <thead>\n",
       "    <tr style=\"text-align: right;\">\n",
       "      <th></th>\n",
       "      <th>location</th>\n",
       "      <th>cav1</th>\n",
       "      <th>cav2</th>\n",
       "      <th>cav3</th>\n",
       "      <th>cav4</th>\n",
       "    </tr>\n",
       "  </thead>\n",
       "  <tbody>\n",
       "    <tr>\n",
       "      <th>0</th>\n",
       "      <td>3</td>\n",
       "      <td>131.0</td>\n",
       "      <td>158.00</td>\n",
       "      <td>29.44</td>\n",
       "      <td>54.000</td>\n",
       "    </tr>\n",
       "    <tr>\n",
       "      <th>1</th>\n",
       "      <td>3</td>\n",
       "      <td>144.4</td>\n",
       "      <td>137.03</td>\n",
       "      <td>37.00</td>\n",
       "      <td>101.000</td>\n",
       "    </tr>\n",
       "    <tr>\n",
       "      <th>2</th>\n",
       "      <td>3</td>\n",
       "      <td>144.4</td>\n",
       "      <td>137.03</td>\n",
       "      <td>21.00</td>\n",
       "      <td>59.495</td>\n",
       "    </tr>\n",
       "    <tr>\n",
       "      <th>3</th>\n",
       "      <td>3</td>\n",
       "      <td>144.4</td>\n",
       "      <td>137.03</td>\n",
       "      <td>15.00</td>\n",
       "      <td>59.495</td>\n",
       "    </tr>\n",
       "    <tr>\n",
       "      <th>4</th>\n",
       "      <td>3</td>\n",
       "      <td>144.4</td>\n",
       "      <td>164.00</td>\n",
       "      <td>14.00</td>\n",
       "      <td>59.495</td>\n",
       "    </tr>\n",
       "  </tbody>\n",
       "</table>\n",
       "</div>"
      ],
      "text/plain": [
       "   location   cav1    cav2   cav3     cav4\n",
       "0         3  131.0  158.00  29.44   54.000\n",
       "1         3  144.4  137.03  37.00  101.000\n",
       "2         3  144.4  137.03  21.00   59.495\n",
       "3         3  144.4  137.03  15.00   59.495\n",
       "4         3  144.4  164.00  14.00   59.495"
      ]
     },
     "execution_count": 35,
     "metadata": {},
     "output_type": "execute_result"
    }
   ],
   "source": [
    "df=pd.read_csv('xe2xe1_0100_track_cavall4.csv',delimiter=\" \")\n",
    "df.head(5)"
   ]
  },
  {
   "cell_type": "code",
   "execution_count": 36,
   "metadata": {},
   "outputs": [],
   "source": [
    "y = df[['location']]\n",
    "x = df[['cav1','cav2','cav3','cav4']]\n"
   ]
  },
  {
   "cell_type": "code",
   "execution_count": 37,
   "metadata": {},
   "outputs": [],
   "source": [
    "X_train, X_test, y_train, y_test = train_test_split(x, y, test_size=0.2, random_state=77)"
   ]
  },
  {
   "cell_type": "code",
   "execution_count": 38,
   "metadata": {},
   "outputs": [
    {
     "name": "stderr",
     "output_type": "stream",
     "text": [
      "/usr/local/lib/python3.5/dist-packages/sklearn/utils/validation.py:760: DataConversionWarning: A column-vector y was passed when a 1d array was expected. Please change the shape of y to (n_samples, ), for example using ravel().\n",
      "  y = column_or_1d(y, warn=True)\n"
     ]
    },
    {
     "data": {
      "text/plain": [
       "0.36875"
      ]
     },
     "execution_count": 38,
     "metadata": {},
     "output_type": "execute_result"
    }
   ],
   "source": [
    "#Train and fit Logistic Regression model.\n",
    "LoRmod=LogisticRegression(max_iter=10000)\n",
    "LoRmod.fit(X_train,y_train)\n",
    "#Score LR training\n",
    "LoRmod.score(X_train, y_train)"
   ]
  },
  {
   "cell_type": "code",
   "execution_count": 39,
   "metadata": {},
   "outputs": [
    {
     "name": "stdout",
     "output_type": "stream",
     "text": [
      "Accuracy score: 33.5\n",
      "F1 score: 12.004424906043923\n",
      "Recall score: 15.463198302064773\n",
      "Precision score: 14.757266542980826\n",
      "Confusion matrix: [[ 2  6  0 39  0  0  0]\n",
      " [ 2 15  0 41  0  0  0]\n",
      " [ 0  5  0 17  0  0  0]\n",
      " [ 2 12  0 50  0  0  0]\n",
      " [ 0  1  0  3  0  0  0]\n",
      " [ 0  0  0  2  0  0  0]\n",
      " [ 0  1  0  2  0  0  0]]\n",
      "Classification report:               precision    recall  f1-score   support\n",
      "\n",
      "           1       0.33      0.04      0.08        47\n",
      "           2       0.38      0.26      0.31        58\n",
      "           3       0.00      0.00      0.00        22\n",
      "           4       0.32      0.78      0.46        64\n",
      "           7       0.00      0.00      0.00         4\n",
      "           9       0.00      0.00      0.00         2\n",
      "          11       0.00      0.00      0.00         3\n",
      "\n",
      "    accuracy                           0.34       200\n",
      "   macro avg       0.15      0.15      0.12       200\n",
      "weighted avg       0.29      0.34      0.25       200\n",
      "\n"
     ]
    },
    {
     "name": "stderr",
     "output_type": "stream",
     "text": [
      "/usr/local/lib/python3.5/dist-packages/sklearn/metrics/_classification.py:1321: UserWarning: Note that pos_label (set to 'positive') is ignored when average != 'binary' (got 'macro'). You may use labels=[pos_label] to specify a single positive class.\n",
      "  % (pos_label, average), UserWarning)\n",
      "/usr/local/lib/python3.5/dist-packages/sklearn/metrics/_classification.py:1272: UndefinedMetricWarning: Precision is ill-defined and being set to 0.0 in labels with no predicted samples. Use `zero_division` parameter to control this behavior.\n",
      "  _warn_prf(average, modifier, msg_start, len(result))\n",
      "/usr/local/lib/python3.5/dist-packages/sklearn/metrics/_classification.py:1272: UndefinedMetricWarning: Precision and F-score are ill-defined and being set to 0.0 in labels with no predicted samples. Use `zero_division` parameter to control this behavior.\n",
      "  _warn_prf(average, modifier, msg_start, len(result))\n"
     ]
    }
   ],
   "source": [
    "#Predict from manufactured test and score\n",
    "LoRpred= LoRmod.predict(X_test)\n",
    "print('Accuracy score:', accuracy_score(y_test,LoRpred)*100)\n",
    "print('F1 score:', f1_score(y_test, LoRpred,pos_label='positive',average='macro')*100)\n",
    "print('Recall score:', recall_score(y_test, LoRpred,pos_label='positive',average='macro')*100)\n",
    "print('Precision score:', precision_score(y_test, LoRpred,pos_label='positive',average='macro')*100)\n",
    "print('Confusion matrix:', confusion_matrix(y_test, LoRpred))\n",
    "print('Classification report:', classification_report(y_test, LoRpred))"
   ]
  },
  {
   "cell_type": "code",
   "execution_count": 40,
   "metadata": {},
   "outputs": [
    {
     "data": {
      "text/html": [
       "<div>\n",
       "<style scoped>\n",
       "    .dataframe tbody tr th:only-of-type {\n",
       "        vertical-align: middle;\n",
       "    }\n",
       "\n",
       "    .dataframe tbody tr th {\n",
       "        vertical-align: top;\n",
       "    }\n",
       "\n",
       "    .dataframe thead th {\n",
       "        text-align: right;\n",
       "    }\n",
       "</style>\n",
       "<table border=\"1\" class=\"dataframe\">\n",
       "  <thead>\n",
       "    <tr style=\"text-align: right;\">\n",
       "      <th></th>\n",
       "      <th>location</th>\n",
       "      <th>cav1</th>\n",
       "      <th>cav2</th>\n",
       "      <th>cav3</th>\n",
       "      <th>cav4</th>\n",
       "    </tr>\n",
       "  </thead>\n",
       "  <tbody>\n",
       "    <tr>\n",
       "      <th>0</th>\n",
       "      <td>3</td>\n",
       "      <td>131.0</td>\n",
       "      <td>158.00</td>\n",
       "      <td>29.44</td>\n",
       "      <td>54.000</td>\n",
       "    </tr>\n",
       "    <tr>\n",
       "      <th>1</th>\n",
       "      <td>3</td>\n",
       "      <td>144.4</td>\n",
       "      <td>137.03</td>\n",
       "      <td>37.00</td>\n",
       "      <td>101.000</td>\n",
       "    </tr>\n",
       "    <tr>\n",
       "      <th>2</th>\n",
       "      <td>3</td>\n",
       "      <td>144.4</td>\n",
       "      <td>137.03</td>\n",
       "      <td>21.00</td>\n",
       "      <td>59.495</td>\n",
       "    </tr>\n",
       "    <tr>\n",
       "      <th>3</th>\n",
       "      <td>3</td>\n",
       "      <td>144.4</td>\n",
       "      <td>137.03</td>\n",
       "      <td>15.00</td>\n",
       "      <td>59.495</td>\n",
       "    </tr>\n",
       "    <tr>\n",
       "      <th>4</th>\n",
       "      <td>3</td>\n",
       "      <td>144.4</td>\n",
       "      <td>164.00</td>\n",
       "      <td>14.00</td>\n",
       "      <td>59.495</td>\n",
       "    </tr>\n",
       "  </tbody>\n",
       "</table>\n",
       "</div>"
      ],
      "text/plain": [
       "   location   cav1    cav2   cav3     cav4\n",
       "0         3  131.0  158.00  29.44   54.000\n",
       "1         3  144.4  137.03  37.00  101.000\n",
       "2         3  144.4  137.03  21.00   59.495\n",
       "3         3  144.4  137.03  15.00   59.495\n",
       "4         3  144.4  164.00  14.00   59.495"
      ]
     },
     "execution_count": 40,
     "metadata": {},
     "output_type": "execute_result"
    }
   ],
   "source": [
    "df=pd.read_csv('xe2xe1_0100_track_cavall4.csv',delimiter=\" \")\n",
    "df.head(5)"
   ]
  },
  {
   "cell_type": "code",
   "execution_count": 99,
   "metadata": {},
   "outputs": [],
   "source": [
    "y = df[['location']]\n",
    "x = df[['cav1','cav2','cav3','cav4','rmsd','engself','engwat']]\n"
   ]
  },
  {
   "cell_type": "code",
   "execution_count": 27,
   "metadata": {},
   "outputs": [],
   "source": [
    "cav1mean=x['cav1'].mean()"
   ]
  },
  {
   "cell_type": "code",
   "execution_count": 100,
   "metadata": {},
   "outputs": [
    {
     "name": "stderr",
     "output_type": "stream",
     "text": [
      "/home/alia/.local/lib/python3.5/site-packages/ipykernel_launcher.py:1: SettingWithCopyWarning: \n",
      "A value is trying to be set on a copy of a slice from a DataFrame.\n",
      "Try using .loc[row_indexer,col_indexer] = value instead\n",
      "\n",
      "See the caveats in the documentation: http://pandas.pydata.org/pandas-docs/stable/indexing.html#indexing-view-versus-copy\n",
      "  \"\"\"Entry point for launching an IPython kernel.\n",
      "/home/alia/.local/lib/python3.5/site-packages/ipykernel_launcher.py:2: SettingWithCopyWarning: \n",
      "A value is trying to be set on a copy of a slice from a DataFrame.\n",
      "Try using .loc[row_indexer,col_indexer] = value instead\n",
      "\n",
      "See the caveats in the documentation: http://pandas.pydata.org/pandas-docs/stable/indexing.html#indexing-view-versus-copy\n",
      "  \n",
      "/home/alia/.local/lib/python3.5/site-packages/ipykernel_launcher.py:3: SettingWithCopyWarning: \n",
      "A value is trying to be set on a copy of a slice from a DataFrame.\n",
      "Try using .loc[row_indexer,col_indexer] = value instead\n",
      "\n",
      "See the caveats in the documentation: http://pandas.pydata.org/pandas-docs/stable/indexing.html#indexing-view-versus-copy\n",
      "  This is separate from the ipykernel package so we can avoid doing imports until\n",
      "/home/alia/.local/lib/python3.5/site-packages/ipykernel_launcher.py:4: SettingWithCopyWarning: \n",
      "A value is trying to be set on a copy of a slice from a DataFrame.\n",
      "Try using .loc[row_indexer,col_indexer] = value instead\n",
      "\n",
      "See the caveats in the documentation: http://pandas.pydata.org/pandas-docs/stable/indexing.html#indexing-view-versus-copy\n",
      "  after removing the cwd from sys.path.\n",
      "/home/alia/.local/lib/python3.5/site-packages/ipykernel_launcher.py:5: SettingWithCopyWarning: \n",
      "A value is trying to be set on a copy of a slice from a DataFrame.\n",
      "Try using .loc[row_indexer,col_indexer] = value instead\n",
      "\n",
      "See the caveats in the documentation: http://pandas.pydata.org/pandas-docs/stable/indexing.html#indexing-view-versus-copy\n",
      "  \"\"\"\n"
     ]
    }
   ],
   "source": [
    "x['cav1']=abs(df['cav1']-df['cav1'].mean())/df['cav1'].std().round(4)\n",
    "x['cav2']=abs(df['cav2']-df['cav2'].mean())/df['cav2'].std().round(4)\n",
    "x['cav3']=abs(df['cav3']-df['cav3'].mean())/df['cav3'].std().round(4)\n",
    "x['cav4']=abs(df['cav4']-df['cav4'].mean())/df['cav4'].std().round(4)\n",
    "x['cav4']=abs(df['rmsd']-df['rmsd'].mean())/df['rmsd'].std()"
   ]
  },
  {
   "cell_type": "code",
   "execution_count": 98,
   "metadata": {},
   "outputs": [
    {
     "data": {
      "text/html": [
       "<div>\n",
       "<style scoped>\n",
       "    .dataframe tbody tr th:only-of-type {\n",
       "        vertical-align: middle;\n",
       "    }\n",
       "\n",
       "    .dataframe tbody tr th {\n",
       "        vertical-align: top;\n",
       "    }\n",
       "\n",
       "    .dataframe thead th {\n",
       "        text-align: right;\n",
       "    }\n",
       "</style>\n",
       "<table border=\"1\" class=\"dataframe\">\n",
       "  <thead>\n",
       "    <tr style=\"text-align: right;\">\n",
       "      <th></th>\n",
       "      <th>cav1</th>\n",
       "      <th>cav2</th>\n",
       "      <th>cav3</th>\n",
       "      <th>cav4</th>\n",
       "      <th>rmsd</th>\n",
       "      <th>engself</th>\n",
       "      <th>engwat</th>\n",
       "    </tr>\n",
       "  </thead>\n",
       "  <tbody>\n",
       "    <tr>\n",
       "      <th>0</th>\n",
       "      <td>0.3958</td>\n",
       "      <td>0.553400</td>\n",
       "      <td>0.000147</td>\n",
       "      <td>0.283810</td>\n",
       "      <td>1.328087</td>\n",
       "      <td>307.702765</td>\n",
       "      <td>-4654.30750</td>\n",
       "    </tr>\n",
       "    <tr>\n",
       "      <th>1</th>\n",
       "      <td>0.0301</td>\n",
       "      <td>0.000017</td>\n",
       "      <td>0.815184</td>\n",
       "      <td>2.143653</td>\n",
       "      <td>1.413028</td>\n",
       "      <td>353.007717</td>\n",
       "      <td>-4696.24410</td>\n",
       "    </tr>\n",
       "    <tr>\n",
       "      <th>2</th>\n",
       "      <td>0.0301</td>\n",
       "      <td>0.000017</td>\n",
       "      <td>0.910383</td>\n",
       "      <td>0.000004</td>\n",
       "      <td>1.413520</td>\n",
       "      <td>297.498886</td>\n",
       "      <td>-4690.79777</td>\n",
       "    </tr>\n",
       "    <tr>\n",
       "      <th>3</th>\n",
       "      <td>0.0301</td>\n",
       "      <td>0.000017</td>\n",
       "      <td>1.557471</td>\n",
       "      <td>0.000004</td>\n",
       "      <td>1.399055</td>\n",
       "      <td>265.944984</td>\n",
       "      <td>-4562.95512</td>\n",
       "    </tr>\n",
       "    <tr>\n",
       "      <th>4</th>\n",
       "      <td>0.0301</td>\n",
       "      <td>0.711745</td>\n",
       "      <td>1.665318</td>\n",
       "      <td>0.000004</td>\n",
       "      <td>1.390981</td>\n",
       "      <td>305.673109</td>\n",
       "      <td>-4636.04173</td>\n",
       "    </tr>\n",
       "  </tbody>\n",
       "</table>\n",
       "</div>"
      ],
      "text/plain": [
       "     cav1      cav2      cav3      cav4      rmsd     engself      engwat\n",
       "0  0.3958  0.553400  0.000147  0.283810  1.328087  307.702765 -4654.30750\n",
       "1  0.0301  0.000017  0.815184  2.143653  1.413028  353.007717 -4696.24410\n",
       "2  0.0301  0.000017  0.910383  0.000004  1.413520  297.498886 -4690.79777\n",
       "3  0.0301  0.000017  1.557471  0.000004  1.399055  265.944984 -4562.95512\n",
       "4  0.0301  0.711745  1.665318  0.000004  1.390981  305.673109 -4636.04173"
      ]
     },
     "execution_count": 98,
     "metadata": {},
     "output_type": "execute_result"
    }
   ],
   "source": [
    "x.head(5)"
   ]
  },
  {
   "cell_type": "code",
   "execution_count": 32,
   "metadata": {},
   "outputs": [],
   "source": [
    "X_train, X_test, y_train, y_test = train_test_split(x, y, test_size=0.2, random_state=77)"
   ]
  },
  {
   "cell_type": "code",
   "execution_count": 33,
   "metadata": {},
   "outputs": [
    {
     "name": "stderr",
     "output_type": "stream",
     "text": [
      "/usr/local/lib/python3.5/dist-packages/sklearn/utils/validation.py:760: DataConversionWarning: A column-vector y was passed when a 1d array was expected. Please change the shape of y to (n_samples, ), for example using ravel().\n",
      "  y = column_or_1d(y, warn=True)\n",
      "/usr/local/lib/python3.5/dist-packages/sklearn/linear_model/_logistic.py:940: ConvergenceWarning: lbfgs failed to converge (status=1):\n",
      "STOP: TOTAL NO. of ITERATIONS REACHED LIMIT.\n",
      "\n",
      "Increase the number of iterations (max_iter) or scale the data as shown in:\n",
      "    https://scikit-learn.org/stable/modules/preprocessing.html\n",
      "Please also refer to the documentation for alternative solver options:\n",
      "    https://scikit-learn.org/stable/modules/linear_model.html#logistic-regression\n",
      "  extra_warning_msg=_LOGISTIC_SOLVER_CONVERGENCE_MSG)\n"
     ]
    },
    {
     "data": {
      "text/plain": [
       "0.4"
      ]
     },
     "execution_count": 33,
     "metadata": {},
     "output_type": "execute_result"
    }
   ],
   "source": [
    "#Train and fit Logistic Regression model.\n",
    "LoRmod=LogisticRegression(max_iter=10000)\n",
    "LoRmod.fit(X_train,y_train)\n",
    "#Score LR training\n",
    "LoRmod.score(X_train, y_train)"
   ]
  },
  {
   "cell_type": "code",
   "execution_count": 34,
   "metadata": {},
   "outputs": [
    {
     "name": "stdout",
     "output_type": "stream",
     "text": [
      "Accuracy score: 36.0\n",
      "F1 score: 14.905247307993303\n",
      "Recall score: 17.132965622052197\n",
      "Precision score: 15.355279640993928\n",
      "Confusion matrix: [[ 8 11  0 28  0  0  0]\n",
      " [ 4 18  0 36  0  0  0]\n",
      " [ 2 10  0 10  0  0  0]\n",
      " [ 8 10  0 46  0  0  0]\n",
      " [ 0  1  0  3  0  0  0]\n",
      " [ 0  0  0  2  0  0  0]\n",
      " [ 0  2  0  1  0  0  0]]\n",
      "Classification report:               precision    recall  f1-score   support\n",
      "\n",
      "           1       0.36      0.17      0.23        47\n",
      "           2       0.35      0.31      0.33        58\n",
      "           3       0.00      0.00      0.00        22\n",
      "           4       0.37      0.72      0.48        64\n",
      "           7       0.00      0.00      0.00         4\n",
      "           9       0.00      0.00      0.00         2\n",
      "          11       0.00      0.00      0.00         3\n",
      "\n",
      "    accuracy                           0.36       200\n",
      "   macro avg       0.15      0.17      0.15       200\n",
      "weighted avg       0.30      0.36      0.30       200\n",
      "\n"
     ]
    },
    {
     "name": "stderr",
     "output_type": "stream",
     "text": [
      "/usr/local/lib/python3.5/dist-packages/sklearn/metrics/_classification.py:1321: UserWarning: Note that pos_label (set to 'positive') is ignored when average != 'binary' (got 'macro'). You may use labels=[pos_label] to specify a single positive class.\n",
      "  % (pos_label, average), UserWarning)\n",
      "/usr/local/lib/python3.5/dist-packages/sklearn/metrics/_classification.py:1272: UndefinedMetricWarning: Precision is ill-defined and being set to 0.0 in labels with no predicted samples. Use `zero_division` parameter to control this behavior.\n",
      "  _warn_prf(average, modifier, msg_start, len(result))\n",
      "/usr/local/lib/python3.5/dist-packages/sklearn/metrics/_classification.py:1272: UndefinedMetricWarning: Precision and F-score are ill-defined and being set to 0.0 in labels with no predicted samples. Use `zero_division` parameter to control this behavior.\n",
      "  _warn_prf(average, modifier, msg_start, len(result))\n"
     ]
    }
   ],
   "source": [
    "#Predict from manufactured test and score\n",
    "LoRpred= LoRmod.predict(X_test)\n",
    "print('Accuracy score:', accuracy_score(y_test,LoRpred)*100)\n",
    "print('F1 score:', f1_score(y_test, LoRpred,pos_label='positive',average='macro')*100)\n",
    "print('Recall score:', recall_score(y_test, LoRpred,pos_label='positive',average='macro')*100)\n",
    "print('Precision score:', precision_score(y_test, LoRpred,pos_label='positive',average='macro')*100)\n",
    "print('Confusion matrix:', confusion_matrix(y_test, LoRpred))\n",
    "print('Classification report:', classification_report(y_test, LoRpred))"
   ]
  },
  {
   "cell_type": "code",
   "execution_count": 35,
   "metadata": {},
   "outputs": [
    {
     "name": "stderr",
     "output_type": "stream",
     "text": [
      "/home/alia/.local/lib/python3.5/site-packages/ipykernel_launcher.py:4: DataConversionWarning: A column-vector y was passed when a 1d array was expected. Please change the shape of y to (n_samples, ), for example using ravel().\n",
      "  after removing the cwd from sys.path.\n",
      "/home/alia/.local/lib/python3.5/site-packages/ipykernel_launcher.py:4: DataConversionWarning: A column-vector y was passed when a 1d array was expected. Please change the shape of y to (n_samples, ), for example using ravel().\n",
      "  after removing the cwd from sys.path.\n",
      "/home/alia/.local/lib/python3.5/site-packages/ipykernel_launcher.py:4: DataConversionWarning: A column-vector y was passed when a 1d array was expected. Please change the shape of y to (n_samples, ), for example using ravel().\n",
      "  after removing the cwd from sys.path.\n",
      "/home/alia/.local/lib/python3.5/site-packages/ipykernel_launcher.py:4: DataConversionWarning: A column-vector y was passed when a 1d array was expected. Please change the shape of y to (n_samples, ), for example using ravel().\n",
      "  after removing the cwd from sys.path.\n",
      "/home/alia/.local/lib/python3.5/site-packages/ipykernel_launcher.py:4: DataConversionWarning: A column-vector y was passed when a 1d array was expected. Please change the shape of y to (n_samples, ), for example using ravel().\n",
      "  after removing the cwd from sys.path.\n",
      "/home/alia/.local/lib/python3.5/site-packages/ipykernel_launcher.py:4: DataConversionWarning: A column-vector y was passed when a 1d array was expected. Please change the shape of y to (n_samples, ), for example using ravel().\n",
      "  after removing the cwd from sys.path.\n",
      "/home/alia/.local/lib/python3.5/site-packages/ipykernel_launcher.py:4: DataConversionWarning: A column-vector y was passed when a 1d array was expected. Please change the shape of y to (n_samples, ), for example using ravel().\n",
      "  after removing the cwd from sys.path.\n",
      "/home/alia/.local/lib/python3.5/site-packages/ipykernel_launcher.py:4: DataConversionWarning: A column-vector y was passed when a 1d array was expected. Please change the shape of y to (n_samples, ), for example using ravel().\n",
      "  after removing the cwd from sys.path.\n",
      "/home/alia/.local/lib/python3.5/site-packages/ipykernel_launcher.py:4: DataConversionWarning: A column-vector y was passed when a 1d array was expected. Please change the shape of y to (n_samples, ), for example using ravel().\n",
      "  after removing the cwd from sys.path.\n",
      "/home/alia/.local/lib/python3.5/site-packages/ipykernel_launcher.py:4: DataConversionWarning: A column-vector y was passed when a 1d array was expected. Please change the shape of y to (n_samples, ), for example using ravel().\n",
      "  after removing the cwd from sys.path.\n",
      "/home/alia/.local/lib/python3.5/site-packages/ipykernel_launcher.py:4: DataConversionWarning: A column-vector y was passed when a 1d array was expected. Please change the shape of y to (n_samples, ), for example using ravel().\n",
      "  after removing the cwd from sys.path.\n",
      "/home/alia/.local/lib/python3.5/site-packages/ipykernel_launcher.py:4: DataConversionWarning: A column-vector y was passed when a 1d array was expected. Please change the shape of y to (n_samples, ), for example using ravel().\n",
      "  after removing the cwd from sys.path.\n",
      "/home/alia/.local/lib/python3.5/site-packages/ipykernel_launcher.py:4: DataConversionWarning: A column-vector y was passed when a 1d array was expected. Please change the shape of y to (n_samples, ), for example using ravel().\n",
      "  after removing the cwd from sys.path.\n",
      "/home/alia/.local/lib/python3.5/site-packages/ipykernel_launcher.py:4: DataConversionWarning: A column-vector y was passed when a 1d array was expected. Please change the shape of y to (n_samples, ), for example using ravel().\n",
      "  after removing the cwd from sys.path.\n",
      "/home/alia/.local/lib/python3.5/site-packages/ipykernel_launcher.py:4: DataConversionWarning: A column-vector y was passed when a 1d array was expected. Please change the shape of y to (n_samples, ), for example using ravel().\n",
      "  after removing the cwd from sys.path.\n",
      "/home/alia/.local/lib/python3.5/site-packages/ipykernel_launcher.py:4: DataConversionWarning: A column-vector y was passed when a 1d array was expected. Please change the shape of y to (n_samples, ), for example using ravel().\n",
      "  after removing the cwd from sys.path.\n",
      "/home/alia/.local/lib/python3.5/site-packages/ipykernel_launcher.py:4: DataConversionWarning: A column-vector y was passed when a 1d array was expected. Please change the shape of y to (n_samples, ), for example using ravel().\n",
      "  after removing the cwd from sys.path.\n",
      "/home/alia/.local/lib/python3.5/site-packages/ipykernel_launcher.py:4: DataConversionWarning: A column-vector y was passed when a 1d array was expected. Please change the shape of y to (n_samples, ), for example using ravel().\n",
      "  after removing the cwd from sys.path.\n",
      "/home/alia/.local/lib/python3.5/site-packages/ipykernel_launcher.py:4: DataConversionWarning: A column-vector y was passed when a 1d array was expected. Please change the shape of y to (n_samples, ), for example using ravel().\n",
      "  after removing the cwd from sys.path.\n"
     ]
    }
   ],
   "source": [
    "k_list=[]\n",
    "for i in range(1,20):\n",
    "  classifier=KNeighborsClassifier(n_neighbors=i)\n",
    "  classifier.fit(X_train,y_train)\n",
    "  k_list.append(classifier.score(X_test,y_test))"
   ]
  },
  {
   "cell_type": "code",
   "execution_count": 36,
   "metadata": {},
   "outputs": [
    {
     "data": {
      "image/png": "[encoded data removed]",
      "text/plain": [
       "<Figure size 432x288 with 1 Axes>"
      ]
     },
     "metadata": {
      "needs_background": "light"
     },
     "output_type": "display_data"
    }
   ],
   "source": [
    "plt.plot(range(1,20),k_list)\n",
    "plt.ylabel('Validation acc')\n",
    "plt.title('nice')\n",
    "plt.show()"
   ]
  },
  {
   "cell_type": "code",
   "execution_count": 37,
   "metadata": {},
   "outputs": [
    {
     "name": "stderr",
     "output_type": "stream",
     "text": [
      "/home/alia/.local/lib/python3.5/site-packages/ipykernel_launcher.py:2: DataConversionWarning: A column-vector y was passed when a 1d array was expected. Please change the shape of y to (n_samples, ), for example using ravel().\n",
      "  \n"
     ]
    },
    {
     "data": {
      "text/plain": [
       "0.48375"
      ]
     },
     "execution_count": 37,
     "metadata": {},
     "output_type": "execute_result"
    }
   ],
   "source": [
    "KNNmod=KNeighborsClassifier(n_neighbors=15)\n",
    "KNNmod.fit(X_train,y_train)\n",
    "#Score RF fit.\n",
    "KNNmod.score(X_train, y_train)"
   ]
  },
  {
   "cell_type": "code",
   "execution_count": 38,
   "metadata": {},
   "outputs": [
    {
     "name": "stdout",
     "output_type": "stream",
     "text": [
      "Accuracy score: 35.5\n",
      "F1 score: 17.376043143029538\n",
      "Recall score: 18.22415936961058\n",
      "Precision score: 22.149844781525278\n",
      "Confusion matrix: [[17 14  1 15  0  0  0]\n",
      " [14 25  0 19  0  0  0]\n",
      " [ 4  9  1  8  0  0  0]\n",
      " [18 18  0 28  0  0  0]\n",
      " [ 0  1  0  3  0  0  0]\n",
      " [ 0  2  0  0  0  0  0]\n",
      " [ 1  2  0  0  0  0  0]]\n",
      "Classification report:               precision    recall  f1-score   support\n",
      "\n",
      "           1       0.31      0.36      0.34        47\n",
      "           2       0.35      0.43      0.39        58\n",
      "           3       0.50      0.05      0.08        22\n",
      "           4       0.38      0.44      0.41        64\n",
      "           7       0.00      0.00      0.00         4\n",
      "           9       0.00      0.00      0.00         2\n",
      "          11       0.00      0.00      0.00         3\n",
      "\n",
      "    accuracy                           0.36       200\n",
      "   macro avg       0.22      0.18      0.17       200\n",
      "weighted avg       0.35      0.35      0.33       200\n",
      "\n"
     ]
    },
    {
     "name": "stderr",
     "output_type": "stream",
     "text": [
      "/usr/local/lib/python3.5/dist-packages/sklearn/metrics/_classification.py:1321: UserWarning: Note that pos_label (set to 'positive') is ignored when average != 'binary' (got 'macro'). You may use labels=[pos_label] to specify a single positive class.\n",
      "  % (pos_label, average), UserWarning)\n",
      "/usr/local/lib/python3.5/dist-packages/sklearn/metrics/_classification.py:1272: UndefinedMetricWarning: Precision is ill-defined and being set to 0.0 in labels with no predicted samples. Use `zero_division` parameter to control this behavior.\n",
      "  _warn_prf(average, modifier, msg_start, len(result))\n",
      "/usr/local/lib/python3.5/dist-packages/sklearn/metrics/_classification.py:1272: UndefinedMetricWarning: Precision and F-score are ill-defined and being set to 0.0 in labels with no predicted samples. Use `zero_division` parameter to control this behavior.\n",
      "  _warn_prf(average, modifier, msg_start, len(result))\n"
     ]
    }
   ],
   "source": [
    "#Predict from manufactured test and score\n",
    "KNNpred = KNNmod.predict(X_test)\n",
    "print('Accuracy score:', accuracy_score(y_test,KNNpred)*100)\n",
    "print('F1 score:', f1_score(y_test, KNNpred,pos_label='positive',average='macro')*100)\n",
    "print('Recall score:', recall_score(y_test, KNNpred,pos_label='positive',average='macro')*100)\n",
    "print('Precision score:', precision_score(y_test, KNNpred,pos_label='positive',average='macro')*100)\n",
    "print('Confusion matrix:', confusion_matrix(y_test, KNNpred))\n",
    "print('Classification report:', classification_report(y_test, KNNpred))"
   ]
  },
  {
   "cell_type": "code",
   "execution_count": 39,
   "metadata": {},
   "outputs": [
    {
     "name": "stderr",
     "output_type": "stream",
     "text": [
      "/usr/local/lib/python3.5/dist-packages/sklearn/utils/validation.py:760: DataConversionWarning: A column-vector y was passed when a 1d array was expected. Please change the shape of y to (n_samples, ), for example using ravel().\n",
      "  y = column_or_1d(y, warn=True)\n",
      "/usr/local/lib/python3.5/dist-packages/sklearn/utils/validation.py:760: DataConversionWarning: A column-vector y was passed when a 1d array was expected. Please change the shape of y to (n_samples, ), for example using ravel().\n",
      "  y = column_or_1d(y, warn=True)\n",
      "/usr/local/lib/python3.5/dist-packages/sklearn/utils/validation.py:760: DataConversionWarning: A column-vector y was passed when a 1d array was expected. Please change the shape of y to (n_samples, ), for example using ravel().\n",
      "  y = column_or_1d(y, warn=True)\n",
      "/usr/local/lib/python3.5/dist-packages/sklearn/utils/validation.py:760: DataConversionWarning: A column-vector y was passed when a 1d array was expected. Please change the shape of y to (n_samples, ), for example using ravel().\n",
      "  y = column_or_1d(y, warn=True)\n",
      "/usr/local/lib/python3.5/dist-packages/sklearn/utils/validation.py:760: DataConversionWarning: A column-vector y was passed when a 1d array was expected. Please change the shape of y to (n_samples, ), for example using ravel().\n",
      "  y = column_or_1d(y, warn=True)\n",
      "/usr/local/lib/python3.5/dist-packages/sklearn/utils/validation.py:760: DataConversionWarning: A column-vector y was passed when a 1d array was expected. Please change the shape of y to (n_samples, ), for example using ravel().\n",
      "  y = column_or_1d(y, warn=True)\n",
      "/usr/local/lib/python3.5/dist-packages/sklearn/utils/validation.py:760: DataConversionWarning: A column-vector y was passed when a 1d array was expected. Please change the shape of y to (n_samples, ), for example using ravel().\n",
      "  y = column_or_1d(y, warn=True)\n",
      "/usr/local/lib/python3.5/dist-packages/sklearn/utils/validation.py:760: DataConversionWarning: A column-vector y was passed when a 1d array was expected. Please change the shape of y to (n_samples, ), for example using ravel().\n",
      "  y = column_or_1d(y, warn=True)\n"
     ]
    },
    {
     "name": "stdout",
     "output_type": "stream",
     "text": [
      "[0.32, 0.32, 0.32, 0.32, 0.32, 0.32, 0.32, 0.32, 0.32]\n"
     ]
    },
    {
     "name": "stderr",
     "output_type": "stream",
     "text": [
      "/usr/local/lib/python3.5/dist-packages/sklearn/utils/validation.py:760: DataConversionWarning: A column-vector y was passed when a 1d array was expected. Please change the shape of y to (n_samples, ), for example using ravel().\n",
      "  y = column_or_1d(y, warn=True)\n"
     ]
    }
   ],
   "source": [
    "#SVCmod=SVC(kernel='rbf',gamma=0.1)\n",
    "gamma_list=[]\n",
    "for i in range(1,10):\n",
    "  classifier=SVC(kernel='rbf',gamma=(float(i)/10))\n",
    "  classifier.fit(X_train,y_train)\n",
    "  gamma_list.append(classifier.score(X_test,y_test))\n",
    "print(gamma_list)"
   ]
  },
  {
   "cell_type": "code",
   "execution_count": 40,
   "metadata": {},
   "outputs": [
    {
     "data": {
      "image/png": "[encoded data removed]",
      "text/plain": [
       "<Figure size 432x288 with 1 Axes>"
      ]
     },
     "metadata": {
      "needs_background": "light"
     },
     "output_type": "display_data"
    }
   ],
   "source": [
    "plt.plot(range(1,10),gamma_list)\n",
    "plt.ylabel('Validation acc')\n",
    "plt.title('nice')\n",
    "plt.show()"
   ]
  },
  {
   "cell_type": "code",
   "execution_count": 41,
   "metadata": {},
   "outputs": [
    {
     "name": "stderr",
     "output_type": "stream",
     "text": [
      "/usr/local/lib/python3.5/dist-packages/sklearn/utils/validation.py:760: DataConversionWarning: A column-vector y was passed when a 1d array was expected. Please change the shape of y to (n_samples, ), for example using ravel().\n",
      "  y = column_or_1d(y, warn=True)\n"
     ]
    },
    {
     "data": {
      "text/plain": [
       "0.4325"
      ]
     },
     "execution_count": 41,
     "metadata": {},
     "output_type": "execute_result"
    }
   ],
   "source": [
    "SVCmod=SVC(kernel='linear',gamma=0.1)\n",
    "SVCmod.fit(X_train,y_train)\n",
    "#Score DT fit.\n",
    "SVCmod.score(X_train, y_train)"
   ]
  },
  {
   "cell_type": "code",
   "execution_count": 42,
   "metadata": {},
   "outputs": [
    {
     "name": "stdout",
     "output_type": "stream",
     "text": [
      "Accuracy score: 37.0\n",
      "F1 score: 15.383367712134838\n",
      "Recall score: 17.62557645949062\n",
      "Precision score: 15.217372678779197\n",
      "Confusion matrix: [[ 8 11  0 28  0  0  0]\n",
      " [ 9 20  0 29  0  0  0]\n",
      " [ 3  7  0 12  0  0  0]\n",
      " [ 4 14  0 46  0  0  0]\n",
      " [ 1  0  0  3  0  0  0]\n",
      " [ 0  0  0  2  0  0  0]\n",
      " [ 1  1  0  1  0  0  0]]\n",
      "Classification report:               precision    recall  f1-score   support\n",
      "\n",
      "           1       0.31      0.17      0.22        47\n",
      "           2       0.38      0.34      0.36        58\n",
      "           3       0.00      0.00      0.00        22\n",
      "           4       0.38      0.72      0.50        64\n",
      "           7       0.00      0.00      0.00         4\n",
      "           9       0.00      0.00      0.00         2\n",
      "          11       0.00      0.00      0.00         3\n",
      "\n",
      "    accuracy                           0.37       200\n",
      "   macro avg       0.15      0.18      0.15       200\n",
      "weighted avg       0.30      0.37      0.32       200\n",
      "\n"
     ]
    },
    {
     "name": "stderr",
     "output_type": "stream",
     "text": [
      "/usr/local/lib/python3.5/dist-packages/sklearn/metrics/_classification.py:1321: UserWarning: Note that pos_label (set to 'positive') is ignored when average != 'binary' (got 'macro'). You may use labels=[pos_label] to specify a single positive class.\n",
      "  % (pos_label, average), UserWarning)\n",
      "/usr/local/lib/python3.5/dist-packages/sklearn/metrics/_classification.py:1272: UndefinedMetricWarning: Precision is ill-defined and being set to 0.0 in labels with no predicted samples. Use `zero_division` parameter to control this behavior.\n",
      "  _warn_prf(average, modifier, msg_start, len(result))\n",
      "/usr/local/lib/python3.5/dist-packages/sklearn/metrics/_classification.py:1272: UndefinedMetricWarning: Precision and F-score are ill-defined and being set to 0.0 in labels with no predicted samples. Use `zero_division` parameter to control this behavior.\n",
      "  _warn_prf(average, modifier, msg_start, len(result))\n"
     ]
    }
   ],
   "source": [
    "#Predict from manufactured test and score\n",
    "SVCpred = SVCmod.predict(X_test)\n",
    "print('Accuracy score:', accuracy_score(y_test,SVCpred)*100)\n",
    "print('F1 score:', f1_score(y_test, SVCpred,pos_label='positive',average='macro')*100)\n",
    "print('Recall score:', recall_score(y_test, SVCpred,pos_label='positive',average='macro')*100)\n",
    "print('Precision score:', precision_score(y_test, SVCpred,pos_label='positive',average='macro')*100)\n",
    "print('Confusion matrix:', confusion_matrix(y_test, SVCpred))\n",
    "print('Classification report:', classification_report(y_test, SVCpred))"
   ]
  },
  {
   "cell_type": "code",
   "execution_count": 43,
   "metadata": {},
   "outputs": [
    {
     "data": {
      "text/plain": [
       "0.745"
      ]
     },
     "execution_count": 43,
     "metadata": {},
     "output_type": "execute_result"
    }
   ],
   "source": [
    "DTmod=DecisionTreeClassifier(criterion='gini', random_state = 77,max_depth=10)\n",
    "DTmod.fit(X_train,y_train)\n",
    "#Score DT fit.\n",
    "DTmod.score(X_train, y_train)"
   ]
  },
  {
   "cell_type": "code",
   "execution_count": 44,
   "metadata": {},
   "outputs": [
    {
     "name": "stdout",
     "output_type": "stream",
     "text": [
      "Accuracy score: 38.5\n",
      "F1 score: 17.890619898458926\n",
      "Recall score: 18.075687925198423\n",
      "Precision score: 17.813126671122994\n",
      "Confusion matrix: [[20 12  4 11  0  0  0  0]\n",
      " [13 25  5 14  1  0  0  0]\n",
      " [ 6  7  3  6  0  0  0  0]\n",
      " [ 8 19  4 29  0  1  3  0]\n",
      " [ 0  0  0  0  0  0  0  0]\n",
      " [ 1  0  0  3  0  0  0  0]\n",
      " [ 0  2  0  0  0  0  0  0]\n",
      " [ 0  1  1  1  0  0  0  0]]\n",
      "Classification report:               precision    recall  f1-score   support\n",
      "\n",
      "           1       0.42      0.43      0.42        47\n",
      "           2       0.38      0.43      0.40        58\n",
      "           3       0.18      0.14      0.15        22\n",
      "           4       0.45      0.45      0.45        64\n",
      "           6       0.00      0.00      0.00         0\n",
      "           7       0.00      0.00      0.00         4\n",
      "           9       0.00      0.00      0.00         2\n",
      "          11       0.00      0.00      0.00         3\n",
      "\n",
      "    accuracy                           0.38       200\n",
      "   macro avg       0.18      0.18      0.18       200\n",
      "weighted avg       0.37      0.39      0.38       200\n",
      "\n"
     ]
    },
    {
     "name": "stderr",
     "output_type": "stream",
     "text": [
      "/usr/local/lib/python3.5/dist-packages/sklearn/metrics/_classification.py:1321: UserWarning: Note that pos_label (set to 'positive') is ignored when average != 'binary' (got 'macro'). You may use labels=[pos_label] to specify a single positive class.\n",
      "  % (pos_label, average), UserWarning)\n",
      "/usr/local/lib/python3.5/dist-packages/sklearn/metrics/_classification.py:1272: UndefinedMetricWarning: Recall is ill-defined and being set to 0.0 in labels with no true samples. Use `zero_division` parameter to control this behavior.\n",
      "  _warn_prf(average, modifier, msg_start, len(result))\n",
      "/usr/local/lib/python3.5/dist-packages/sklearn/metrics/_classification.py:1272: UndefinedMetricWarning: Precision is ill-defined and being set to 0.0 in labels with no predicted samples. Use `zero_division` parameter to control this behavior.\n",
      "  _warn_prf(average, modifier, msg_start, len(result))\n",
      "/usr/local/lib/python3.5/dist-packages/sklearn/metrics/_classification.py:1272: UndefinedMetricWarning: Precision and F-score are ill-defined and being set to 0.0 in labels with no predicted samples. Use `zero_division` parameter to control this behavior.\n",
      "  _warn_prf(average, modifier, msg_start, len(result))\n",
      "/usr/local/lib/python3.5/dist-packages/sklearn/metrics/_classification.py:1272: UndefinedMetricWarning: Recall and F-score are ill-defined and being set to 0.0 in labels with no true samples. Use `zero_division` parameter to control this behavior.\n",
      "  _warn_prf(average, modifier, msg_start, len(result))\n"
     ]
    }
   ],
   "source": [
    "#Predict from manufactured test and score\n",
    "DTpred = DTmod.predict(X_test)\n",
    "print('Accuracy score:', accuracy_score(y_test,DTpred)*100)\n",
    "print('F1 score:', f1_score(y_test, DTpred,pos_label='positive',average='macro')*100)\n",
    "print('Recall score:', recall_score(y_test, DTpred,pos_label='positive',average='macro')*100)\n",
    "print('Precision score:', precision_score(y_test, DTpred,pos_label='positive',average='macro')*100)\n",
    "print('Confusion matrix:', confusion_matrix(y_test, DTpred))\n",
    "print('Classification report:', classification_report(y_test, DTpred))"
   ]
  },
  {
   "cell_type": "code",
   "execution_count": 49,
   "metadata": {},
   "outputs": [
    {
     "data": {
      "image/png": "[encoded data removed]",
      "text/plain": [
       "<Figure size 432x288 with 1 Axes>"
      ]
     },
     "metadata": {
      "needs_background": "light"
     },
     "output_type": "display_data"
    },
    {
     "name": "stdout",
     "output_type": "stream",
     "text": [
      "['cav1', 'cav2', 'cav3', 'cav4', 'rmsd', 'engself', 'engwat']\n"
     ]
    }
   ],
   "source": [
    "featurelist=list(df.columns[1:])\n",
    "plt.bar(range(len(DTmod.feature_importances_)), DTmod.feature_importances_)\n",
    "plt.xlabel(\"feature\",fontsize=14)\n",
    "plt.ylabel(\"importance\",fontsize=14)\n",
    "plt.title(\"feature importance\", fontsize=18)\n",
    "plt.xticks(range(len(DTmod.feature_importances_)), featurelist,rotation='vertical')\n",
    "plt.show()\n",
    "print(featurelist)"
   ]
  },
  {
   "cell_type": "code",
   "execution_count": null,
   "metadata": {},
   "outputs": [],
   "source": [
    "#Train and fit Random Forest model.\n",
    "RFmod=RandomForestClassifier(n_estimators=100,random_state=77)\n",
    "RFmod.fit(X_train,y_train)\n",
    "#Score RF fit.\n",
    "RFmod.score(X_train, y_train)"
   ]
  },
  {
   "cell_type": "code",
   "execution_count": 62,
   "metadata": {},
   "outputs": [
    {
     "name": "stdout",
     "output_type": "stream",
     "text": [
      "Accuracy score: 43.5\n",
      "F1 score: 23.23971324242621\n",
      "Recall score: 23.546792074396624\n",
      "Precision score: 24.39115646258503\n",
      "Confusion matrix: [[24 10  1 12  0  0  0]\n",
      " [11 21  3 23  0  0  0]\n",
      " [ 4  7  4  7  0  0  0]\n",
      " [10 15  1 38  0  0  0]\n",
      " [ 0  1  0  3  0  0  0]\n",
      " [ 0  1  0  1  0  0  0]\n",
      " [ 1  1  1  0  0  0  0]]\n",
      "Classification report:               precision    recall  f1-score   support\n",
      "\n",
      "           1       0.48      0.51      0.49        47\n",
      "           2       0.38      0.36      0.37        58\n",
      "           3       0.40      0.18      0.25        22\n",
      "           4       0.45      0.59      0.51        64\n",
      "           7       0.00      0.00      0.00         4\n",
      "           9       0.00      0.00      0.00         2\n",
      "          11       0.00      0.00      0.00         3\n",
      "\n",
      "    accuracy                           0.43       200\n",
      "   macro avg       0.24      0.24      0.23       200\n",
      "weighted avg       0.41      0.43      0.41       200\n",
      "\n"
     ]
    },
    {
     "name": "stderr",
     "output_type": "stream",
     "text": [
      "/usr/local/lib/python3.5/dist-packages/sklearn/metrics/_classification.py:1321: UserWarning: Note that pos_label (set to 'positive') is ignored when average != 'binary' (got 'macro'). You may use labels=[pos_label] to specify a single positive class.\n",
      "  % (pos_label, average), UserWarning)\n",
      "/usr/local/lib/python3.5/dist-packages/sklearn/metrics/_classification.py:1272: UndefinedMetricWarning: Precision is ill-defined and being set to 0.0 in labels with no predicted samples. Use `zero_division` parameter to control this behavior.\n",
      "  _warn_prf(average, modifier, msg_start, len(result))\n",
      "/usr/local/lib/python3.5/dist-packages/sklearn/metrics/_classification.py:1272: UndefinedMetricWarning: Precision and F-score are ill-defined and being set to 0.0 in labels with no predicted samples. Use `zero_division` parameter to control this behavior.\n",
      "  _warn_prf(average, modifier, msg_start, len(result))\n"
     ]
    }
   ],
   "source": [
    "#Predict from manufactured test and score\n",
    "RFpred = RFmod.predict(X_test)\n",
    "print('Accuracy score:', accuracy_score(y_test,RFpred)*100)\n",
    "print('F1 score:', f1_score(y_test, RFpred,pos_label='positive',average='macro')*100)\n",
    "print('Recall score:', recall_score(y_test, RFpred,pos_label='positive',average='macro')*100)\n",
    "print('Precision score:', precision_score(y_test, RFpred,pos_label='positive',average='macro')*100)\n",
    "print('Confusion matrix:', confusion_matrix(y_test, RFpred))\n",
    "print('Classification report:', classification_report(y_test, RFpred))"
   ]
  },
  {
   "cell_type": "code",
   "execution_count": 63,
   "metadata": {},
   "outputs": [
    {
     "data": {
      "image/png": "[encoded data removed]",
      "text/plain": [
       "<Figure size 432x288 with 1 Axes>"
      ]
     },
     "metadata": {
      "needs_background": "light"
     },
     "output_type": "display_data"
    },
    {
     "name": "stdout",
     "output_type": "stream",
     "text": [
      "['cav1', 'cav2', 'cav3', 'cav4', 'rmsd', 'engself', 'engwat']\n"
     ]
    }
   ],
   "source": [
    "featurelist=list(df.columns[1:])\n",
    "plt.bar(range(len(RFmod.feature_importances_)), RFmod.feature_importances_)\n",
    "plt.xlabel(\"feature\", fontsize=14)\n",
    "plt.ylabel(\"importance\", fontsize=14)\n",
    "plt.title(\"feature importance\", fontsize=18)\n",
    "plt.xticks(range(len(RFmod.feature_importances_)), featurelist,rotation='vertical')\n",
    "plt.show()\n",
    "print(featurelist)"
   ]
  },
  {
   "cell_type": "code",
   "execution_count": 65,
   "metadata": {},
   "outputs": [
    {
     "name": "stderr",
     "output_type": "stream",
     "text": [
      "/usr/local/lib/python3.5/dist-packages/sklearn/model_selection/_split.py:296: FutureWarning: Setting a random_state has no effect since shuffle is False. This will raise an error in 0.24. You should leave random_state to its default (None), or set shuffle=True.\n",
      "  FutureWarning\n",
      "/usr/local/lib/python3.5/dist-packages/sklearn/utils/validation.py:760: DataConversionWarning: A column-vector y was passed when a 1d array was expected. Please change the shape of y to (n_samples, ), for example using ravel().\n",
      "  y = column_or_1d(y, warn=True)\n",
      "/usr/local/lib/python3.5/dist-packages/sklearn/utils/validation.py:760: DataConversionWarning: A column-vector y was passed when a 1d array was expected. Please change the shape of y to (n_samples, ), for example using ravel().\n",
      "  y = column_or_1d(y, warn=True)\n",
      "/usr/local/lib/python3.5/dist-packages/sklearn/utils/validation.py:760: DataConversionWarning: A column-vector y was passed when a 1d array was expected. Please change the shape of y to (n_samples, ), for example using ravel().\n",
      "  y = column_or_1d(y, warn=True)\n",
      "/usr/local/lib/python3.5/dist-packages/sklearn/utils/validation.py:760: DataConversionWarning: A column-vector y was passed when a 1d array was expected. Please change the shape of y to (n_samples, ), for example using ravel().\n",
      "  y = column_or_1d(y, warn=True)\n",
      "/usr/local/lib/python3.5/dist-packages/sklearn/utils/validation.py:760: DataConversionWarning: A column-vector y was passed when a 1d array was expected. Please change the shape of y to (n_samples, ), for example using ravel().\n",
      "  y = column_or_1d(y, warn=True)\n",
      "/usr/local/lib/python3.5/dist-packages/sklearn/linear_model/_logistic.py:940: ConvergenceWarning: lbfgs failed to converge (status=1):\n",
      "STOP: TOTAL NO. of ITERATIONS REACHED LIMIT.\n",
      "\n",
      "Increase the number of iterations (max_iter) or scale the data as shown in:\n",
      "    https://scikit-learn.org/stable/modules/preprocessing.html\n",
      "Please also refer to the documentation for alternative solver options:\n",
      "    https://scikit-learn.org/stable/modules/linear_model.html#logistic-regression\n",
      "  extra_warning_msg=_LOGISTIC_SOLVER_CONVERGENCE_MSG)\n",
      "/usr/local/lib/python3.5/dist-packages/sklearn/utils/validation.py:760: DataConversionWarning: A column-vector y was passed when a 1d array was expected. Please change the shape of y to (n_samples, ), for example using ravel().\n",
      "  y = column_or_1d(y, warn=True)\n",
      "/usr/local/lib/python3.5/dist-packages/sklearn/utils/validation.py:760: DataConversionWarning: A column-vector y was passed when a 1d array was expected. Please change the shape of y to (n_samples, ), for example using ravel().\n",
      "  y = column_or_1d(y, warn=True)\n",
      "/usr/local/lib/python3.5/dist-packages/sklearn/linear_model/_logistic.py:940: ConvergenceWarning: lbfgs failed to converge (status=1):\n",
      "STOP: TOTAL NO. of ITERATIONS REACHED LIMIT.\n",
      "\n",
      "Increase the number of iterations (max_iter) or scale the data as shown in:\n",
      "    https://scikit-learn.org/stable/modules/preprocessing.html\n",
      "Please also refer to the documentation for alternative solver options:\n",
      "    https://scikit-learn.org/stable/modules/linear_model.html#logistic-regression\n",
      "  extra_warning_msg=_LOGISTIC_SOLVER_CONVERGENCE_MSG)\n",
      "/usr/local/lib/python3.5/dist-packages/sklearn/utils/validation.py:760: DataConversionWarning: A column-vector y was passed when a 1d array was expected. Please change the shape of y to (n_samples, ), for example using ravel().\n",
      "  y = column_or_1d(y, warn=True)\n",
      "/usr/local/lib/python3.5/dist-packages/sklearn/utils/validation.py:760: DataConversionWarning: A column-vector y was passed when a 1d array was expected. Please change the shape of y to (n_samples, ), for example using ravel().\n",
      "  y = column_or_1d(y, warn=True)\n",
      "/usr/local/lib/python3.5/dist-packages/sklearn/linear_model/_logistic.py:940: ConvergenceWarning: lbfgs failed to converge (status=1):\n",
      "STOP: TOTAL NO. of ITERATIONS REACHED LIMIT.\n",
      "\n",
      "Increase the number of iterations (max_iter) or scale the data as shown in:\n",
      "    https://scikit-learn.org/stable/modules/preprocessing.html\n",
      "Please also refer to the documentation for alternative solver options:\n",
      "    https://scikit-learn.org/stable/modules/linear_model.html#logistic-regression\n",
      "  extra_warning_msg=_LOGISTIC_SOLVER_CONVERGENCE_MSG)\n",
      "/usr/local/lib/python3.5/dist-packages/sklearn/utils/validation.py:760: DataConversionWarning: A column-vector y was passed when a 1d array was expected. Please change the shape of y to (n_samples, ), for example using ravel().\n",
      "  y = column_or_1d(y, warn=True)\n",
      "/usr/local/lib/python3.5/dist-packages/sklearn/model_selection/_validation.py:515: DataConversionWarning: A column-vector y was passed when a 1d array was expected. Please change the shape of y to (n_samples,), for example using ravel().\n",
      "  estimator.fit(X_train, y_train, **fit_params)\n",
      "/usr/local/lib/python3.5/dist-packages/sklearn/model_selection/_validation.py:515: DataConversionWarning: A column-vector y was passed when a 1d array was expected. Please change the shape of y to (n_samples,), for example using ravel().\n",
      "  estimator.fit(X_train, y_train, **fit_params)\n",
      "/usr/local/lib/python3.5/dist-packages/sklearn/model_selection/_validation.py:515: DataConversionWarning: A column-vector y was passed when a 1d array was expected. Please change the shape of y to (n_samples,), for example using ravel().\n",
      "  estimator.fit(X_train, y_train, **fit_params)\n",
      "/usr/local/lib/python3.5/dist-packages/sklearn/model_selection/_validation.py:515: DataConversionWarning: A column-vector y was passed when a 1d array was expected. Please change the shape of y to (n_samples,), for example using ravel().\n",
      "  estimator.fit(X_train, y_train, **fit_params)\n",
      "/usr/local/lib/python3.5/dist-packages/sklearn/model_selection/_validation.py:515: DataConversionWarning: A column-vector y was passed when a 1d array was expected. Please change the shape of y to (n_samples,), for example using ravel().\n",
      "  estimator.fit(X_train, y_train, **fit_params)\n",
      "/usr/local/lib/python3.5/dist-packages/sklearn/model_selection/_validation.py:515: DataConversionWarning: A column-vector y was passed when a 1d array was expected. Please change the shape of y to (n_samples,), for example using ravel().\n",
      "  estimator.fit(X_train, y_train, **fit_params)\n",
      "/usr/local/lib/python3.5/dist-packages/sklearn/model_selection/_validation.py:515: DataConversionWarning: A column-vector y was passed when a 1d array was expected. Please change the shape of y to (n_samples,), for example using ravel().\n",
      "  estimator.fit(X_train, y_train, **fit_params)\n",
      "/usr/local/lib/python3.5/dist-packages/sklearn/model_selection/_validation.py:515: DataConversionWarning: A column-vector y was passed when a 1d array was expected. Please change the shape of y to (n_samples,), for example using ravel().\n",
      "  estimator.fit(X_train, y_train, **fit_params)\n",
      "/usr/local/lib/python3.5/dist-packages/sklearn/model_selection/_validation.py:515: DataConversionWarning: A column-vector y was passed when a 1d array was expected. Please change the shape of y to (n_samples,), for example using ravel().\n",
      "  estimator.fit(X_train, y_train, **fit_params)\n",
      "/usr/local/lib/python3.5/dist-packages/sklearn/model_selection/_validation.py:515: DataConversionWarning: A column-vector y was passed when a 1d array was expected. Please change the shape of y to (n_samples,), for example using ravel().\n",
      "  estimator.fit(X_train, y_train, **fit_params)\n",
      "/usr/local/lib/python3.5/dist-packages/sklearn/model_selection/_validation.py:515: DataConversionWarning: A column-vector y was passed when a 1d array was expected. Please change the shape of y to (n_samples, ), for example using ravel().\n",
      "  estimator.fit(X_train, y_train, **fit_params)\n",
      "/usr/local/lib/python3.5/dist-packages/sklearn/model_selection/_validation.py:515: DataConversionWarning: A column-vector y was passed when a 1d array was expected. Please change the shape of y to (n_samples, ), for example using ravel().\n",
      "  estimator.fit(X_train, y_train, **fit_params)\n",
      "/usr/local/lib/python3.5/dist-packages/sklearn/model_selection/_validation.py:515: DataConversionWarning: A column-vector y was passed when a 1d array was expected. Please change the shape of y to (n_samples, ), for example using ravel().\n",
      "  estimator.fit(X_train, y_train, **fit_params)\n",
      "/usr/local/lib/python3.5/dist-packages/sklearn/model_selection/_validation.py:515: DataConversionWarning: A column-vector y was passed when a 1d array was expected. Please change the shape of y to (n_samples, ), for example using ravel().\n",
      "  estimator.fit(X_train, y_train, **fit_params)\n",
      "/usr/local/lib/python3.5/dist-packages/sklearn/model_selection/_validation.py:515: DataConversionWarning: A column-vector y was passed when a 1d array was expected. Please change the shape of y to (n_samples, ), for example using ravel().\n",
      "  estimator.fit(X_train, y_train, **fit_params)\n",
      "/usr/local/lib/python3.5/dist-packages/sklearn/model_selection/_validation.py:515: DataConversionWarning: A column-vector y was passed when a 1d array was expected. Please change the shape of y to (n_samples, ), for example using ravel().\n",
      "  estimator.fit(X_train, y_train, **fit_params)\n",
      "/usr/local/lib/python3.5/dist-packages/sklearn/model_selection/_validation.py:515: DataConversionWarning: A column-vector y was passed when a 1d array was expected. Please change the shape of y to (n_samples, ), for example using ravel().\n",
      "  estimator.fit(X_train, y_train, **fit_params)\n",
      "/usr/local/lib/python3.5/dist-packages/sklearn/model_selection/_validation.py:515: DataConversionWarning: A column-vector y was passed when a 1d array was expected. Please change the shape of y to (n_samples, ), for example using ravel().\n",
      "  estimator.fit(X_train, y_train, **fit_params)\n",
      "/usr/local/lib/python3.5/dist-packages/sklearn/model_selection/_validation.py:515: DataConversionWarning: A column-vector y was passed when a 1d array was expected. Please change the shape of y to (n_samples, ), for example using ravel().\n",
      "  estimator.fit(X_train, y_train, **fit_params)\n",
      "/usr/local/lib/python3.5/dist-packages/sklearn/model_selection/_validation.py:515: DataConversionWarning: A column-vector y was passed when a 1d array was expected. Please change the shape of y to (n_samples, ), for example using ravel().\n",
      "  estimator.fit(X_train, y_train, **fit_params)\n"
     ]
    },
    {
     "data": {
      "image/png": "[encoded data removed]",
      "text/plain": [
       "<Figure size 432x288 with 1 Axes>"
      ]
     },
     "metadata": {
      "needs_background": "light"
     },
     "output_type": "display_data"
    }
   ],
   "source": [
    "kfold = model_selection.KFold(n_splits=10, random_state=77)\n",
    "cv_LoR = model_selection.cross_val_score(LogisticRegression(max_iter=10000), X_train, y_train, cv=kfold, scoring='accuracy')\n",
    "cv_DT = model_selection.cross_val_score(DecisionTreeClassifier(criterion='gini', random_state = 77,max_depth=10), X_train, y_train, cv=kfold, scoring='accuracy')\n",
    "cv_RF = model_selection.cross_val_score(RandomForestClassifier(n_estimators=100), X_train, y_train, cv=kfold, scoring='accuracy')\n",
    "#cv_SVC = model_selection.cross_val_score(SVC(kernel='rbf',gamma=0.1), X_train, y_train, cv=kfold, scoring='accuracy')\n",
    "cv_KNN = model_selection.cross_val_score(KNeighborsClassifier(n_neighbors=7), X_train, y_train, cv=kfold, scoring='accuracy')\n",
    "results=[cv_LoR,cv_DT, cv_RF,cv_KNN]\n",
    "names=[\"LoR\",\"DT\",\"RF\",\"KNN\"]\n",
    "fig = plt.figure()\n",
    "fig.suptitle('Algorithm Comparison',fontsize=18)\n",
    "ax = fig.add_subplot(111)\n",
    "plt.boxplot(results)\n",
    "ax.set_xticklabels(names)\n",
    "plt.show()"
   ]
  },
  {
   "cell_type": "code",
   "execution_count": 66,
   "metadata": {},
   "outputs": [],
   "source": [
    "df['location']=df['location'].apply(lambda x: 2 if x==2 else 3)"
   ]
  },
  {
   "cell_type": "code",
   "execution_count": 67,
   "metadata": {},
   "outputs": [],
   "source": [
    "y = df[['location']]\n",
    "x = df[['cav1','cav2','cav3','cav4','rmsd','engself','engwat']]"
   ]
  },
  {
   "cell_type": "code",
   "execution_count": 68,
   "metadata": {},
   "outputs": [],
   "source": [
    "X_train, X_test, y_train, y_test = train_test_split(x, y, test_size=0.2, random_state=77)"
   ]
  },
  {
   "cell_type": "code",
   "execution_count": 69,
   "metadata": {},
   "outputs": [
    {
     "name": "stderr",
     "output_type": "stream",
     "text": [
      "/home/alia/.local/lib/python3.5/site-packages/ipykernel_launcher.py:3: DataConversionWarning: A column-vector y was passed when a 1d array was expected. Please change the shape of y to (n_samples,), for example using ravel().\n",
      "  This is separate from the ipykernel package so we can avoid doing imports until\n"
     ]
    },
    {
     "data": {
      "text/plain": [
       "1.0"
      ]
     },
     "execution_count": 69,
     "metadata": {},
     "output_type": "execute_result"
    }
   ],
   "source": [
    "#Train and fit Random Forest model.\n",
    "RFmod=RandomForestClassifier(n_estimators=100,random_state=77)\n",
    "RFmod.fit(X_train,y_train)\n",
    "#Score RF fit.\n",
    "RFmod.score(X_train, y_train)"
   ]
  },
  {
   "cell_type": "code",
   "execution_count": 70,
   "metadata": {},
   "outputs": [
    {
     "name": "stdout",
     "output_type": "stream",
     "text": [
      "Accuracy score: 69.0\n",
      "F1 score: 48.59890565412038\n",
      "Recall score: 51.65128703254007\n",
      "Precision score: 54.61956521739131\n",
      "Confusion matrix: [[  6  52]\n",
      " [ 10 132]]\n",
      "Classification report:               precision    recall  f1-score   support\n",
      "\n",
      "           2       0.38      0.10      0.16        58\n",
      "           3       0.72      0.93      0.81       142\n",
      "\n",
      "    accuracy                           0.69       200\n",
      "   macro avg       0.55      0.52      0.49       200\n",
      "weighted avg       0.62      0.69      0.62       200\n",
      "\n"
     ]
    },
    {
     "name": "stderr",
     "output_type": "stream",
     "text": [
      "/usr/local/lib/python3.5/dist-packages/sklearn/metrics/_classification.py:1321: UserWarning: Note that pos_label (set to 'positive') is ignored when average != 'binary' (got 'macro'). You may use labels=[pos_label] to specify a single positive class.\n",
      "  % (pos_label, average), UserWarning)\n"
     ]
    }
   ],
   "source": [
    "#Predict from manufactured test and score\n",
    "RFpred = RFmod.predict(X_test)\n",
    "print('Accuracy score:', accuracy_score(y_test,RFpred)*100)\n",
    "print('F1 score:', f1_score(y_test, RFpred,pos_label='positive',average='macro')*100)\n",
    "print('Recall score:', recall_score(y_test, RFpred,pos_label='positive',average='macro')*100)\n",
    "print('Precision score:', precision_score(y_test, RFpred,pos_label='positive',average='macro')*100)\n",
    "print('Confusion matrix:', confusion_matrix(y_test, RFpred))\n",
    "print('Classification report:', classification_report(y_test, RFpred))"
   ]
  },
  {
   "cell_type": "code",
   "execution_count": 71,
   "metadata": {},
   "outputs": [
    {
     "data": {
      "image/png": "[encoded data removed]",
      "text/plain": [
       "<Figure size 432x288 with 1 Axes>"
      ]
     },
     "metadata": {
      "needs_background": "light"
     },
     "output_type": "display_data"
    },
    {
     "name": "stdout",
     "output_type": "stream",
     "text": [
      "['cav1', 'cav2', 'cav3', 'cav4', 'rmsd', 'engself', 'engwat']\n"
     ]
    }
   ],
   "source": [
    "featurelist=list(df.columns[1:])\n",
    "plt.bar(range(len(RFmod.feature_importances_)), RFmod.feature_importances_)\n",
    "plt.xlabel(\"feature\", fontsize=14)\n",
    "plt.ylabel(\"importance\", fontsize=14)\n",
    "plt.title(\"feature importance\", fontsize=18)\n",
    "plt.xticks(range(len(RFmod.feature_importances_)), featurelist,rotation='vertical')\n",
    "plt.show()\n",
    "print(featurelist)"
   ]
  }
 ],
 "metadata": {
  "kernelspec": {
   "display_name": "Python 3",
   "language": "python",
   "name": "python3"
  },
  "language_info": {
   "codemirror_mode": {
    "name": "ipython",
    "version": 3
   },
   "file_extension": ".py",
   "mimetype": "text/x-python",
   "name": "python",
   "nbconvert_exporter": "python",
   "pygments_lexer": "ipython3",
   "version": "3.6.4"
  }
 },
 "nbformat": 4,
 "nbformat_minor": 4
}
