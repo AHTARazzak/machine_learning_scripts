{
 "cells": [
  {
   "cell_type": "code",
   "execution_count": 1,
   "metadata": {},
   "outputs": [],
   "source": [
    "import pandas as pd\n",
    "import numpy as np\n",
    "import matplotlib.pyplot as plt\n",
    "import seaborn as sns\n",
    "from sklearn import preprocessing\n",
    "from sklearn import model_selection\n",
    "from sklearn.model_selection import cross_val_score\n",
    "from sklearn.metrics import accuracy_score, f1_score, classification_report, precision_score, recall_score, confusion_matrix\n",
    "from sklearn import tree\n",
    "from sklearn.model_selection import train_test_split\n",
    "from imblearn.over_sampling import RandomOverSampler,SMOTE, ADASYN\n",
    "from sklearn.ensemble import RandomForestClassifier\n",
    "from sklearn.linear_model import LogisticRegression\n",
    "from sklearn.tree import DecisionTreeClassifier\n",
    "import os"
   ]
  },
  {
   "cell_type": "code",
   "execution_count": 4,
   "metadata": {},
   "outputs": [
    {
     "name": "stdout",
     "output_type": "stream",
     "text": [
      "<DirEntry '9684.23andme.7952'>\n",
      "<DirEntry '9672.ancestry.7943'>\n",
      "<DirEntry '9695.ancestry.7963'>\n",
      "<DirEntry '9691.ancestry.7957'>\n",
      "<DirEntry 'example_genome.txt'>\n",
      "<DirEntry '10.23andme.3'>\n",
      "<DirEntry '9685.23andme.7953'>\n",
      "<DirEntry '2556.23andme.7934'>\n",
      "<DirEntry '3540.23andme.7935'>\n",
      "<DirEntry '.9695.ancestry.7963.swp'>\n"
     ]
    }
   ],
   "source": [
    "directory='/home/a/Desktop/snpman/mysnps'\n",
    "\n",
    "for filex in os.scandir(directory):\n",
    "    print (filex[0])\n",
    "    \n",
    "    "
   ]
  }
 ],
 "metadata": {
  "kernelspec": {
   "display_name": "Python 3",
   "language": "python",
   "name": "python3"
  },
  "language_info": {
   "codemirror_mode": {
    "name": "ipython",
    "version": 3
   },
   "file_extension": ".py",
   "mimetype": "text/x-python",
   "name": "python",
   "nbconvert_exporter": "python",
   "pygments_lexer": "ipython3",
   "version": "3.6.4"
  }
 },
 "nbformat": 4,
 "nbformat_minor": 4
}
