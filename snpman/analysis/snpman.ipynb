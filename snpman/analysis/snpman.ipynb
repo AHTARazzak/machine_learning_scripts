{
 "cells": [
  {
   "cell_type": "code",
   "execution_count": 1,
   "metadata": {},
   "outputs": [],
   "source": [
    "import pandas as pd\n",
    "import numpy as np\n",
    "import matplotlib.pyplot as plt\n",
    "import seaborn as sns\n",
    "from sklearn import preprocessing\n",
    "from sklearn import model_selection\n",
    "from sklearn.model_selection import cross_val_score\n",
    "from sklearn.metrics import accuracy_score, f1_score, classification_report, precision_score, recall_score, confusion_matrix\n",
    "from sklearn import tree\n",
    "from sklearn.model_selection import train_test_split\n",
    "from imblearn.over_sampling import RandomOverSampler,SMOTE, ADASYN\n",
    "from sklearn.ensemble import RandomForestClassifier\n",
    "from sklearn.linear_model import LogisticRegression\n",
    "from sklearn.tree import DecisionTreeClassifier\n",
    "import os"
   ]
  },
  {
   "cell_type": "code",
   "execution_count": 2,
   "metadata": {},
   "outputs": [
    {
     "name": "stdout",
     "output_type": "stream",
     "text": [
      "<DirEntry '9207.23andme.7944'>\n",
      "<DirEntry '9207.23andme.7944'>\n",
      "<DirEntry 'example_genome.txt'>\n",
      "<DirEntry 'example_genome.txt'>\n",
      "<DirEntry '9679.23andme.7949'>\n",
      "<DirEntry '9679.23andme.7949'>\n",
      "<DirEntry '9667.23andme.7939'>\n",
      "<DirEntry '9667.23andme.7939'>\n",
      "<DirEntry '9672.23andme.7942'>\n",
      "<DirEntry '9672.23andme.7942'>\n",
      "<DirEntry '3540.23andme.7935'>\n",
      "<DirEntry '3540.23andme.7935'>\n",
      "<DirEntry '9668.23andme.7940'>\n",
      "<DirEntry '9668.23andme.7940'>\n",
      "<DirEntry '9674.23andme.7945'>\n",
      "<DirEntry '9674.23andme.7945'>\n",
      "<DirEntry '9680.23andme.7950'>\n",
      "<DirEntry '9680.23andme.7950'>\n"
     ]
    }
   ],
   "source": [
    "directory='/home/a/Desktop/snpman/mysnps'\n",
    "\n",
    "for filex in os.scandir(directory):\n",
    "    if (\"23andme\" in str(filex)) or (\"example\" in str(filex)):\n",
    "        print(filex)\n",
    "        with open(filex,'r') as oldfile, open(directory+(os.path.basename(filex))+\"new.csv\",'w') as newfile:\n",
    "            print(filex)\n",
    "            for line in oldfile:\n",
    "                if \"#\" not in line:\n",
    "                    newfile.write(line)\n",
    "    "
   ]
  },
  {
   "cell_type": "code",
   "execution_count": 3,
   "metadata": {},
   "outputs": [
    {
     "name": "stderr",
     "output_type": "stream",
     "text": [
      "/home/a/miniconda3/lib/python3.6/site-packages/IPython/core/interactiveshell.py:3063: DtypeWarning: Columns (1) have mixed types.Specify dtype option on import or set low_memory=False.\n",
      "  interactivity=interactivity, compiler=compiler, result=result)\n"
     ]
    }
   ],
   "source": [
    "directory='/home/a/Desktop/snpman'\n",
    "\n",
    "for filex in os.scandir(directory):\n",
    "    if \".txt\" in os.path.basename(filex):\n",
    "        gendf=pd.read_csv('../'+os.path.basename(filex), header=None, sep='\\t')\n",
    "        gendf.columns=['resid','chromosome','position','genotype']\n",
    "        if \"X\" and \"Y\" in gendf.chromosome.unique():\n",
    "            gender=\"M\"\n",
    "        else:\n",
    "            gender=\"F\"\n",
    "        gendffilter=gendf[gendf.chromosome==1]\n",
    "        gendffilter=gendffilter[gendffilter.genotype!=\"--\"]\n",
    "        with open('../example_genome.ped','w+') as pedfile:\n",
    "            for row in gendffilter.resid:\n",
    "                if row not in pedfile:\n",
    "                    pedfile.write(\"M \"+str(row)+\"\\n\")\n"
   ]
  },
  {
   "cell_type": "code",
   "execution_count": 6,
   "metadata": {},
   "outputs": [],
   "source": [
    "directory='/home/a/Desktop/snpman'\n",
    "for filex in os.scandir(directory):\n",
    "    if (\".csv\" in str(filex)):\n",
    "        gendf=pd.read_csv('../'+os.path.basename(filex), header=None, sep='\\t')\n",
    "        gendf.columns=['resid','chromosome','position','genotype']\n",
    "        if \"X\" and \"Y\" in gendf.chromosome.unique():\n",
    "            gender=\"M\"\n",
    "        else:\n",
    "            gender=\"F\"\n",
    "        gendffilter=gendf[gendf.chromosome==1]\n",
    "        gendffilter=gendffilter[gendffilter.genotype!=\"--\"]\n",
    "        with open('../haptypes.hap','a+') as hapfile:\n",
    "            for row in gendffilter.resid:\n",
    "                if row not in hapfile:\n",
    "                    hapfile.write(str(row)+\"\\n\")\n",
    "        "
   ]
  },
  {
   "cell_type": "code",
   "execution_count": 13,
   "metadata": {},
   "outputs": [
    {
     "name": "stdout",
     "output_type": "stream",
     "text": [
      "879255520\n"
     ]
    },
    {
     "data": {
      "text/plain": [
       "'\\nlength=length.translate(str.maketrans(\\'\\',\\'\\',\\'irs\\'))\\nprint(length)\\nemptyarray=[\" \"]*(int(length)+1)\\ncount=1\\nname=\"S_0\"+str(count)\\nemptyarray[0]=name\\nemptyarray[1]=name\\nemptyarray[2]=str(0)\\nemptyarray[3]=gender\\nfor id,geno in gendffilter.iterrows():\\n    #print(geno.resid,geno.genotype)\\n    new=\"\"\\n    for letter in geno.resid:\\n        if not(letter.isalpha()):\\n            new+=letter\\n    print(int(new))\\n    emptyarray[int(new)]=geno.genotype\\n'"
      ]
     },
     "execution_count": 13,
     "metadata": {},
     "output_type": "execute_result"
    }
   ],
   "source": [
    "gendf=pd.read_csv('../mysnpsexample_genome.txtnew.csv', header=None, sep='\\t')\n",
    "gendf.columns=['resid','chromosome','position','genotype']\n",
    "gendffilter=gendf[gendf.chromosome==1]\n",
    "gendffilter.resid=gendffilter.resid.map(lambda x: x.lstrip(\"irs\"))\n",
    "gendffilter=gendffilter.sort_values(by='resid',ascending=False)\n",
    "gendffilter.resid=pd.to_numeric(gendffilter.resid)\n",
    "gendffilter=gendffilter[gendffilter.genotype!=\"--\"]\n",
    "#print(gendffilter.head())\n",
    "#print(gendffilter.resid.count())\n",
    "#print(gendffilter.iloc[0][0])\n",
    "\n",
    "#print(gendffilter.head())\n",
    "length=(gendffilter.max()[0])\n",
    "#length=gendffilter.iloc[-1][0]\n",
    "print(length)\n",
    "'''\n",
    "length=length.translate(str.maketrans('','','irs'))\n",
    "print(length)\n",
    "emptyarray=[\" \"]*(int(length)+1)\n",
    "count=1\n",
    "name=\"S_0\"+str(count)\n",
    "emptyarray[0]=name\n",
    "emptyarray[1]=name\n",
    "emptyarray[2]=str(0)\n",
    "emptyarray[3]=gender\n",
    "for id,geno in gendffilter.iterrows():\n",
    "    #print(geno.resid,geno.genotype)\n",
    "    new=\"\"\n",
    "    for letter in geno.resid:\n",
    "        if not(letter.isalpha()):\n",
    "            new+=letter\n",
    "    print(int(new))\n",
    "    emptyarray[int(new)]=geno.genotype\n",
    "'''"
   ]
  }
 ],
 "metadata": {
  "kernelspec": {
   "display_name": "Python 3",
   "language": "python",
   "name": "python3"
  },
  "language_info": {
   "codemirror_mode": {
    "name": "ipython",
    "version": 3
   },
   "file_extension": ".py",
   "mimetype": "text/x-python",
   "name": "python",
   "nbconvert_exporter": "python",
   "pygments_lexer": "ipython3",
   "version": "3.6.4"
  }
 },
 "nbformat": 4,
 "nbformat_minor": 4
}
